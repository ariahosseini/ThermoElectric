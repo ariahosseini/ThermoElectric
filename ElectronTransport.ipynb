{
  "nbformat": 4,
  "nbformat_minor": 0,
  "metadata": {
    "colab": {
      "provenance": [],
      "collapsed_sections": [
        "AETxsUs1PQ9t",
        "PEevrL5JHYe0",
        "Ak5gWmafPeB8",
        "8JgXfWGeRiO4",
        "UbQiJEbcRo_2",
        "xMfkAItsRsDa",
        "K_z-AILclrsr",
        "NSlAtcvjlxQG",
        "7PSsTrPnlyJg",
        "ZIepCcZ3l0Ji",
        "8Je6nrR_Pt-X",
        "XwWOXbj-YGe-",
        "jhIzxmTsYL2O",
        "Ryh-0jP7YNTI",
        "pF7HsfYWYOZ1",
        "sxZSF50HYQl5",
        "39yUgJDjcN24",
        "LNlM5TuTdbpW",
        "UBwqqHtyPyph",
        "rd7TcU_pnLxp",
        "Zrj_VoNynNCM",
        "zrN2HMLhnN8Z",
        "fjRlDaZYnO-y",
        "d5Ksj_TBPzAY",
        "kMFi_91rmokW",
        "YpCas-3kmpX4",
        "1zOiD2oqmtlV",
        "fFsaGrixmsa4",
        "Wtc89n4Qllsj",
        "mA8unKjkoRCy",
        "eCEmh7BclvQJ",
        "4jgJP0eVpO19"
      ],
      "toc_visible": true,
      "authorship_tag": "ABX9TyMde4cJlbC5ISYkVOImB/uq",
      "include_colab_link": true
    },
    "kernelspec": {
      "name": "python3",
      "display_name": "Python 3"
    },
    "language_info": {
      "name": "python"
    }
  },
  "cells": [
    {
      "cell_type": "markdown",
      "metadata": {
        "id": "view-in-github",
        "colab_type": "text"
      },
      "source": [
        "<a href=\"https://colab.research.google.com/github/ariahosseini/ThermoElectric/blob/master/ElectronTransport.ipynb\" target=\"_parent\"><img src=\"https://colab.research.google.com/assets/colab-badge.svg\" alt=\"Open In Colab\"/></a>"
      ]
    },
    {
      "cell_type": "markdown",
      "source": [
        "## Utils"
      ],
      "metadata": {
        "id": "AETxsUs1PQ9t"
      }
    },
    {
      "cell_type": "code",
      "source": [
        "# Libs\n",
        "import os\n",
        "from itertools import product\n",
        "from copy import deepcopy\n",
        "from tqdm import tqdm\n",
        "from os.path import expanduser\n",
        "# Colab\n",
        "from google.colab import drive\n",
        "# Math\n",
        "import numpy as np\n",
        "from math import pi, atan, exp, gamma, sqrt\n",
        "from numpy.linalg import norm\n",
        "from scipy.interpolate import InterpolatedUnivariateSpline as Spline\n",
        "from scipy.interpolate import PchipInterpolator as Interpolator\n",
        "from scipy.special import jv, j1 as besselj\n",
        "from scipy.integrate import trapz\n",
        "# Vis\n",
        "import matplotlib.pyplot as plt\n",
        "import seaborn as sns"
      ],
      "metadata": {
        "id": "6Sb4I1UFQMzf"
      },
      "execution_count": null,
      "outputs": []
    },
    {
      "cell_type": "code",
      "source": [
        "# Set a style\n",
        "plt.style.use('seaborn')"
      ],
      "metadata": {
        "colab": {
          "base_uri": "https://localhost:8080/"
        },
        "id": "wrWum7VhxsyL",
        "outputId": "69524f38-90be-4253-e030-30562d9fa72c"
      },
      "execution_count": null,
      "outputs": [
        {
          "output_type": "stream",
          "name": "stderr",
          "text": [
            "<ipython-input-189-5e09d57c14a7>:2: MatplotlibDeprecationWarning: The seaborn styles shipped by Matplotlib are deprecated since 3.6, as they no longer correspond to the styles shipped by seaborn. However, they will remain available as 'seaborn-v0_8-<style>'. Alternatively, directly use the seaborn API instead.\n",
            "  plt.style.use('seaborn')\n"
          ]
        }
      ]
    },
    {
      "cell_type": "code",
      "source": [
        "# Set up Seaborn visualization style\n",
        "sns.set()\n",
        "sns.set_style(\"white\", {\"xtick.major.size\": 2, \"ytick.major.size\": 2})\n",
        "sns.set_context(\"paper\", font_scale=2, rc={\"lines.linewidth\": 4})"
      ],
      "metadata": {
        "id": "b3GmfDyAV470"
      },
      "execution_count": null,
      "outputs": []
    },
    {
      "cell_type": "code",
      "source": [
        "# Mount google drive\n",
        "drive.mount('/content/drive')"
      ],
      "metadata": {
        "colab": {
          "base_uri": "https://localhost:8080/"
        },
        "id": "jKnXkAIeohmk",
        "outputId": "26377990-9d20-4441-e02c-0716850161ed"
      },
      "execution_count": null,
      "outputs": [
        {
          "output_type": "stream",
          "name": "stdout",
          "text": [
            "Drive already mounted at /content/drive; to attempt to forcibly remount, call drive.mount(\"/content/drive\", force_remount=True).\n"
          ]
        }
      ]
    },
    {
      "cell_type": "code",
      "source": [
        "# Working directory\n",
        "os.chdir(\"/content/drive/MyDrive/ThermoElectric/Nanocomposite\")"
      ],
      "metadata": {
        "id": "Dxl432_PokXg"
      },
      "execution_count": null,
      "outputs": []
    },
    {
      "cell_type": "markdown",
      "source": [
        "Constants"
      ],
      "metadata": {
        "id": "1eczNXf3emle"
      }
    },
    {
      "cell_type": "code",
      "source": [
        "e2C = 1.6021765e-19   # Elementary charge in Coulombs\n",
        "eV2J = 1.60218e-19    # Convert eV to Joules\n",
        "h_bar = 6.582119e-16  # Reduced Planck constant in eV.s\n",
        "k_B = 8.617330350e-5  # Boltzmann constant in eV/K\n",
        "ang2meter = 1e-10     # Convert Angestrom to meter\n",
        "permittivity_vacuum = 8.854187817e-12  # Permittivity in vacuum (F/m)\n",
        "electron_mass = 9.10938356e-31  # Electron rest mass (kg)"
      ],
      "metadata": {
        "id": "Cv_d7dssTXsQ"
      },
      "execution_count": null,
      "outputs": []
    },
    {
      "cell_type": "markdown",
      "source": [
        "## Funcs"
      ],
      "metadata": {
        "id": "9NLgfrDlPUX0"
      }
    },
    {
      "cell_type": "markdown",
      "source": [
        "### Fermi Integral"
      ],
      "metadata": {
        "id": "PEevrL5JHYe0"
      }
    },
    {
      "cell_type": "code",
      "source": [
        "def fermi(aj, eta):\n",
        "\n",
        "    \"\"\"\n",
        "    Python version of the half-order Fermi-Dirac integral evaluation.\n",
        "    Based on the publication:\n",
        "    'The accurate numerical evaluation of half-order Fermi-Dirac integrals'\n",
        "    by N.Mohankumar & A.Natarajan, Physica Status Solidi(b), vol.188, 1995, pp. 635-644.\n",
        "\n",
        "    Parameters:\n",
        "        aj (float): The value corresponding to j= -1/2 or 1/2 or 3/2 or 5/2 in the integral definition.\n",
        "        eta (float): Input parameter for the integral often between -5 to 25.\n",
        "\n",
        "    Returns:\n",
        "        fdp (float): The calculated Fermi-Dirac integral value.\n",
        "        nmax (int): The number of trapezoidal points used.\n",
        "        npole (int): The number of poles used in the correction.\n",
        "    \"\"\"\n",
        "\n",
        "    range_val = 8.0\n",
        "    if eta > 0:\n",
        "        range_val = sqrt(eta + 64.0)\n",
        "\n",
        "    h = 0.5\n",
        "    nmax = int(range_val / h)\n",
        "    summation = 0.0\n",
        "\n",
        "    if aj == -0.5:\n",
        "        summation = 1.0 / (1.0 + exp(-eta))\n",
        "\n",
        "    for i in range(1, nmax + 1):\n",
        "        u = i * h\n",
        "        ff = 2.0 * (u ** (2.0 * aj + 1.0)) / (1.0 + exp(u ** 2 - eta))\n",
        "        summation += ff\n",
        "\n",
        "    pol = 0.0\n",
        "    npole = 0\n",
        "    bk1 = 0\n",
        "\n",
        "    while bk1 <= 14.0 * pi:\n",
        "        npole += 1\n",
        "        bk = (2 * npole - 1) * pi\n",
        "        rho = sqrt(eta * eta + bk * bk)\n",
        "        tk = 0\n",
        "\n",
        "        if eta < 0:\n",
        "            tk = -aj * (atan(-bk / eta) + pi)\n",
        "        elif eta == 0:\n",
        "            tk = 0.5 * pi * aj\n",
        "        elif eta > 0:\n",
        "            tk = aj * atan(bk / eta)\n",
        "\n",
        "        rk = -(rho ** aj)\n",
        "        if eta < 0:\n",
        "            rk = -rk\n",
        "\n",
        "        ak = (2.0 * pi / h) * sqrt(0.5 * (rho + eta))\n",
        "        bk1 = (2.0 * pi / h) * sqrt(0.5 * (rho - eta))\n",
        "\n",
        "        if bk1 <= 14.0 * pi:\n",
        "            gama = exp(bk1)\n",
        "            t1 = gama * np.sin(ak + tk) - np.sin(tk)\n",
        "            t2 = 1.0 - 2.0 * gama * np.cos(ak) + gama * gama\n",
        "            pol += 4.0 * pi * rk * t1 / t2\n",
        "\n",
        "    fdp = summation * h + pol\n",
        "\n",
        "    # print(\"Fermi-Dirac Integral Value:\", fdp / gamma(1 + aj))\n",
        "    # print(\"Number of trapezoidal points & number of poles:\", nmax, npole - 1)\n",
        "\n",
        "    return fdp / gamma(1 + aj)"
      ],
      "metadata": {
        "id": "5XW8z-T0HW_X"
      },
      "execution_count": null,
      "outputs": []
    },
    {
      "cell_type": "markdown",
      "source": [
        "### Accumulation Function"
      ],
      "metadata": {
        "id": "Ak5gWmafPeB8"
      }
    },
    {
      "cell_type": "code",
      "source": [
        "def accum(accmap, a, func=None, size=None, fill_value=0, dtype=None):\n",
        "\n",
        "    \"\"\"\n",
        "    An accumulation function similar to Matlab's `accumarray` function.\n",
        "\n",
        "    Parameters\n",
        "    ----------\n",
        "    accmap : ndarray\n",
        "        This is the \"accumulation map\".  It maps input (i.e. indices into\n",
        "        `a`) to their destination in the output array.  The first `a.ndim`\n",
        "        dimensions of `accmap` must be the same as `a.shape`.  That is,\n",
        "        `accmap.shape[:a.ndim]` must equal `a.shape`.  For example, if `a`\n",
        "        has shape (15,4), then `accmap.shape[:2]` must equal (15,4).  In this\n",
        "        case `accmap[i,j]` gives the index into the output array where\n",
        "        element (i,j) of `a` is to be accumulated.  If the output is, say,\n",
        "        a 2D, then `accmap` must have shape (15,4,2).  The value in the\n",
        "        last dimension give indices into the output array. If the output is\n",
        "        1D, then the shape of `accmap` can be either (15,4) or (15,4,1)\n",
        "    a : ndarray\n",
        "        The input data to be accumulated.\n",
        "    func : callable or None\n",
        "        The accumulation function.  The function will be passed a list\n",
        "        of values from `a` to be accumulated.\n",
        "        If None, numpy.sum is assumed.\n",
        "    size : ndarray or None\n",
        "        The size of the output array.  If None, the size will be determined\n",
        "        from `accmap`.\n",
        "    fill_value : scalar\n",
        "        The default value for elements of the output array.\n",
        "    dtype : numpy data type, or None\n",
        "        The data type of the output array.  If None, the data type of\n",
        "        `a` is used.\n",
        "\n",
        "    Returns\n",
        "    -------\n",
        "    out : ndarray\n",
        "        The accumulated results.\n",
        "\n",
        "        The shape of `out` is `size` if `size` is given.  Otherwise the\n",
        "        shape is determined by the (lexicographically) largest indices of\n",
        "        the output found in `accmap`.\n",
        "\n",
        "\n",
        "    Examples\n",
        "    --------\n",
        "    >>> from numpy import array, prod\n",
        "    >>> a = array([[1,2,3],[4,-1,6],[-1,8,9]])\n",
        "    >>> a\n",
        "    array([[ 1,  2,  3],\n",
        "           [ 4, -1,  6],\n",
        "           [-1,  8,  9]])\n",
        "    >>> # Sum the diagonals.\n",
        "    >>> accmap = array([[0,1,2],[2,0,1],[1,2,0]])\n",
        "    >>> s = accum(accmap, a)\n",
        "    array([9, 7, 15])\n",
        "    >>> # A 2D output, from sub-arrays with shapes and positions like this:\n",
        "    >>> # [ (2,2) (2,1)]\n",
        "    >>> # [ (1,2) (1,1)]\n",
        "    >>> accmap = array([\n",
        "            [[0,0],[0,0],[0,1]],\n",
        "            [[0,0],[0,0],[0,1]],\n",
        "            [[1,0],[1,0],[1,1]],\n",
        "        ])\n",
        "    >>> # Accumulate using a product.\n",
        "    >>> accum(accmap, a, func=prod, dtype=float)\n",
        "    array([[ -8.,  18.],\n",
        "           [ -8.,   9.]])\n",
        "    >>> # Same accmap, but create an array of lists of values.\n",
        "    >>> accum(accmap, a, func=lambda x: x, dtype='O')\n",
        "    array([[[1, 2, 4, -1], [3, 6]],\n",
        "           [[-1, 8], [9]]], dtype=object)\n",
        "    \"\"\"\n",
        "\n",
        "    # Check for bad arguments and handle the defaults.\n",
        "    if accmap.shape[:a.ndim] != a.shape:\n",
        "        raise ValueError(\"The initial dimensions of accmap must be the same as a.shape\")\n",
        "    if func is None:\n",
        "        func = np.sum\n",
        "    if dtype is None:\n",
        "        dtype = a.dtype\n",
        "    if accmap.shape == a.shape:\n",
        "        accmap = np.expand_dims(accmap, -1)\n",
        "    adims = tuple(range(a.ndim))\n",
        "    if size is None:\n",
        "        size = 1 + np.squeeze(np.apply_over_axes(np.max, accmap, axes=adims))\n",
        "    size = np.atleast_1d(size)\n",
        "\n",
        "    # Create an array of python lists of values.\n",
        "    vals = np.empty(size, dtype='O')\n",
        "    for s in product(*[range(k) for k in size]):\n",
        "        vals[s] = []\n",
        "    for s in product(*[range(k) for k in a.shape]):\n",
        "        indx = tuple(accmap[s])\n",
        "        val = a[s]\n",
        "        vals[indx].append(val)\n",
        "\n",
        "    # Create the output array.\n",
        "    out = np.empty(size, dtype=dtype)\n",
        "    for s in product(*[range(k) for k in size]):\n",
        "        if vals[s] == []:\n",
        "            out[s] = fill_value\n",
        "        else:\n",
        "            out[s] = func(vals[s])\n",
        "\n",
        "    return out"
      ],
      "metadata": {
        "id": "16_FH1MgQKde"
      },
      "execution_count": null,
      "outputs": []
    },
    {
      "cell_type": "markdown",
      "source": [
        "### BTE Solver"
      ],
      "metadata": {
        "id": "DkhNMRwzPeGD"
      }
    },
    {
      "cell_type": "markdown",
      "source": [
        "#### Electrical Properties"
      ],
      "metadata": {
        "id": "8JgXfWGeRiO4"
      }
    },
    {
      "cell_type": "code",
      "source": [
        "def electrical_properties(E: np.ndarray, DoS: np.ndarray, vg: np.ndarray, Ef: np.ndarray,\n",
        "                          dfdE: np.ndarray, temp: np.ndarray, tau: np.ndarray) -> dict:\n",
        "    \"\"\"\n",
        "    Computes the electronic properties using the Boltzmann Transport Equation (BTE).\n",
        "\n",
        "    References:\n",
        "    -----------\n",
        "    - Changwook Jeong and Mark S. Lundstrom, \"Near-equilibrium Transport: Fundamentals and Applications\"\n",
        "    - Gang Chen, \"Nanoscale Energy Transport and Conversion: A Parallel Treatment of Electrons, Molecules, Phonons, and Photons\"\n",
        "\n",
        "    Parameters:\n",
        "    -----------\n",
        "    E : np.ndarray\n",
        "        Energy range (eV)\n",
        "    DoS : np.ndarray\n",
        "        Density of states (states/eV)\n",
        "    vg : np.ndarray\n",
        "        Group velocity (m/s)\n",
        "    Ef : np.ndarray\n",
        "        Fermi level (eV)\n",
        "    dfdE : np.ndarray\n",
        "        Fermi-Dirac derivative\n",
        "    temp : np.ndarray\n",
        "        Temperature (K)\n",
        "    tau : np.ndarray\n",
        "        Relaxation time (s)\n",
        "\n",
        "    Returns:\n",
        "    --------\n",
        "    dict\n",
        "        Contains electrical conductivity, Seebeck coefficient, power factor, thermal conductivity, and Lorenz number.\n",
        "    \"\"\"\n",
        "\n",
        "    # Precompute useful terms\n",
        "    X = DoS * vg ** 2 * dfdE  # χ (Chi)\n",
        "    Y = (E - Ef.T) * X  # Γ (Gamma)\n",
        "    Z = (E - Ef.T) * Y  # ζ (Zeta)\n",
        "\n",
        "    # Transport properties\n",
        "    Sigma = -np.trapz(X * tau, E, axis=1) / 3 * e2C  # Electrical conductivity (S/m)\n",
        "    S = -np.trapz(Y * tau, E, axis=1) / np.trapz(X * tau, E, axis=1) / temp  # Seebeck coefficient (V/K)\n",
        "    PF = Sigma * S ** 2  # Power factor (W/K²·m)\n",
        "    ke = -1 * (np.trapz(Z * tau, E, axis=1) - np.trapz(Y * tau, E, axis=1) ** 2 /\n",
        "               np.trapz(X * tau, E, axis=1)) / temp / 3 * e2C  # Thermal conductivity (W/m·K)\n",
        "\n",
        "    # Lorenz number\n",
        "    delta = np.trapz(X * tau * E, E, axis=1) / np.trapz(X * tau, E, axis=1)  # First moment of current\n",
        "    delta_ = np.trapz(X * tau * E ** 2, E, axis=1) / np.trapz(X * tau, E, axis=1)  # Second moment of current\n",
        "    Lorenz = (delta_ - delta ** 2) / temp**2  # Lorenz number (WΩ/K²)\n",
        "\n",
        "    return {\n",
        "        'Electrical_conductivity': Sigma,\n",
        "        'Seebeck_coefficient': S[0],\n",
        "        'Power_factor': PF[0],\n",
        "        'Thermal_conductivity': ke[0],\n",
        "        'Lorenz_number': Lorenz[0]\n",
        "    }"
      ],
      "metadata": {
        "id": "JVc3nIwxSbQZ"
      },
      "execution_count": null,
      "outputs": []
    },
    {
      "cell_type": "markdown",
      "source": [
        "#### Filtering Effect"
      ],
      "metadata": {
        "id": "UbQiJEbcRo_2"
      }
    },
    {
      "cell_type": "code",
      "source": [
        "\n",
        "def filtering_effect(Uo: np.ndarray, E: np.ndarray, DoS: np.ndarray, vg: np.ndarray, Ef: np.ndarray,\n",
        "                     dfdE: np.ndarray, temp: np.ndarray, tau_bulk: np.ndarray) -> dict:\n",
        "    \"\"\"\n",
        "    Calculates the electrical properties under ideal filtering conditions, where all electrons\n",
        "    up to a cutoff energy Uo are blocked.\n",
        "\n",
        "    Parameters:\n",
        "    -----------\n",
        "    Uo : np.ndarray\n",
        "        Barrier height (eV)\n",
        "    E : np.ndarray\n",
        "        Energy range (eV)\n",
        "    DoS : np.ndarray\n",
        "        Density of states (states/eV)\n",
        "    vg : np.ndarray\n",
        "        Group velocity (m/s)\n",
        "    Ef : np.ndarray\n",
        "        Fermi level (eV)\n",
        "    dfdE : np.ndarray\n",
        "        Fermi-Dirac derivative\n",
        "    temp : np.ndarray\n",
        "        Temperature (K)\n",
        "    tau_bulk : np.ndarray\n",
        "        Bulk relaxation time (s)\n",
        "\n",
        "    Returns:\n",
        "    --------\n",
        "    dict\n",
        "        Contains electrical conductivity and Seebeck coefficient.\n",
        "    \"\"\"\n",
        "    tau_Uo = np.ones(E.shape[1])\n",
        "    Conductivity, Seebeck = [], []\n",
        "\n",
        "    for uo in Uo:\n",
        "        tau_filtered = deepcopy(tau_Uo)\n",
        "        tau_filtered[E[0] < uo] = 0  # Apply ideal filtering\n",
        "\n",
        "        tau = matthiessen(E, tau_filtered, tau_bulk)  # Compute total relaxation time\n",
        "        coefficients = electrical_properties(E, DoS, vg, Ef, dfdE, temp, tau)\n",
        "\n",
        "        Conductivity.append(coefficients['Electrical_conductivity'])\n",
        "        Seebeck.append(coefficients['Seebeck_coefficient'])\n",
        "\n",
        "    return {\n",
        "        'Electrical_conductivity': np.array(Conductivity),\n",
        "        'Seebeck_coefficient': np.array(Seebeck)\n",
        "    }"
      ],
      "metadata": {
        "id": "toolBakxScAN"
      },
      "execution_count": null,
      "outputs": []
    },
    {
      "cell_type": "markdown",
      "source": [
        "#### Phenomenological Model"
      ],
      "metadata": {
        "id": "xMfkAItsRsDa"
      }
    },
    {
      "cell_type": "code",
      "source": [
        "def phenomenological(Uo: np.ndarray, tau_o: np.ndarray, E: np.ndarray, DoS: np.ndarray, vg: np.ndarray,\n",
        "                     Ef: np.ndarray, dfdE: np.ndarray, temp: np.ndarray, tau_bulk: np.ndarray) -> dict:\n",
        "    \"\"\"\n",
        "    Calculates the electrical properties with phenomenological filtering, where a lifetime tau_o\n",
        "    is imposed up to a cutoff energy Uo.\n",
        "\n",
        "    Parameters:\n",
        "    -----------\n",
        "    Uo : np.ndarray\n",
        "        Barrier height (eV)\n",
        "    tau_o : np.ndarray\n",
        "        Phenomenological lifetime (s)\n",
        "    E : np.ndarray\n",
        "        Energy range (eV)\n",
        "    DoS : np.ndarray\n",
        "        Density of states (states/eV)\n",
        "    vg : np.ndarray\n",
        "        Group velocity (m/s)\n",
        "    Ef : np.ndarray\n",
        "        Fermi level (eV)\n",
        "    dfdE : np.ndarray\n",
        "        Fermi-Dirac derivative\n",
        "    temp : np.ndarray\n",
        "        Temperature (K)\n",
        "    tau_bulk : np.ndarray\n",
        "        Bulk relaxation time (s)\n",
        "\n",
        "    Returns:\n",
        "    --------\n",
        "    dict\n",
        "        Contains electrical conductivity and Seebeck coefficient.\n",
        "    \"\"\"\n",
        "    tau_Uo = np.ones(E.shape[1])\n",
        "    Conductivity, Seebeck = [], []\n",
        "\n",
        "    for tau in tau_o:\n",
        "        for uo in Uo:\n",
        "            tau_ph = deepcopy(tau_Uo)\n",
        "            tau_ph[E[0] < uo] = tau  # Apply phenomenological filtering\n",
        "\n",
        "            total_tau = matthiessen(E, tau_ph, tau_bulk)\n",
        "            coefficients = electrical_properties(E, DoS, vg, Ef, dfdE, temp, total_tau)\n",
        "\n",
        "            Conductivity.append(coefficients['Electrical_conductivity'])\n",
        "            Seebeck.append(coefficients['Seebeck_coefficient'])\n",
        "\n",
        "    return {\n",
        "        'Electrical_conductivity': np.array(Conductivity).reshape(len(tau_o), len(Uo)),\n",
        "        'Seebeck_coefficient': np.array(Seebeck).reshape(len(tau_o), len(Uo))\n",
        "    }"
      ],
      "metadata": {
        "id": "lgZEMXR1Qj-3"
      },
      "execution_count": null,
      "outputs": []
    },
    {
      "cell_type": "markdown",
      "source": [
        "\n",
        "### Extra Functions"
      ],
      "metadata": {
        "id": "xSYcvL4ePeyG"
      }
    },
    {
      "cell_type": "markdown",
      "source": [
        "#### Band Gap"
      ],
      "metadata": {
        "id": "K_z-AILclrsr"
      }
    },
    {
      "cell_type": "code",
      "source": [
        "def band_gap(Eg_0: float, A: float, B: float, temp: np.ndarray = None) -> np.ndarray:\n",
        "    \"\"\"\n",
        "    Estimate the temperature-dependent band gap using the relation:\n",
        "    Eg(T) = Eg(T=0) - A * T^2 / (T + B)\n",
        "\n",
        "    Reference: \"Properties of Advanced Semiconductor Materials\" by Michael E. Levinshtein.\n",
        "\n",
        "    Parameters\n",
        "    ----------\n",
        "    Eg_0: float\n",
        "        Band gap at 0 Kelvin.\n",
        "    A: float\n",
        "        Material-dependent constant.\n",
        "    B: float\n",
        "        Material-dependent constant.\n",
        "    temp: np.ndarray, optional\n",
        "        Temperature range (default: 300K to 1300K with steps of 100K).\n",
        "\n",
        "    Returns\n",
        "    -------\n",
        "    np.ndarray\n",
        "        Temperature-dependent band gap.\n",
        "    \"\"\"\n",
        "    T = temp if temp is not None else temperature()\n",
        "    return Eg_0 - A * (T ** 2) / (T + B)"
      ],
      "metadata": {
        "id": "flHjAMEqWWC1"
      },
      "execution_count": null,
      "outputs": []
    },
    {
      "cell_type": "markdown",
      "source": [
        "#### Density of State"
      ],
      "metadata": {
        "id": "NSlAtcvjlxQG"
      }
    },
    {
      "cell_type": "code",
      "source": [
        "def analytical_dos(energy_range: np.ndarray, m_eff: float, alpha: np.ndarray) -> dict:\n",
        "    \"\"\"\n",
        "    Compute the electron density of states (DoS) for parabolic and non-parabolic bands.\n",
        "\n",
        "    Parameters\n",
        "    ----------\n",
        "    energy_range: np.ndarray\n",
        "        Range of electron energies.\n",
        "    m_eff: float\n",
        "        Effective mass of the electron.\n",
        "    alpha: np.ndarray\n",
        "        Non-parabolicity parameter.\n",
        "\n",
        "    Returns\n",
        "    -------\n",
        "    dict\n",
        "        DoS for both parabolic and non-parabolic cases.\n",
        "    \"\"\"\n",
        "\n",
        "    # Non-parabolic and parabolic DoS calculation\n",
        "    dos_nonparabolic = (1 / np.pi ** 2) * np.sqrt(2 * energy_range * (1 + energy_range * alpha.T)) * \\\n",
        "                       (m_eff ** (3/2)) / (h_bar ** 3) * (1 + 2 * energy_range * alpha.T) / e2C ** (3/2)\n",
        "\n",
        "    dos_parabolic = np.sqrt(energy_range) / (np.pi ** 2) * np.sqrt(2) / (h_bar ** 3) * \\\n",
        "                    m_eff ** (3 / 2) / e2C ** (3 / 2)\n",
        "\n",
        "    return {'DoS_nonparabolic': dos_nonparabolic, 'DoS_parabolic': dos_parabolic}"
      ],
      "metadata": {
        "id": "j0ZrQbboWWF6"
      },
      "execution_count": null,
      "outputs": []
    },
    {
      "cell_type": "markdown",
      "source": [
        "#### Fermi Level"
      ],
      "metadata": {
        "id": "7PSsTrPnlyJg"
      }
    },
    {
      "cell_type": "code",
      "source": [
        "def fermi_level(carrier: np.ndarray, energy: np.ndarray, density: np.ndarray, Nc: float = None,\n",
        "                A: float = None, temp: np.ndarray = None) -> np.ndarray:\n",
        "    \"\"\"\n",
        "    Estimate the Fermi level using Joyce-Dixon approximation.\n",
        "    Ref: \"Principles of Semiconductor Devices\" by Sima Dimitrijev\n",
        "\n",
        "    Parameters\n",
        "    ----------\n",
        "    carrier: np.ndarray\n",
        "        Carrier concentration.\n",
        "    energy: np.ndarray\n",
        "        Energy levels.\n",
        "    density: np.ndarray\n",
        "        Density of states.\n",
        "    Nc: float, optional\n",
        "        Effective density of states in the conduction band.\n",
        "    A: float, optional\n",
        "        Experimentally fitted parameter (Nc ~ A * T^(3/2)).\n",
        "    temp: np.ndarray, optional\n",
        "        Temperature range.\n",
        "\n",
        "    Returns\n",
        "    -------\n",
        "    np.ndarray\n",
        "        Carrier concentration and Fermi level at each temperature.\n",
        "    \"\"\"\n",
        "    T = temp if temp is not None else temperature()\n",
        "\n",
        "    if Nc is None and A is None:\n",
        "        raise ValueError(\"Either Nc or A must be provided.\")\n",
        "\n",
        "    Nc = Nc if Nc is not None else A * T ** (3 / 2)\n",
        "\n",
        "    # Joyce-Dixon approximation\n",
        "    JD_CC = np.log(carrier / Nc) + carrier / Nc / np.sqrt(8) - (3 / 16 - np.sqrt(3) / 9) * (carrier / Nc) ** 2\n",
        "    fermi_energy = k_B * T * JD_CC\n",
        "    f, _ = fermi_distribution(energy, fermi_energy, temp=T)\n",
        "\n",
        "    carrier_concentration = np.trapz(density * f, energy, axis=1)\n",
        "\n",
        "    return np.stack((carrier_concentration, fermi_energy[0]))"
      ],
      "metadata": {
        "id": "89_iWlHFWWJL"
      },
      "execution_count": null,
      "outputs": []
    },
    {
      "cell_type": "code",
      "source": [
        "def fermi_self_consistent(carrier: np.ndarray, temp: np.ndarray, energy: np.ndarray,\n",
        "                          density: np.ndarray, fermi_guess: np.ndarray) -> np.ndarray:\n",
        "    \"\"\"\n",
        "    Perform self-consistent calculation of the Fermi level using a given carrier concentration.\n",
        "    Defaults: 4000 sampling points in energy range from Ef(JD)-0.4 [eV] up to\n",
        "    Ef(JD)+0.2 [eV] - This looks reasonable in most cases.\n",
        "    The index is printed out if indices reach the extreme value of (0) or (4000), increase energy range.\n",
        "\n",
        "    Parameters\n",
        "    ----------\n",
        "    carrier: np.ndarray\n",
        "        Carrier concentration.\n",
        "    energy: np.ndarray\n",
        "        Energy levels.\n",
        "    density: np.ndarray\n",
        "        Density of states.\n",
        "    fermi_guess: np.ndarray\n",
        "        Initial Fermi level guess from Joyce-Dixon approximation.\n",
        "    temp: np.ndarray\n",
        "        Temperature range.\n",
        "\n",
        "    Returns\n",
        "    -------\n",
        "    np.ndarray\n",
        "        Carrier concentration and Fermi level.\n",
        "    \"\"\"\n",
        "    fermi = np.linspace(fermi_guess[1] - 0.4, fermi_guess[1] - 0.2, 4000)\n",
        "    result = np.empty((np.shape(temp)[1], np.shape(fermi)[0]))\n",
        "\n",
        "    for j, t in tqdm(enumerate(temp[0]), total=len(temp[0]), desc=\"Processing temperatures\"):\n",
        "        for i, f in tqdm(enumerate(fermi[:, j]), total=len(fermi[:, j]), desc=f\"Processing fermi levels for temp {t} K\", leave=False):\n",
        "            f_dist, _ = fermi_distribution(energy, np.array([f]), np.array([t]))\n",
        "            result[j, i] = np.trapz(density * f_dist, energy, axis=1)\n",
        "    diff = np.tile(carrier.T, (1, np.shape(fermi)[0])) - abs(result)\n",
        "    min_idx = np.argmin(np.abs(diff), axis=1)\n",
        "\n",
        "    if np.all(np.array(min_idx) == 0) or np.all(np.array(min_idx) == int(np.shape(fermi)[0]-1)):\n",
        "            print(f\"Self-consistent Fermi Level Diverged! Please increase energy range or number of sampling points\")\n",
        "\n",
        "    fermi_levels = []\n",
        "\n",
        "    for i in range(np.shape(temp)[1]):\n",
        "      fermi_levels.append(fermi[min_idx[i], i])\n",
        "\n",
        "    return np.stack((carrier[0], fermi_levels))"
      ],
      "metadata": {
        "id": "z2RWBztJWWMg"
      },
      "execution_count": null,
      "outputs": []
    },
    {
      "cell_type": "markdown",
      "source": [
        "#### Group Velocity"
      ],
      "metadata": {
        "id": "ZIepCcZ3l0Ji"
      }
    },
    {
      "cell_type": "code",
      "source": [
        "def group_velocity(kpoints: np.ndarray, energy_kp: np.ndarray, energy: np.ndarray) -> np.ndarray:\n",
        "    \"\"\"\n",
        "    Compute group velocity from band structure using DFT data.\n",
        "    Reciprocal lattice vector is required.\n",
        "    Linear BTE needs single band data.\n",
        "\n",
        "    Parameters\n",
        "    ----------\n",
        "    kpoints: np.ndarray\n",
        "        Wave vectors.\n",
        "    energy_kp: np.ndarray\n",
        "        Energy for each wave vector.\n",
        "    energy: np.ndarray\n",
        "        Energy range.\n",
        "\n",
        "    Returns\n",
        "    -------\n",
        "    np.ndarray\n",
        "        Group velocity.\n",
        "    \"\"\"\n",
        "\n",
        "    dE_dk = np.zeros_like(energy_kp)\n",
        "    for i in range(1, len(energy_kp) - 1):\n",
        "        h1 = kpoints[i] - kpoints[i-1]   # Step size between k[i] and k[i-1]\n",
        "        h2 = kpoints[i+1] - kpoints[i]   # Step size between k[i+1] and k[i]\n",
        "\n",
        "        dE_dk[i] = (energy_kp[i+1] - energy_kp[i-1]) / (h1 + h2) + \\\n",
        "                   ((energy_kp[i+1] - energy_kp[i]) * h1 - (energy_kp[i] - energy_kp[i-1]) * h2) / (h1 * h2 * (h1 + h2))\n",
        "\n",
        "    # Forward difference for the first point\n",
        "    h1 = kpoints[1] - kpoints[0]\n",
        "    h2 = kpoints[2] - kpoints[1]\n",
        "    dE_dk[0] = (energy_kp[1] - energy_kp[0]) / h1 + ((energy_kp[2] - energy_kp[1]) * (h1 + h2) - (energy_kp[1] - energy_kp[0]) * h2) / (h1 * (h1 + h2))\n",
        "\n",
        "    # Backward difference for the last point\n",
        "    h1 = kpoints[-1] - kpoints[-2]\n",
        "    h2 = kpoints[-2] - kpoints[-3]\n",
        "    dE_dk[-1] = (energy_kp[-1] - energy_kp[-2]) / h1 + ((energy_kp[-1] - energy_kp[-2]) * (h1 + h2) - (energy_kp[-2] - energy_kp[-3]) * h2) / (h1 * (h1 + h2))\n",
        "\n",
        "    velocity_spline = Spline(energy_kp, dE_dk)\n",
        "    velocity_function = velocity_spline(energy)\n",
        "\n",
        "    return velocity_function / h_bar"
      ],
      "metadata": {
        "id": "g02ZIMZJWWTi"
      },
      "execution_count": null,
      "outputs": []
    },
    {
      "cell_type": "code",
      "source": [
        "def analytical_group_velocity(energy: np.ndarray, lattice_param: np.ndarray, num_kpoints: np.ndarray,\n",
        "                              m_eff: np.ndarray, valley: np.ndarray, dk_len: np.ndarray,\n",
        "                              alpha_term: np.ndarray) -> np.ndarray:\n",
        "    \"\"\"\n",
        "    Approximate group velocity for conduction bands near the band edge.\n",
        "\n",
        "    Parameters\n",
        "    ----------\n",
        "    energy: np.ndarray\n",
        "        Energy range.\n",
        "    lattice_param: np.ndarray\n",
        "        Lattice parameter.\n",
        "    num_kpoints: np.ndarray\n",
        "        Number of k-points.\n",
        "    m_eff: np.ndarray\n",
        "        Effective mass along axes.\n",
        "    valley: np.ndarray\n",
        "        Conduction band valley.\n",
        "    dk_len: np.ndarray\n",
        "        Wave vector magnitude.\n",
        "    alpha_term: np.ndarray\n",
        "        Non-parabolicity term.\n",
        "\n",
        "    Returns\n",
        "    -------\n",
        "    np.ndarray\n",
        "        Group velocity.\n",
        "    \"\"\"\n",
        "    k0 = 2 * np.pi / lattice_param * valley\n",
        "    del_k = 2 * np.pi / lattice_param * dk_len * np.ones(3)\n",
        "\n",
        "    kx = np.linspace(k0[0], k0[0] + del_k[0], num_kpoints[0])\n",
        "    ky = np.linspace(k0[1], k0[1] + del_k[1], num_kpoints[1])\n",
        "    kz = np.linspace(k0[2], k0[2] + del_k[2], num_kpoints[2])\n",
        "\n",
        "    kpoints = np.meshgrid(kx, ky, kz)\n",
        "    kpoints = np.vstack([k.flatten() for k in kpoints])\n",
        "\n",
        "    m_eff_cond = 3 / np.sum(1 / m_eff)\n",
        "\n",
        "    E = h_bar**2 / (2 * m_eff_cond) * np.sum([(kpoints[i] - k0[i]) ** 2 for i in range(3)], axis=0) * e2C\n",
        "    vel = h_bar * np.sqrt(np.sum([(kpoints[i] - k0[i]) ** 2 for i in range(3)], axis=0)) / m_eff_cond * e2C\n",
        "\n",
        "    gv_spline = Spline(E, vel)\n",
        "    gv_function = gv_spline(energy)\n",
        "\n",
        "    return gv_function"
      ],
      "metadata": {
        "id": "fBJm7LfeWWhT"
      },
      "execution_count": null,
      "outputs": []
    },
    {
      "cell_type": "markdown",
      "source": [
        "### Lifetimes"
      ],
      "metadata": {
        "id": "8Je6nrR_Pt-X"
      }
    },
    {
      "cell_type": "markdown",
      "source": [
        "#### Ellipsoid"
      ],
      "metadata": {
        "id": "XwWOXbj-YGe-"
      }
    },
    {
      "cell_type": "code",
      "source": [
        "def ellipsoid(xc, yc, zc, xr, yr, zr, n):\n",
        "    \"\"\"\n",
        "    generates the x, y, z coordinates of an ellipsoid surface.\n",
        "\n",
        "    Parameters:\n",
        "    xc, yc, zc : float\n",
        "        The center of the ellipsoid.\n",
        "    xr, yr, zr : float\n",
        "        The radii along the x, y, and z axes.\n",
        "    n : int\n",
        "        The number of divisions along the grid.\n",
        "    returns:\n",
        "    x, y, z : ndarray\n",
        "        the meshgrid arrays representing the ellipsoid surface\n",
        "    \"\"\"\n",
        "    # Create a meshgrid in spherical coordinates (theta, phi)\n",
        "    u = np.linspace(0, 2 * np.pi, n+1)     # theta from 0 to 2*pi\n",
        "    v = np.linspace(0, np.pi, n+1)         # phi from 0 to pi\n",
        "\n",
        "    u, v = np.meshgrid(u, v)\n",
        "\n",
        "    # Parametric equations for the ellipsoid\n",
        "    x = xc + xr * np.cos(u) * np.sin(v)\n",
        "    y = yc + yr * np.sin(u) * np.sin(v)\n",
        "    z = zc + zr * np.cos(v)\n",
        "\n",
        "    return -x, -y, -z # Negative sign is consistant with Matlab ellipsoid func"
      ],
      "metadata": {
        "id": "TFQGeWvqYV4f"
      },
      "execution_count": null,
      "outputs": []
    },
    {
      "cell_type": "markdown",
      "source": [
        "#### Phonon Lifetime"
      ],
      "metadata": {
        "id": "jhIzxmTsYL2O"
      }
    },
    {
      "cell_type": "code",
      "source": [
        "def calculate_phonon_lifetime(energy: np.ndarray, alpha_term: np.ndarray, D_v: float, D_a: float,\n",
        "                              temperature: np.ndarray, sound_velocity: float, density_of_states: np.ndarray, mass_density: float) -> dict:\n",
        "    \"\"\"\n",
        "    Calculate the electron-phonon scattering rate using the Ravich model.\n",
        "\n",
        "    Parameters\n",
        "    ----------\n",
        "    energy : np.ndarray\n",
        "        Energy range.\n",
        "    alpha_term : np.ndarray\n",
        "        Non-parabolic term.\n",
        "    D_v : float\n",
        "        Hole deformation potential.\n",
        "    D_a : float\n",
        "        Electron deformation potential.\n",
        "    temperature : np.ndarray\n",
        "        Temperature.\n",
        "    sound_velocity : float\n",
        "        Sound velocity.\n",
        "    density_of_states : np.ndarray\n",
        "        Density of states.\n",
        "    mass_density : float\n",
        "        Mass density.\n",
        "\n",
        "    Returns\n",
        "    -------\n",
        "    dict\n",
        "        Dictionary with 'parabolic_phonon_lifetime' and 'nonparabolic_phonon_lifetime'.\n",
        "    \"\"\"\n",
        "\n",
        "    nonparabolic_term = (1 - ((alpha_term * energy) / (1 + 2 * alpha_term * energy) * (1 - D_v / D_a))) ** 2 \\\n",
        "                        - 8 / 3 * (alpha_term * energy) * (1 + alpha_term * energy) / (\n",
        "                                    1 + 2 * alpha_term * energy) ** 2 * (D_v / D_a)\n",
        "\n",
        "    tau_ph_parabolic = mass_density * sound_velocity ** 2 * h_bar \\\n",
        "          / (np.pi * k_B * temperature.T * D_a**2) * 1e9 / e2C / density_of_states  # Lifetime for parabolic band\n",
        "\n",
        "    tau_ph_nonparabolic = tau_ph_parabolic / nonparabolic_term  # Lifetime in nonparabolic band\n",
        "\n",
        "    return {'parabolic_phonon_lifetime': tau_ph_parabolic, 'nonparabolic_phonon_lifetime': tau_ph_nonparabolic}"
      ],
      "metadata": {
        "id": "3QDii9YFYd6-"
      },
      "execution_count": null,
      "outputs": []
    },
    {
      "cell_type": "markdown",
      "source": [
        "#### Screened Coulomb Lifetime"
      ],
      "metadata": {
        "id": "Ryh-0jP7YNTI"
      }
    },
    {
      "cell_type": "code",
      "source": [
        "def calculate_screened_coulomb_lifetime(density_of_states: np.ndarray, screening_length: np.ndarray,\n",
        "                                         impurity_scattering: np.ndarray, dielectric_constant: float) -> np.ndarray:\n",
        "    \"\"\"\n",
        "    Calculate electron-impurity scattering lifetime in highly doped dielectrics.\n",
        "\n",
        "    Parameters\n",
        "    ----------\n",
        "    density_of_states : np.ndarray\n",
        "        Density of states.\n",
        "    screening_length : np.ndarray\n",
        "        Screening length.\n",
        "    impurity_scattering : np.ndarray\n",
        "        Impurity scattering rate.\n",
        "    dielectric_constant : float\n",
        "        Dielectric constant.\n",
        "\n",
        "    Returns\n",
        "    -------\n",
        "    np.ndarray\n",
        "        Electron-impurity lifetime.\n",
        "    \"\"\"\n",
        "\n",
        "    tau = h_bar / impurity_scattering.T / np.pi / density_of_states / \\\n",
        "          (screening_length.T ** 2 / (4 * np.pi * dielectric_constant * permittivity_vacuum)) ** 2 \\\n",
        "          * 1 / e2C ** 2\n",
        "\n",
        "    return tau"
      ],
      "metadata": {
        "id": "q3qnuZ6vY4fC"
      },
      "execution_count": null,
      "outputs": []
    },
    {
      "cell_type": "markdown",
      "source": [
        "#### Screened Coulomb Lifetime - Brook Herring"
      ],
      "metadata": {
        "id": "pF7HsfYWYOZ1"
      }
    },
    {
      "cell_type": "code",
      "source": [
        "def calculate_screened_coulomb_lifetime_brook_herring(energy: np.ndarray, conduction_mass: np.ndarray, screening_length: np.ndarray,\n",
        "                                                       impurity_scattering: np.ndarray, dielectric_constant: float) -> np.ndarray:\n",
        "    \"\"\"\n",
        "    Calculate electron-ion scattering lifetime using the Brook-Herring model.\n",
        "\n",
        "    Parameters\n",
        "    ----------\n",
        "    energy : np.ndarray\n",
        "        Energy range.\n",
        "    conduction_mass : np.ndarray\n",
        "        Conduction band effective mass.\n",
        "    screening_length : np.ndarray\n",
        "        Screening length.\n",
        "    impurity_scattering : np.ndarray\n",
        "        Impurity scattering rate.\n",
        "    dielectric_constant : float\n",
        "        Dielectric constant.\n",
        "\n",
        "    Returns\n",
        "    -------\n",
        "    np.ndarray\n",
        "        Electron-impurity lifetime.\n",
        "    \"\"\"\n",
        "\n",
        "    gamma = 8 * conduction_mass.T * screening_length.T ** 2 * energy / h_bar ** 2 / e2C  # Gamma term\n",
        "\n",
        "    tau_ = np.log(1 + gamma) - gamma / (1 + gamma)\n",
        "\n",
        "    tau = 16 * np.pi * np.sqrt(2 * conduction_mass.T) * (4 * np.pi * dielectric_constant * permittivity_vacuum) ** 2 \\\n",
        "          / impurity_scattering.T / tau_ * energy ** (3 / 2) / e2C ** (5.0 / 2)\n",
        "\n",
        "    tau[np.isnan(tau)] = 0\n",
        "\n",
        "    return tau"
      ],
      "metadata": {
        "id": "pL4cjkLjY5lS"
      },
      "execution_count": null,
      "outputs": []
    },
    {
      "cell_type": "markdown",
      "source": [
        "#### Unscreened Coulomb Lifetime"
      ],
      "metadata": {
        "id": "sxZSF50HYQl5"
      }
    },
    {
      "cell_type": "code",
      "source": [
        "def calculate_unscreened_coulomb_lifetime(energy: np.ndarray, conduction_mass: np.ndarray,\n",
        "                                          impurity_scattering: np.ndarray, dielectric_constant: float) -> np.ndarray:\n",
        "    \"\"\"\n",
        "    Calculate electron-ion scattering lifetime for shallow dopants (no screening effect considered).\n",
        "\n",
        "    Parameters\n",
        "    ----------\n",
        "    energy : np.ndarray\n",
        "        Energy range.\n",
        "    conduction_mass : np.ndarray\n",
        "        Conduction band effective mass.\n",
        "    impurity_scattering : np.ndarray\n",
        "        Impurity scattering rate.\n",
        "    dielectric_constant : float\n",
        "        Dielectric constant.\n",
        "\n",
        "    Returns\n",
        "    -------\n",
        "    np.ndarray\n",
        "        Electron-impurity lifetime.\n",
        "    \"\"\"\n",
        "\n",
        "    gamma = 4 * np.pi * (4 * np.pi * dielectric_constant * permittivity_vacuum) * energy / impurity_scattering.T ** (1.0 / 3) / e2C  # Gamma term\n",
        "\n",
        "    tau_ = np.log(1 + gamma ** 2)\n",
        "\n",
        "    tau = 16 * np.pi * np.sqrt(2 * conduction_mass) * (4 * np.pi * dielectric_constant * permittivity_vacuum) ** 2 \\\n",
        "          / impurity_scattering.T / tau_ * energy ** (3 / 2) / e2C ** (5.0 / 2)\n",
        "\n",
        "    tau[np.isnan(tau)] = 0\n",
        "\n",
        "    return tau"
      ],
      "metadata": {
        "id": "6unQNZ2zY9Fw"
      },
      "execution_count": null,
      "outputs": []
    },
    {
      "cell_type": "markdown",
      "source": [
        "#### Extended Cylinderical Particles Scattering"
      ],
      "metadata": {
        "id": "39yUgJDjcN24"
      }
    },
    {
      "cell_type": "code",
      "source": [
        "def calculate_inf_cylinder_scattering(radius: float, k_points: tuple, potential: float, mass_fraction: np.ndarray,\n",
        "                                       volume_fraction: float, initial_wave_vector: np.ndarray, delta_k_vector: np.ndarray, num_divisions: int) -> tuple:\n",
        "    \"\"\"\n",
        "    Calculate electron scattering rate from a cylindrical potential in an ellipsoid conduction band.\n",
        "    q = |k'-k|\n",
        "    Matrix element: M = 4*pi*u0*(1./q.*sin(r_inc*q)-r_inc*cos(r_inc*q))./(q.^2)\n",
        "    Scattering rate matrix ignoring delta(E-E'): SR = 2*pi/hbar*M.*conj(M)\n",
        "    E = Ec + hbar^2/2*((kx-k0x)^2/ml+(ky^2+kz^2)/mt)\n",
        "    Ec = 0\n",
        "\n",
        "    Parameters\n",
        "    ----------\n",
        "    radius : float\n",
        "        Radius of the cylindrical potential.\n",
        "    k_points : tuple\n",
        "        Number of k-points in each direction (x, y, z).\n",
        "    potential : float\n",
        "        Scattering potential.\n",
        "    mass_fraction : np.ndarray\n",
        "        Mass fraction array (m1, m2, m3).\n",
        "    volume_fraction : float\n",
        "        Volume fraction.\n",
        "    initial_wave_vector : np.ndarray\n",
        "        Initial wave vector (kx, ky, kz).\n",
        "    delta_k_vector : np.ndarray\n",
        "        Delta k vector (kx, ky, kz).\n",
        "    num_divisions : int\n",
        "        Number of divisions for the ellipse parametrization.\n",
        "\n",
        "    Returns\n",
        "    -------\n",
        "    tuple\n",
        "        - wave vector magnitude for all k-points.\n",
        "        - energy values at each k-point.\n",
        "        - relaxation times at each k-point.\n",
        "        - number of particles in unit volume.\n",
        "    \"\"\"\n",
        "\n",
        "    # Effective electron mass (kg)\n",
        "    masses = electron_mass * np.array(mass_fraction)\n",
        "\n",
        "    # Number of particles in unit volume\n",
        "    num_particles = volume_fraction / (np.pi * radius**2)\n",
        "\n",
        "    # Define k-points mesh\n",
        "    kx = np.linspace(initial_wave_vector[0], initial_wave_vector[0] + delta_k_vector[0], k_points[0])\n",
        "    ky = np.linspace(initial_wave_vector[1], initial_wave_vector[1] + delta_k_vector[1], k_points[1])\n",
        "    kz = np.linspace(initial_wave_vector[2], initial_wave_vector[2] + delta_k_vector[2], k_points[2])\n",
        "\n",
        "    # Create meshgrid and flatten\n",
        "    kx_grid, ky_grid, kz_grid = np.meshgrid(kx, ky, kz)\n",
        "    k_point_matrix = np.column_stack((kx_grid.ravel(), ky_grid.ravel(), kz_grid.ravel()))  # Matrix of k-points\n",
        "\n",
        "    # Calculate wave vector magnitude\n",
        "    k_magnitude = np.linalg.norm(k_point_matrix, axis=1)\n",
        "\n",
        "    # Calculate energy\n",
        "    E = (h_bar**2 / 2) * ((k_point_matrix[:, 0] - initial_wave_vector[0])**2 / masses[0] +\n",
        "                          (k_point_matrix[:, 1] - initial_wave_vector[1])**2 / masses[1] +\n",
        "                          (k_point_matrix[:, 2] - initial_wave_vector[2])**2 / masses[2]) * eV_to_J\n",
        "\n",
        "    # Parametrize the ellipse\n",
        "    t = np.linspace(0, 2 * np.pi, num_divisions)\n",
        "\n",
        "    # Ellipse semi-major and semi-minor axes\n",
        "    a = np.sqrt(2 * masses[0] / h_bar**2 * E / eV2J)\n",
        "    b = np.sqrt(2 * masses[1] / h_bar**2 * E / eV2J)\n",
        "\n",
        "    # Parametrize the ellipse area (ds)\n",
        "    ds = np.sqrt((a[:, np.newaxis] * np.sin(t))**2 + (b[:, np.newaxis] * np.cos(t))**2)\n",
        "\n",
        "    # Calculate cos(theta)\n",
        "    kx_cos_t = a[:, np.newaxis] * np.cos(t)\n",
        "    ky_cos_t = b[:, np.newaxis] * np.sin(t)\n",
        "\n",
        "    cos_theta = (kx_cos_t * k_point_matrix[:, 0, np.newaxis] +\n",
        "                 ky_cos_t * k_point_matrix[:, 1, np.newaxis] +\n",
        "                 k_point_matrix[:, 2, np.newaxis]**2) / \\\n",
        "                np.sqrt(a[:, np.newaxis]**2 * np.cos(t)**2 +\n",
        "                        b[:, np.newaxis]**2 * np.sin(t)**2 +\n",
        "                        k_point_matrix[:, 2, np.newaxis]**2) / k_magnitude[:, np.newaxis]\n",
        "\n",
        "    # Energy difference (delE)\n",
        "    delE = h_bar**2 * np.abs((kx_cos_t - initial_wave_vector[0]) / masses[0] +\n",
        "                            (ky_cos_t - initial_wave_vector[1]) / masses[1] +\n",
        "                            (k_point_matrix[:, 2, np.newaxis] - initial_wave_vector[2]) / masses[2])\n",
        "\n",
        "    # Calculate q and Bessel function\n",
        "    qx = k_point_matrix[:, 0, np.newaxis] - a[:, np.newaxis] * np.cos(t)\n",
        "    qy = k_point_matrix[:, 1, np.newaxis] - b[:, np.newaxis] * np.sin(t)\n",
        "    qr = np.sqrt(qx**2 + qy**2)\n",
        "    J = besselj(radius * qr)\n",
        "\n",
        "    # Scattering rate (SR)\n",
        "    SR = 2 * np.pi / h_bar * potential**2 * (2 * np.pi)**3 * (radius * J / qr)**2\n",
        "\n",
        "    # Function to integrate\n",
        "    func = SR * (1 - cos_theta) / delE * ds\n",
        "\n",
        "    # Integrate over theta using trapezoidal integration\n",
        "    integrated_func = trapz(func, t, axis=1)\n",
        "\n",
        "    # Calculate relaxation time (tau)\n",
        "    relaxation_time = (num_particles / (2 * np.pi)**3 * integrated_func)**-1 * eV_to_J\n",
        "\n",
        "    return k_magnitude, E, relaxation_time, num_particles"
      ],
      "metadata": {
        "id": "WcmDrqVkXijU"
      },
      "execution_count": null,
      "outputs": []
    },
    {
      "cell_type": "markdown",
      "source": [
        "#### Finite Spherical Particles Scattering"
      ],
      "metadata": {
        "id": "LNlM5TuTdbpW"
      }
    },
    {
      "cell_type": "code",
      "source": [
        "def calculate_finite_spherical_scattering(ro, nk, uo, m_frac, v_frac, ko, del_k, n):\n",
        "\n",
        "    m = electron_mass * m_frac         # Effective mass of electrons (Kg)\n",
        "    N = 3 * v_frac / (4 * np.pi * ro**3)  # Number of particles in unit volume\n",
        "\n",
        "    # Define k-points\n",
        "    kx = np.linspace(ko[0], ko[0] + del_k[0], nk[0])\n",
        "    ky = np.linspace(ko[1], ko[1] + del_k[1], nk[1])\n",
        "    kz = np.linspace(ko[2], ko[2] + del_k[2], nk[2])\n",
        "    xk, yk, zk = np.meshgrid(kx, ky, kz, indexing='ij')\n",
        "    kpoint = np.column_stack((xk.ravel(), yk.ravel(), zk.ravel()))\n",
        "    mag_kpoint = np.linalg.norm(kpoint, axis=1)\n",
        "\n",
        "    # Energy (J)\n",
        "    E = (h_bar**2 / 2) * ((kpoint[:, 0] - ko[0])**2 / m[0] +\n",
        "                         (kpoint[:, 1] - ko[1])**2 / m[1] +\n",
        "                         (kpoint[:, 2] - ko[2])**2 / m[2]) * eV2J\n",
        "\n",
        "    scattering_rate = np.zeros(E.shape[0])\n",
        "\n",
        "    for u in tqdm(range(E.shape[0]), desc=\"Processing energies\"):\n",
        "        Q, A = np.zeros((2 * n * (n - 1), 3)), np.zeros(2 * n * (n - 1))\n",
        "        k = 0\n",
        "\n",
        "        x, y, z = ellipsoid(ko[0], ko[1], ko[2],\n",
        "                            np.sqrt(2 / (h_bar**2 * eV2J) * m[0] * E[u]),\n",
        "                            np.sqrt(2 / (h_bar**2 * eV2J) * m[1] * E[u]),\n",
        "                            np.sqrt(2 / (h_bar**2 * eV2J) * m[2] * E[u]),\n",
        "                            n)\n",
        "\n",
        "        def compute_triangle_data(i, j, k_offset):\n",
        "            S = (np.array([x[i, j], y[i, j], z[i, j]]) +\n",
        "                 np.array([x[i - 1, j], y[i - 1, j], z[i - 1, j]]) +\n",
        "                 np.array([x[i - 1, j - 1], y[i - 1, j - 1], z[i - 1, j - 1]]))\n",
        "            Q[k_offset, :] = S / 3\n",
        "            a = np.linalg.norm(np.array([x[i, j], y[i, j], z[i, j]]) -\n",
        "                               np.array([x[i - 1, j], y[i - 1, j], z[i - 1, j]]))\n",
        "            b = np.linalg.norm(np.array([x[i - 1, j], y[i - 1, j], z[i - 1, j]]) -\n",
        "                               np.array([x[i - 1, j - 1], y[i - 1, j - 1], z[i - 1, j - 1]]))\n",
        "            c = np.linalg.norm(np.array([x[i - 1, j - 1], y[i - 1, j - 1], z[i - 1, j - 1]]) -\n",
        "                               np.array([x[i, j], y[i, j], z[i, j]]))\n",
        "            s = (a + b + c) / 2\n",
        "            A[k_offset] = np.sqrt(s * (s - a) * (s - b) * (s - c))\n",
        "\n",
        "        # Compute Q and A\n",
        "        for j in range(1, n):\n",
        "            for i in range(2, n + 1):\n",
        "                compute_triangle_data(i, j, k)\n",
        "                k += 1\n",
        "\n",
        "        for j in range(1, n):\n",
        "            for i in range(1, n):\n",
        "                compute_triangle_data(i, j - 1, k)\n",
        "                k += 1\n",
        "\n",
        "        for i in range(2, n + 1):\n",
        "            S = (np.array([x[i, 0], y[i, 0], z[i, 0]]) +\n",
        "                 np.array([x[i - 1, 0], y[i - 1, 0], z[i - 1, 0]]) +\n",
        "                 np.array([x[i - 1, -2], y[i - 1, -2], z[i - 1, -2]]))\n",
        "            Q[k, :] = S / 3\n",
        "            a = np.linalg.norm(np.array([x[i, 0], y[i, 0], z[i, 0]]) -\n",
        "                               np.array([x[i - 1, 0], y[i - 1, 0], z[i - 1, 0]]))\n",
        "            b = np.linalg.norm(np.array([x[i - 1, 0], y[i - 1, 0], z[i - 1, 0]]) -\n",
        "                               np.array([x[i - 1, -2], y[i - 1, -2], z[i - 1, -2]]))\n",
        "            c = np.linalg.norm(np.array([x[i - 1, -2], y[i - 1, -2], z[i - 1, -2]]) -\n",
        "                               np.array([x[i, 0], y[i, 0], z[i, 0]]))\n",
        "            s = (a + b + c) / 2\n",
        "            A[k] = np.sqrt(s * (s - a) * (s - b) * (s - c))\n",
        "            k += 1\n",
        "\n",
        "        for i in range(1, n):\n",
        "            S = (np.array([x[i, -2], y[i, -2], z[i, -2]]) +\n",
        "                 np.array([x[i, 0], y[i, 0], z[i, 0]]) +\n",
        "                 np.array([x[i - 1, -2], y[i - 1, -2], z[i - 1, -2]]))\n",
        "            Q[k, :] = S / 3\n",
        "            a = np.linalg.norm(np.array([x[i, -2], y[i, -2], z[i, -2]]) -\n",
        "                               np.array([x[i, 0], y[i, 0], z[i, 0]]))\n",
        "            b = np.linalg.norm(np.array([x[i, 0], y[i, 0], z[i, 0]]) -\n",
        "                               np.array([x[i - 1, -2], y[i - 1, -2], z[i - 1, -2]]))\n",
        "            c = np.linalg.norm(np.array([x[i - 1, -2], y[i - 1, -2], z[i - 1, -2]]) -\n",
        "                               np.array([x[i, -2], y[i, -2], z[i, -2]]))\n",
        "            s = (a + b + c) / 2\n",
        "            A[k] = np.sqrt(s * (s - a) * (s - b) * (s - c))\n",
        "            k += 1\n",
        "\n",
        "        # Compute q and cosTheta\n",
        "        kpoint_u = kpoint[u, :]\n",
        "        qx, qy, qz = kpoint_u[0] - Q[:, 0], kpoint_u[1] - Q[:, 1], kpoint_u[2] - Q[:, 2]\n",
        "        q = np.sqrt(qx**2 + qy**2 + qz**2)\n",
        "        cosTheta = np.dot(kpoint_u, Q.T) / (np.linalg.norm(kpoint_u) * np.linalg.norm(Q, axis=1))\n",
        "\n",
        "        # Matrix element and scattering rate\n",
        "        M = 4 * np.pi * uo * (1.0 / q * np.sin(ro * q) - ro * np.cos(ro * q)) / q**2\n",
        "        SR = 2 * np.pi / h_bar * M * np.conj(M)\n",
        "        delE = np.abs(h_bar**2 * ((Q[:, 0] - ko[0]) / m[0] +\n",
        "                                 (Q[:, 1] - ko[1]) / m[1] +\n",
        "                                 (Q[:, 2] - ko[2]) / m[2]))\n",
        "\n",
        "        # Final scattering rate calculation\n",
        "        f = SR / delE * (1 - cosTheta)\n",
        "        scattering_rate[u] = N / (2 * np.pi)**3 * np.sum(f * A)\n",
        "\n",
        "    tau = 1.0 / scattering_rate * eV2J\n",
        "    return mag_kpoint, E, tau, N"
      ],
      "metadata": {
        "id": "Infu6p66Xi1k"
      },
      "execution_count": null,
      "outputs": []
    },
    {
      "cell_type": "markdown",
      "source": [
        "### Utils"
      ],
      "metadata": {
        "id": "UBwqqHtyPyph"
      }
    },
    {
      "cell_type": "markdown",
      "source": [
        "#### Energy Range"
      ],
      "metadata": {
        "id": "rd7TcU_pnLxp"
      }
    },
    {
      "cell_type": "code",
      "source": [
        "def energy_range(energy_min: float, energy_max: float, sample_size: int) -> np.ndarray:\n",
        "    \"\"\"\n",
        "    Generate a 2D array of energy values sampled between the minimum and maximum energy levels.\n",
        "\n",
        "    Parameters\n",
        "    ----------\n",
        "    energy_min : float\n",
        "        Minimum energy level of the electron in the conduction band.\n",
        "    energy_max : float\n",
        "        Maximum energy level of the electron in the conduction band.\n",
        "    sample_size : int\n",
        "        Number of samples to generate between energy_min and energy_max.\n",
        "\n",
        "    Returns\n",
        "    -------\n",
        "    np.ndarray\n",
        "        A 1xN array of energy values sampled between the specified range.\n",
        "    \"\"\"\n",
        "    return np.linspace(energy_min, energy_max, sample_size)[np.newaxis, :]"
      ],
      "metadata": {
        "id": "Oq7U9e05WDgs"
      },
      "execution_count": null,
      "outputs": []
    },
    {
      "cell_type": "markdown",
      "source": [
        "#### Temperature"
      ],
      "metadata": {
        "id": "Zrj_VoNynNCM"
      }
    },
    {
      "cell_type": "code",
      "source": [
        "def temperature(temp_min: float = 300, temp_max: float = 1301, del_temp: float = 100) -> np.ndarray:\n",
        "    \"\"\"\n",
        "    Generate a 2D array of temperature values sampled between the minimum and maximum temperature.\n",
        "\n",
        "    Parameters\n",
        "    ----------\n",
        "    temp_min : float, optional\n",
        "        Minimum temperature (default is 300K).\n",
        "    temp_max : float, optional\n",
        "        Maximum temperature (default is 1301K).\n",
        "    del_temp : float, optional\n",
        "        Step size for sampling the temperature range (default is 100K).\n",
        "\n",
        "    Returns\n",
        "    -------\n",
        "    np.ndarray\n",
        "        A 1xN array of temperature values sampled between the specified range.\n",
        "    \"\"\"\n",
        "    return np.arange(temp_min, temp_max, del_temp)[np.newaxis, :]"
      ],
      "metadata": {
        "id": "sHMxMv_WWDqz"
      },
      "execution_count": null,
      "outputs": []
    },
    {
      "cell_type": "markdown",
      "source": [
        "#### Fermi Distribution"
      ],
      "metadata": {
        "id": "zrN2HMLhnN8Z"
      }
    },
    {
      "cell_type": "code",
      "source": [
        "def fermi_distribution(energy: np.ndarray, fermi_level: np.ndarray, temp: np.ndarray = None) -> np.ndarray:\n",
        "    \"\"\"\n",
        "    Compute the Fermi distribution and its first energy derivative (Fermi window) for given energy levels.\n",
        "\n",
        "    Parameters\n",
        "    ----------\n",
        "    energy : np.ndarray\n",
        "        Array of energy levels in the conduction band.\n",
        "    fermi_level : np.ndarray\n",
        "        Fermi level values.\n",
        "    temp : np.ndarray, optional\n",
        "        Temperature array (default is None, uses the default temperature function if not provided).\n",
        "\n",
        "    Returns\n",
        "    -------\n",
        "    np.ndarray\n",
        "        A 2xN array where the first row is the Fermi distribution and the second row is the Fermi window (derivative).\n",
        "    \"\"\"\n",
        "    k_bolt = 8.617330350e-5  # Boltzmann constant in eV/K\n",
        "\n",
        "    if temp is None:\n",
        "        T = temperature()\n",
        "    else:\n",
        "        T = temp\n",
        "\n",
        "    xi = np.exp((energy - fermi_level.T) / (T.T * k_bolt))\n",
        "\n",
        "    fermi_dirac = 1 / (xi + 1)  # Fermi distribution\n",
        "    dfdE = -xi / ((1 + xi) ** 2 * T.T * k_bolt)  # Fermi window (derivative of Fermi distribution)\n",
        "\n",
        "    return np.stack((fermi_dirac, dfdE))"
      ],
      "metadata": {
        "id": "z75DVpBJWDvR"
      },
      "execution_count": null,
      "outputs": []
    },
    {
      "cell_type": "markdown",
      "source": [
        "#### Matthiessen's Rule"
      ],
      "metadata": {
        "id": "fjRlDaZYnO-y"
      }
    },
    {
      "cell_type": "code",
      "source": [
        "def matthiessen(energy: np.ndarray, *args: np.ndarray) -> np.ndarray:\n",
        "    \"\"\"\n",
        "    Calculate the total electron lifetime using Matthiessen's rule.\n",
        "\n",
        "    Parameters\n",
        "    ----------\n",
        "    energy : np.ndarray\n",
        "        Energy levels of electrons.\n",
        "    *args : np.ndarray\n",
        "        Individual scattering lifetimes from different sources.\n",
        "\n",
        "    Returns\n",
        "    -------\n",
        "    np.ndarray\n",
        "        Total electron lifetime computed using Matthiessen's rule.\n",
        "    \"\"\"\n",
        "    tau = 1.0 / np.sum([1.0 / arg for arg in args], axis=0)\n",
        "    tau[np.isinf(tau)] = 0  # Set infinite lifetime (no scattering) to zero for numerical stability.\n",
        "\n",
        "    return tau"
      ],
      "metadata": {
        "id": "7vsSthN6WDzL"
      },
      "execution_count": null,
      "outputs": []
    },
    {
      "cell_type": "markdown",
      "source": [
        "### Visualizer"
      ],
      "metadata": {
        "id": "d5Ksj_TBPzAY"
      }
    },
    {
      "cell_type": "code",
      "source": [
        "def visualize(array_to_plot: np.ndarray, linestyle: str, marker: str, pic_name: str,\n",
        "              x_label: str = None, y_label: str = None) -> None:\n",
        "    \"\"\"\n",
        "    Plot a two-dimensional numpy array with specified style and save it as an image.\n",
        "\n",
        "    Parameters\n",
        "    ----------\n",
        "    array_to_plot : np.ndarray\n",
        "        A 2D numpy array where the first row is x-values and the second row is y-values.\n",
        "    linestyle : str\n",
        "        Line style for the plot (e.g., '-', '--').\n",
        "    marker : str\n",
        "        Marker style for the plot (e.g., 'o', '^').\n",
        "    pic_name : str\n",
        "        Name of the file where the plot will be saved (should include file extension, e.g., 'plot.png').\n",
        "    x_label : str, optional\n",
        "        Label for the x-axis (default is None).\n",
        "    y_label : str, optional\n",
        "        Label for the y-axis (default is None).\n",
        "\n",
        "    Returns\n",
        "    -------\n",
        "    None\n",
        "    \"\"\"\n",
        "\n",
        "    # Create directory if it doesn't exist\n",
        "    dir_name = 'Figs'\n",
        "    os.makedirs(dir_name, exist_ok=True)\n",
        "\n",
        "    # Plot settings\n",
        "    fig, ax = plt.subplots(figsize=(6.5, 4.5))\n",
        "    ax.grid(False)  # Disable the grid for a cleaner plot\n",
        "    ax.plot(array_to_plot[0], array_to_plot[1], linestyle=linestyle, marker=marker, color='maroon',\n",
        "            markersize=6, linewidth=2, markerfacecolor='white', markeredgecolor='maroon', markeredgewidth=1)\n",
        "\n",
        "    # Axis labels and formatting\n",
        "    if x_label:\n",
        "        ax.set_xlabel(x_label, fontsize=20)\n",
        "    if y_label:\n",
        "        ax.set_ylabel(y_label, fontsize=20, labelpad=15)\n",
        "\n",
        "    ax.tick_params(axis=\"x\", labelsize=20)\n",
        "    ax.tick_params(axis=\"y\", labelsize=20)\n",
        "\n",
        "    # Scientific notation for large/small numbers\n",
        "    plt.ticklabel_format(axis=\"both\", style=\"sci\")\n",
        "\n",
        "    # Save figure\n",
        "    fig.tight_layout()\n",
        "    plt.savefig(os.path.join(dir_name, pic_name), dpi=100)\n",
        "    plt.close()"
      ],
      "metadata": {
        "id": "OsXsA4sfVtPc"
      },
      "execution_count": null,
      "outputs": []
    },
    {
      "cell_type": "markdown",
      "source": [
        "### Input/ Output Functions (IO Funcs)"
      ],
      "metadata": {
        "id": "dAO7E_HbPe2R"
      }
    },
    {
      "cell_type": "markdown",
      "source": [
        "#### Kpoints"
      ],
      "metadata": {
        "id": "kMFi_91rmokW"
      }
    },
    {
      "cell_type": "code",
      "source": [
        "def kpoints(path2kpoints: str, delimiter: str = None, skip_rows: int = 0) -> np.ndarray:\n",
        "    \"\"\"\n",
        "    Load a 2D array of k-points (wave vectors) from a file.\n",
        "\n",
        "    Parameters\n",
        "    ----------\n",
        "    path2kpoints : str\n",
        "        Path to the k-points file.\n",
        "    delimiter : str, optional\n",
        "        Delimiter for the file (default is None for comma).\n",
        "    skip_rows : int, optional\n",
        "        Number of rows to skip at the start of the file (default is 0).\n",
        "\n",
        "    Returns\n",
        "    -------\n",
        "    np.ndarray\n",
        "        Array of k-points (wave vectors).\n",
        "    \"\"\"\n",
        "    wave_points = np.loadtxt(expanduser(path2kpoints), delimiter=delimiter, skiprows=skip_rows)\n",
        "    return wave_points"
      ],
      "metadata": {
        "id": "0VelQ2GOVEfS"
      },
      "execution_count": null,
      "outputs": []
    },
    {
      "cell_type": "markdown",
      "source": [
        "#### Carrier Concentration"
      ],
      "metadata": {
        "id": "YpCas-3kmpX4"
      }
    },
    {
      "cell_type": "code",
      "source": [
        "def carrier_concentration(path_extrinsic_carrier: str, band_gap: np.ndarray,\n",
        "                          A: float = None, B: float = None, Nc: float = None,\n",
        "                          Nv: float = None, temp: np.ndarray = None) -> np.ndarray:\n",
        "    \"\"\"\n",
        "    Calculate total carrier concentration from intrinsic and extrinsic carriers.\n",
        "\n",
        "    Uses the relation: n = sqrt(Nc * Nv) * exp(-Eg / (2 * kB * T)) for intrinsic carrier concentration.\n",
        "\n",
        "    Parameters\n",
        "    ----------\n",
        "    path_extrinsic_carrier : str\n",
        "        Path to the file with extrinsic carrier concentration data.\n",
        "    band_gap : np.ndarray\n",
        "        Band gap values.\n",
        "    A : float, optional\n",
        "        Fitting parameter for Nc (default is None).\n",
        "    B : float, optional\n",
        "        Fitting parameter for Nv (default is None).\n",
        "    Nc : float, optional\n",
        "        Effective density of states in the conduction band (default is None).\n",
        "    Nv : float, optional\n",
        "        Effective density of states in the valence band (default is None).\n",
        "    temp : np.ndarray, optional\n",
        "        Temperature array (default is None, uses default temperature range from utility function).\n",
        "\n",
        "    Returns\n",
        "    -------\n",
        "    np.ndarray\n",
        "        Total carrier concentration.\n",
        "    \"\"\"\n",
        "\n",
        "    T = temp if temp is not None else temperature()\n",
        "\n",
        "    if Nc is None:\n",
        "        Nc = A * T ** (3 / 2)\n",
        "    if Nv is None:\n",
        "        Nv = B * T ** (3 / 2)\n",
        "\n",
        "    # Load extrinsic carrier concentration data\n",
        "    ex_carrier_data = np.loadtxt(expanduser(path_extrinsic_carrier), delimiter=None, skiprows=0)\n",
        "    ex_carrier_spline = Spline(ex_carrier_data[0], ex_carrier_data[1] * 1e6)\n",
        "    ex_carrier_concentration = ex_carrier_spline(T)\n",
        "\n",
        "    # Compute intrinsic carrier concentration\n",
        "    in_carrier = np.sqrt(Nc * Nv) * np.exp(-band_gap / (2 * k_B * T))\n",
        "\n",
        "    # Total carrier concentration\n",
        "    carrier = in_carrier + np.abs(ex_carrier_concentration)\n",
        "\n",
        "    return carrier"
      ],
      "metadata": {
        "id": "nEyQjnWvPZsq"
      },
      "execution_count": null,
      "outputs": []
    },
    {
      "cell_type": "markdown",
      "source": [
        "#### Band Structure"
      ],
      "metadata": {
        "id": "1zOiD2oqmtlV"
      }
    },
    {
      "cell_type": "code",
      "source": [
        "def band_structure(path_eigen: str, skip_lines: int, num_bands: int, num_kpoints: int) -> dict:\n",
        "    \"\"\"\n",
        "    Load the electronic band structure from an \"EIGENVAL\" file.\n",
        "\n",
        "    Parameters\n",
        "    ----------\n",
        "    path_eigen : str\n",
        "        Path to the \"EIGENVAL\" file.\n",
        "    skip_lines : int\n",
        "        Number of lines to skip in the file.\n",
        "    num_bands : int\n",
        "        Number of bands.\n",
        "    num_kpoints : int\n",
        "        Number of k-points (wave vectors).\n",
        "\n",
        "    Returns\n",
        "    -------\n",
        "    dict\n",
        "        Dictionary containing k-points and electron dispersion data.\n",
        "    \"\"\"\n",
        "    with open(expanduser(path_eigen)) as eigen_file:\n",
        "        for _ in range(skip_lines):\n",
        "            next(eigen_file)\n",
        "        block = [[float(value) for value in line.split()] for line in eigen_file]\n",
        "\n",
        "    electron_dispersion = np.arange(1, num_bands + 1)\n",
        "    k_points = np.array(block[1::num_bands + 2])[:, 0:3]\n",
        "\n",
        "    for idx in range(num_kpoints):\n",
        "        dispersion = []\n",
        "        for j in range(num_bands):\n",
        "            dispersion.append(block[j + 2 + (num_bands + 2) * idx][1])\n",
        "        electron_dispersion = np.vstack([electron_dispersion, dispersion])\n",
        "\n",
        "    return {'k_points': k_points, 'electron_dispersion': np.delete(electron_dispersion, 0, axis=0)}"
      ],
      "metadata": {
        "id": "-Yrrn31HPZ5r"
      },
      "execution_count": null,
      "outputs": []
    },
    {
      "cell_type": "markdown",
      "source": [
        "\n",
        "#### Electron Density"
      ],
      "metadata": {
        "id": "fFsaGrixmsa4"
      }
    },
    {
      "cell_type": "code",
      "source": [
        "def electron_density(path_density: str, header_lines: int, num_dos_points: int,\n",
        "                     unitcell_volume: float, valley_point: int, energy: np.ndarray) -> np.ndarray:\n",
        "    \"\"\"\n",
        "    Calculate the electron density of states (DoS) from a \"DOSCAR\" file.\n",
        "\n",
        "    Parameters\n",
        "    ----------\n",
        "    path_density : str\n",
        "        Path to the \"DOSCAR\" file.\n",
        "    header_lines : int\n",
        "        Number of header lines to skip in the file.\n",
        "    num_dos_points : int\n",
        "        Number of DoS points in the file.\n",
        "    unitcell_volume : float\n",
        "        Volume of the unit cell (in cubic meters).\n",
        "    valley_point : int\n",
        "        Index of the valley in the DoS data.\n",
        "    energy : np.ndarray\n",
        "        Array of energy values.\n",
        "\n",
        "    Returns\n",
        "    -------\n",
        "    np.ndarray\n",
        "        Electron density of states interpolated over the energy range.\n",
        "    \"\"\"\n",
        "    dos_data = np.loadtxt(expanduser(path_density), delimiter=None, skiprows=header_lines, max_rows=num_dos_points)\n",
        "    valley_energy = dos_data[valley_point, 0]\n",
        "\n",
        "    # Interpolate the density of states relative to the valley point\n",
        "    dos_spline = Spline(dos_data[valley_point:, 0] - valley_energy, dos_data[valley_point:, 1] / unitcell_volume)\n",
        "    density = dos_spline(energy)\n",
        "\n",
        "    return density"
      ],
      "metadata": {
        "id": "syFAHi29PZ9G"
      },
      "execution_count": null,
      "outputs": []
    },
    {
      "cell_type": "markdown",
      "source": [
        "## Electrical Properties of Nanocomposite Si"
      ],
      "metadata": {
        "id": "Bt2HqlM8U6WP"
      }
    },
    {
      "cell_type": "markdown",
      "source": [
        "Electrical properties of Si nanocomposite with nanoscale SiC spherical particles"
      ],
      "metadata": {
        "id": "vYPZPsWQfKBv"
      }
    },
    {
      "cell_type": "markdown",
      "source": [
        "### Si Properties"
      ],
      "metadata": {
        "id": "Wtc89n4Qllsj"
      }
    },
    {
      "cell_type": "code",
      "source": [
        "lattice_parameter = 5.401803661945516e-10           # Lattice parameter [m]\n",
        "dopant_electric_charge = 1                          # Fully ionized dopants (assumed)\n",
        "electron_effective_mass = 1.08 * electron_mass      # Effective electron mass [kg]\n",
        "energy_min = 0.0                                    # Minimum energy level [eV]\n",
        "energy_max = 1.0                                    # Maximum energy level [eV]\n",
        "dielectric_constant = 11.7                          # Relative dielectric constant for silicon\n",
        "num_kpoints = 800                                   # Number of k-points in the Brillouin zone\n",
        "num_bands = 8                                       # Number of electronic bands\n",
        "num_qpoints = 200                                   # Number of q-points for VASP calculations\n",
        "num_energy_samples = 8000                           # Number of energy points for sampling\n",
        "volume_fraction = 0.05                              # Volume fraction of nanoparticles\n",
        "longitudinal_mass = 0.98 * electron_mass            # Longitudinal effective mass [kg]\n",
        "transverse_mass = 0.19 * electron_mass              # Transverse effective mass [kg]\n",
        "bulk_modulus = 98                                   # Bulk modulus of silicon [GPa]\n",
        "density = 2329                                      # Mass density of silicon [kg/m^3]\n",
        "speed_of_sound = np.sqrt(bulk_modulus / density)    # Speed of sound in silicon [m/s]"
      ],
      "metadata": {
        "id": "jycFy7yMOThK"
      },
      "execution_count": null,
      "outputs": []
    },
    {
      "cell_type": "markdown",
      "source": [
        "### Simulation Params"
      ],
      "metadata": {
        "id": "mA8unKjkoRCy"
      }
    },
    {
      "cell_type": "code",
      "source": [
        "# Params\n",
        "engr = energy_range(energy_min=energy_min, energy_max=energy_max, sample_size=num_energy_samples) # Energy\n",
        "tmpr = temperature(temp_min=300, temp_max=1301, del_temp=50)\n",
        "electronic_gap = band_gap(Eg_0=1.17, A=4.73e-4, B=636, temp=tmpr) # Electronic band gap\n",
        "nonparabolic_term = 0.5 # Si nonparabolic term"
      ],
      "metadata": {
        "id": "tikvdKlzSg9t"
      },
      "execution_count": null,
      "outputs": []
    },
    {
      "cell_type": "markdown",
      "source": [
        "### I/O"
      ],
      "metadata": {
        "id": "eCEmh7BclvQJ"
      }
    },
    {
      "cell_type": "code",
      "source": [
        "def load_experimental_data(file_path, delimiter=None, skiprows=1):\n",
        "    \"\"\"\n",
        "    Load experimental data from a text file.\n",
        "    # Data files are for 0%, 1% and 5% nanoparticle's valume fraction.\n",
        "    # The process of desolving P dopants is nonreversible.\n",
        "    # Thus the concentration is different during heating up (direction_up) and cooling down (direction_down)\n",
        "\n",
        "    Parameters:\n",
        "    - file_path: str, the path to the data file.\n",
        "    - delimiter: str or None, delimiter for the file (default: None for whitespace).\n",
        "    - skiprows: int, the number of rows to skip at the beginning (default: 1 for header).\n",
        "\n",
        "    Returns:\n",
        "    - numpy array: The loaded experimental data.\n",
        "    \"\"\"\n",
        "    return np.loadtxt(file_path, delimiter=delimiter, skiprows=skiprows)\n",
        "\n",
        "exp_data_files = {\n",
        "    \"0pct_heating\": 'Exp_Data/ExpData_SiCfrac-0pct_direction-up.txt',\n",
        "    \"1pct_heating\": 'Exp_Data/ExpData_SiCfrac-1pct_direction-up.txt',\n",
        "    \"5pct_heating\": 'Exp_Data/ExpData_SiCfrac-5pct_direction-up.txt',\n",
        "    \"5pct_cooling\": 'Exp_Data/ExpData_SiCfrac-5pct_direction-down.txt'\n",
        "    }\n",
        "\n",
        "exp_sic_data = {key: load_experimental_data(path) for key, path in exp_data_files.items()}\n",
        "\n",
        "exp_sic_frac_0pct_heating = exp_sic_data[\"0pct_heating\"]\n",
        "exp_sic_frac_1pct_heating = exp_sic_data[\"1pct_heating\"]\n",
        "exp_sic_frac_5pct_heating = exp_sic_data[\"5pct_heating\"]\n",
        "exp_sic_frac_5pct_cooling = exp_sic_data[\"5pct_cooling\"]"
      ],
      "metadata": {
        "id": "DrrnokOHNnVf"
      },
      "execution_count": null,
      "outputs": []
    },
    {
      "cell_type": "code",
      "source": [
        "def process_carrier_concentration(path, band_gap, A=5.3e21, B=3.5e21, temp=None):\n",
        "    \"\"\"\n",
        "    Process carrier concentration data\n",
        "\n",
        "    Parameters:\n",
        "    - path: str, path to the extrinsic carrier data file.\n",
        "    - band_gap: float, the electronic band gap value.\n",
        "    - A: float, constant A (default: 5.3e21).\n",
        "    - B: float, constant B (default: 3.5e21).\n",
        "    - temp: numpy array or float, temperature data to be used in the calculation.\n",
        "\n",
        "    Returns:\n",
        "    - Carrier concentration data calculated from the input parameters.\n",
        "    \"\"\"\n",
        "    return carrier_concentration(path_extrinsic_carrier=path, band_gap=band_gap, A=A, B=B, temp=temp)\n",
        "\n",
        "carrier_concentrations = {\n",
        "    \"0pct_heating\": process_carrier_concentration(\n",
        "        path='Exp_Data/experimental-carrier-concentration-no-inc.txt', band_gap=electronic_gap, temp=tmpr),\n",
        "    \"1pct_heating\": process_carrier_concentration(\n",
        "        path='Exp_Data/experimental-carrier-concentration-1pct.txt', band_gap=electronic_gap, temp=tmpr),\n",
        "    \"5pct_heating\": process_carrier_concentration(\n",
        "        path='Exp_Data/experimental-carrier-concentration-5pct-direction-up.txt', band_gap=electronic_gap, temp=tmpr),\n",
        "    \"5pct_cooling\": process_carrier_concentration(\n",
        "        path='Exp_Data/experimental-carrier-concentration-5pct-direction-down.txt', band_gap=electronic_gap, temp=tmpr)\n",
        "    }\n",
        "\n",
        "cc_0pct_heating = carrier_concentrations[\"0pct_heating\"]\n",
        "cc_1pct_heating = carrier_concentrations[\"1pct_heating\"]\n",
        "cc_5pct_heating = carrier_concentrations[\"5pct_heating\"]\n",
        "cc_5pct_cooling = carrier_concentrations[\"5pct_cooling\"]"
      ],
      "metadata": {
        "id": "HuKtPB3BOoQ_"
      },
      "execution_count": null,
      "outputs": []
    },
    {
      "cell_type": "code",
      "source": [
        "def calculate_reciprocal_lattice_vectors(lattice_param):\n",
        "    \"\"\"\n",
        "    Compute reciprocal lattice vectors from lattice vectors.\n",
        "    \"\"\"\n",
        "    direct_lattice_vectors = np.array([[1, 1, 0], [0, 1, 1], [1, 0, 1]]) * lattice_param / 2\n",
        "    a_rp = np.cross(direct_lattice_vectors[1], direct_lattice_vectors[2]) / np.dot(direct_lattice_vectors[0], np.cross(direct_lattice_vectors[1], direct_lattice_vectors[2]))\n",
        "    b_rp = np.cross(direct_lattice_vectors[2], direct_lattice_vectors[0]) / np.dot(direct_lattice_vectors[1], np.cross(direct_lattice_vectors[2], direct_lattice_vectors[0]))\n",
        "    c_rp = np.cross(direct_lattice_vectors[0], direct_lattice_vectors[1]) / np.dot(direct_lattice_vectors[2], np.cross(direct_lattice_vectors[0], direct_lattice_vectors[1]))\n",
        "    return np.array([a_rp, b_rp, c_rp])\n",
        "\n",
        "def load_band_structure(file_path, skip_lines=6, num_bands=None, num_kpoints=None):\n",
        "    \"\"\"\n",
        "    Load band structure data from file.\n",
        "    \"\"\"\n",
        "    return band_structure(path_eigen=file_path, skip_lines=skip_lines, num_bands=num_bands, num_kpoints=num_kpoints)\n",
        "\n",
        "def transform_k_points(k_points, reciprocal_lattice_vectors):\n",
        "    \"\"\"\n",
        "    Convert k-points to reciprocal space.\n",
        "    \"\"\"\n",
        "    return 2 * np.pi * k_points @ reciprocal_lattice_vectors\n",
        "\n",
        "def main_pipeline(lattice_parameter, eigenvalue_file, num_bands, num_kpoints):\n",
        "    \"\"\"\n",
        "    Main pipeline to calculate reciprocal lattice vectors, load band structure data, and transform k-points.\n",
        "    \"\"\"\n",
        "    reciprocal_lattice_vectors = calculate_reciprocal_lattice_vectors(lattice_parameter)\n",
        "    dispersion = load_band_structure(eigenvalue_file, skip_lines=6, num_bands=num_bands, num_kpoints=num_kpoints)\n",
        "    kpoints = transform_k_points(dispersion['k_points'], reciprocal_lattice_vectors)\n",
        "\n",
        "    return dispersion['k_points'], dispersion['electron_dispersion'], kpoints\n",
        "\n",
        "eigenvalue_file = 'DFT_Data/EIGENVAL'\n",
        "kp, band_str, kp_rl = main_pipeline(lattice_parameter, eigenvalue_file, num_bands, num_kpoints)"
      ],
      "metadata": {
        "id": "T4Eney0krJJH"
      },
      "execution_count": null,
      "outputs": []
    },
    {
      "cell_type": "code",
      "source": [
        "def extract_band_data(band_str, band_index, init_index, num_qpoints):\n",
        "    \"\"\"\n",
        "    Extract data for a specific band and range from the band structure array.\n",
        "\n",
        "    Parameters:\n",
        "    - band_str: numpy array, band structure data.\n",
        "    - band_index: int, index of the band to extract.\n",
        "    - init_index: int, starting index for extraction.\n",
        "    - num_qpoints: int, number of k-points to consider.\n",
        "\n",
        "    Returns:\n",
        "    - numpy array: Extracted band data.\n",
        "    \"\"\"\n",
        "    return band_str[init_index: num_qpoints + init_index, band_index]\n",
        "\n",
        "def calculate_magnitudes(kp_rl):\n",
        "    \"\"\"\n",
        "    Compute the magnitudes of k-points in reciprocal space.\n",
        "\n",
        "    Parameters:\n",
        "    - kp_rl: numpy array, k-points in reciprocal space.\n",
        "\n",
        "    Returns:\n",
        "    - numpy array: Magnitudes of k-points.\n",
        "    \"\"\"\n",
        "    return norm(kp_rl, axis=1)\n",
        "\n",
        "def get_band_indices(lowest_band_dir):\n",
        "    \"\"\"\n",
        "    Get the indices of the minimum and maximum values from the band data.\n",
        "\n",
        "    Parameters:\n",
        "    - lowest_band_dir: numpy array, band data for a specific band.\n",
        "\n",
        "    Returns:\n",
        "    - tuple: Indices of the minimum and maximum values.\n",
        "    \"\"\"\n",
        "    min_band = np.argmin(lowest_band_dir, axis=0)\n",
        "    max_band = np.argmax(lowest_band_dir, axis=0)\n",
        "    return min_band, max_band\n",
        "\n",
        "def compute_energy_kp(band_str, band_index, init_index, min_band, max_band):\n",
        "    \"\"\"\n",
        "    Compute energy difference for the k-points between minimum and maximum bands.\n",
        "\n",
        "    Parameters:\n",
        "    - band_str: numpy array, band structure data.\n",
        "    - band_index: int, index of the band.\n",
        "    - init_index: int, starting index for extraction.\n",
        "    - min_band: int, index of the minimum band.\n",
        "    - max_band: int, index of the maximum band.\n",
        "\n",
        "    Returns:\n",
        "    - tuple: K-point magnitudes and energy differences.\n",
        "    \"\"\"\n",
        "    kp_mag = norm(kp_rl, axis=1)\n",
        "    kp_engr = kp_mag[init_index + max_band: init_index + min_band]\n",
        "    energy_kp = band_str[init_index + max_band: init_index + min_band, band_index] - band_str[init_index + min_band, band_index]\n",
        "    return kp_engr, energy_kp\n",
        "\n",
        "def sort_energy_kp(kp_engr, energy_kp):\n",
        "    \"\"\"\n",
        "    Sort k-point energies and their corresponding k-point magnitudes.\n",
        "\n",
        "    Parameters:\n",
        "    - kp_engr: numpy array, k-point magnitudes.\n",
        "    - energy_kp: numpy array, energy differences.\n",
        "\n",
        "    Returns:\n",
        "    - tuple: Sorted k-point magnitudes and sorted energy differences.\n",
        "    \"\"\"\n",
        "    sort_enrg = np.argsort(energy_kp, axis=0)\n",
        "    return kp_engr[sort_enrg], energy_kp[sort_enrg]\n",
        "\n",
        "def compute_group_velocity(kp_engr_sorted, energy_kp_sorted, engr):\n",
        "    \"\"\"\n",
        "    Compute the group velocity of electrons.\n",
        "\n",
        "    Parameters:\n",
        "    - kp_engr_sorted: numpy array, sorted k-point magnitudes.\n",
        "    - energy_kp_sorted: numpy array, sorted energy differences.\n",
        "    - engr: numpy array, energy values.\n",
        "\n",
        "    Returns:\n",
        "    - numpy array: Computed group velocities.\n",
        "    \"\"\"\n",
        "    return group_velocity(kpoints=kp_engr_sorted, energy_kp=energy_kp_sorted, energy=engr)\n",
        "\n",
        "def main_pipeline(band_str, kp_rl, si_conduc_band, lowest_band_dir_init, num_qpoints, engr):\n",
        "    \"\"\"\n",
        "    Main pipeline to process band structure data and compute group velocity.\n",
        "\n",
        "    Parameters:\n",
        "    - band_str: numpy array, band structure data.\n",
        "    - kp_rl: numpy array, k-points in reciprocal space.\n",
        "    - si_conduc_band: int, index of the conduction band.\n",
        "    - lowest_band_dir_init: int, starting index for the lowest band.\n",
        "    - num_qpoints: int, number of k-points.\n",
        "    - engr: numpy array, energy values.\n",
        "\n",
        "    Returns:\n",
        "    - numpy array: Computed group velocities.\n",
        "    \"\"\"\n",
        "\n",
        "    lowest_band_dir = extract_band_data(band_str, si_conduc_band, lowest_band_dir_init, num_qpoints)\n",
        "    kp_mag = calculate_magnitudes(kp_rl)\n",
        "    min_band, max_band = get_band_indices(lowest_band_dir)\n",
        "    kp_engr, energy_kp = compute_energy_kp(band_str, si_conduc_band, lowest_band_dir_init, min_band, max_band)\n",
        "    kp_engr_sorted, energy_kp_sorted = sort_energy_kp(kp_engr, energy_kp)\n",
        "\n",
        "    return compute_group_velocity(kp_engr_sorted, energy_kp_sorted, engr)\n",
        "\n",
        "si_conduc_band = 4\n",
        "lowest_band_dir_init = 400\n",
        "grp_velocity = main_pipeline(band_str, kp_rl, si_conduc_band, lowest_band_dir_init, num_qpoints, engr)"
      ],
      "metadata": {
        "id": "P-GEInvBOoUc"
      },
      "execution_count": null,
      "outputs": []
    },
    {
      "cell_type": "code",
      "source": [
        "unitcell_vol=2*19.70272e-30\n",
        "e_density = electron_density(path_density='DFT_Data/DOSCAR', header_lines=6, unitcell_volume=unitcell_vol,\n",
        "                             num_dos_points=2000, valley_point=1118, energy=engr)"
      ],
      "metadata": {
        "id": "Jup3ARKZvn3o"
      },
      "execution_count": null,
      "outputs": []
    },
    {
      "cell_type": "markdown",
      "source": [
        "### Fermi Level Properties"
      ],
      "metadata": {
        "id": "4jgJP0eVpO19"
      }
    },
    {
      "cell_type": "code",
      "source": [
        "def compute_fermi_level(carrier_data, energy, density, Nc=None, A=5.3e21, temp=None):\n",
        "    \"\"\"\n",
        "    Compute the Fermi level using Joyce-Dixon approximation for given carrier data and experimental conditions.\n",
        "\n",
        "    Parameters:\n",
        "    - carrier_data: numpy array, carrier concentration data.\n",
        "    - energy: numpy array, energy values.\n",
        "    - density: numpy array, density values.\n",
        "    - Nc: float or None, effective density of states (default: None).\n",
        "    - A: float, constant A (default: 5.3e21).\n",
        "    - temp: numpy array or float, temperature data to be used in the calculation.\n",
        "\n",
        "    Returns:\n",
        "    - numpy array: Computed Fermi level.\n",
        "    \"\"\"\n",
        "    return fermi_level(carrier=carrier_data, energy=energy, density=density, Nc=Nc, A=A, temp=temp)\n",
        "\n",
        "fermi_params = {\n",
        "    \"0pct_heating\": {'carrier_data': cc_0pct_heating, 'path': 'Exp_Data/ExpData_SiCfrac-0pct_direction-up.txt'},\n",
        "    \"1pct_heating\": {'carrier_data': cc_1pct_heating, 'path': 'Exp_Data/ExpData_SiCfrac-1pct_direction-up.txt'},\n",
        "    \"5pct_heating\": {'carrier_data': cc_5pct_heating, 'path': 'Exp_Data/ExpData_SiCfrac-5pct_direction-up.txt'},\n",
        "    \"5pct_cooling\": {'carrier_data': cc_5pct_cooling, 'path': 'Exp_Data/ExpData_SiCfrac-5pct_direction-down.txt'}\n",
        "    }\n",
        "\n",
        "fermi_levels = {key: compute_fermi_level(carrier_data=params['carrier_data'], energy=engr, density=e_density, A=5.3e21, temp=tmpr)\n",
        "                for key, params in fermi_params.items()}\n",
        "\n",
        "JD_0pct_heating = fermi_levels[\"0pct_heating\"]\n",
        "JD_1pct_heating = fermi_levels[\"1pct_heating\"]\n",
        "JD_5pct_heating = fermi_levels[\"5pct_heating\"]\n",
        "JD_5pct_cooling = fermi_levels[\"5pct_cooling\"]"
      ],
      "metadata": {
        "id": "AHC85LovOoYU"
      },
      "execution_count": null,
      "outputs": []
    },
    {
      "cell_type": "code",
      "source": [
        "def compute_fermi_levels(carriers, temps, energies, densities, fermi_guesses):\n",
        "    \"\"\"\n",
        "    Compute the Fermi levels for different carrier concentrations and conditions.\n",
        "\n",
        "    Parameters\n",
        "    ----------\n",
        "    carriers : list of np.ndarray\n",
        "        List of carrier concentrations for different conditions.\n",
        "    temps : np.ndarray\n",
        "        Temperature range.\n",
        "    energies : np.ndarray\n",
        "        Energy levels.\n",
        "    densities : np.ndarray\n",
        "        Density of states.\n",
        "    fermi_guesses : list of np.ndarray\n",
        "        List of initial Fermi level guesses for different conditions.\n",
        "\n",
        "    Returns\n",
        "    -------\n",
        "    list of np.ndarray\n",
        "        List of Fermi level results for different conditions.\n",
        "    \"\"\"\n",
        "    return [fermi_self_consistent(\n",
        "                carrier=carrier,\n",
        "                temp=temps,\n",
        "                energy=energies,\n",
        "                density=densities,\n",
        "                fermi_guess=fermi_guess\n",
        "            )\n",
        "            for carrier, fermi_guess in zip(carriers, fermi_guesses)\n",
        "           ]\n",
        "\n",
        "carriers = [cc_0pct_heating, cc_1pct_heating, cc_5pct_heating, cc_5pct_cooling]\n",
        "fermi_guesses = [JD_0pct_heating, JD_1pct_heating, JD_5pct_heating, JD_5pct_cooling]\n",
        "\n",
        "fermi_levels = compute_fermi_levels(\n",
        "    carriers=carriers,\n",
        "    temps=tmpr,\n",
        "    energies=engr,\n",
        "    densities=e_density,\n",
        "    fermi_guesses=fermi_guesses\n",
        "    )\n",
        "\n",
        "fermi_0pct_heating, fermi_1pct_heating, fermi_5pct_heating, fermi_5pct_cooling = fermi_levels"
      ],
      "metadata": {
        "colab": {
          "base_uri": "https://localhost:8080/"
        },
        "id": "BOQyt6jkBldt",
        "outputId": "beb90f18-494f-48e0-ab4d-c739409fcd50"
      },
      "execution_count": null,
      "outputs": [
        {
          "output_type": "stream",
          "name": "stderr",
          "text": [
            "Processing temperatures:   0%|          | 0/21 [00:00<?, ?it/s]\n",
            "Processing fermi levels for temp 300:   0%|          | 0/40 [00:00<?, ?it/s]\u001b[A<ipython-input-234-856f78122c76>:52: DeprecationWarning: Conversion of an array with ndim > 0 to a scalar is deprecated, and will error in future. Ensure you extract a single element from your array before performing this operation. (Deprecated NumPy 1.25.)\n",
            "  result[j, i] = np.trapz(density * f_dist, energy, axis=1)\n",
            "\n",
            "                                                                            \u001b[A\n",
            "Processing fermi levels for temp 350:   0%|          | 0/40 [00:00<?, ?it/s]\u001b[A\n",
            "                                                                            \u001b[A\n",
            "Processing fermi levels for temp 400:   0%|          | 0/40 [00:00<?, ?it/s]\u001b[A\n",
            "                                                                            \u001b[A\n",
            "Processing fermi levels for temp 450:   0%|          | 0/40 [00:00<?, ?it/s]\u001b[A\n",
            "Processing temperatures:  19%|█▉        | 4/21 [00:00<00:00, 39.22it/s]\n",
            "Processing fermi levels for temp 500:   0%|          | 0/40 [00:00<?, ?it/s]\u001b[A\n",
            "                                                                            \u001b[A\n",
            "Processing fermi levels for temp 550:   0%|          | 0/40 [00:00<?, ?it/s]\u001b[A\n",
            "                                                                            \u001b[A\n",
            "Processing fermi levels for temp 600:   0%|          | 0/40 [00:00<?, ?it/s]\u001b[A\n",
            "                                                                            \u001b[A\n",
            "Processing fermi levels for temp 650:   0%|          | 0/40 [00:00<?, ?it/s]\u001b[A\n",
            "Processing temperatures:  38%|███▊      | 8/21 [00:00<00:00, 37.20it/s]\n",
            "Processing fermi levels for temp 700:   0%|          | 0/40 [00:00<?, ?it/s]\u001b[A\n",
            "                                                                            \u001b[A\n",
            "Processing fermi levels for temp 750:   0%|          | 0/40 [00:00<?, ?it/s]\u001b[A\n",
            "                                                                            \u001b[A\n",
            "Processing fermi levels for temp 800:   0%|          | 0/40 [00:00<?, ?it/s]\u001b[A\n",
            "                                                                            \u001b[A\n",
            "Processing fermi levels for temp 850:   0%|          | 0/40 [00:00<?, ?it/s]\u001b[A\n",
            "Processing temperatures:  57%|█████▋    | 12/21 [00:00<00:00, 35.30it/s]\n",
            "Processing fermi levels for temp 900:   0%|          | 0/40 [00:00<?, ?it/s]\u001b[A\n",
            "                                                                            \u001b[A\n",
            "Processing fermi levels for temp 950:   0%|          | 0/40 [00:00<?, ?it/s]\u001b[A\n",
            "                                                                            \u001b[A\n",
            "Processing fermi levels for temp 1000:   0%|          | 0/40 [00:00<?, ?it/s]\u001b[A\n",
            "                                                                             \u001b[A\n",
            "Processing fermi levels for temp 1050:   0%|          | 0/40 [00:00<?, ?it/s]\u001b[A\n",
            "Processing temperatures:  76%|███████▌  | 16/21 [00:00<00:00, 33.11it/s]\n",
            "Processing fermi levels for temp 1100:   0%|          | 0/40 [00:00<?, ?it/s]\u001b[A\n",
            "                                                                             \u001b[A\n",
            "Processing fermi levels for temp 1150:   0%|          | 0/40 [00:00<?, ?it/s]\u001b[A\n",
            "                                                                             \u001b[A\n",
            "Processing fermi levels for temp 1200:   0%|          | 0/40 [00:00<?, ?it/s]\u001b[A\n",
            "                                                                             \u001b[A\n",
            "Processing fermi levels for temp 1250:   0%|          | 0/40 [00:00<?, ?it/s]\u001b[A\n",
            "Processing temperatures:  95%|█████████▌| 20/21 [00:00<00:00, 28.03it/s]\n",
            "Processing fermi levels for temp 1300:   0%|          | 0/40 [00:00<?, ?it/s]\u001b[A\n",
            "Processing temperatures: 100%|██████████| 21/21 [00:00<00:00, 30.28it/s]\n"
          ]
        },
        {
          "output_type": "stream",
          "name": "stdout",
          "text": [
            "Self-consistent Fermi Level Diverged! Please increase energy range or number of sampling points\n"
          ]
        },
        {
          "output_type": "stream",
          "name": "stderr",
          "text": [
            "Processing temperatures:   0%|          | 0/21 [00:00<?, ?it/s]\n",
            "Processing fermi levels for temp 300:   0%|          | 0/40 [00:00<?, ?it/s]\u001b[A\n",
            "                                                                            \u001b[A\n",
            "Processing fermi levels for temp 350:   0%|          | 0/40 [00:00<?, ?it/s]\u001b[A\n",
            "                                                                            \u001b[A\n",
            "Processing fermi levels for temp 400:   0%|          | 0/40 [00:00<?, ?it/s]\u001b[A\n",
            "Processing temperatures:  14%|█▍        | 3/21 [00:00<00:00, 22.85it/s]\n",
            "Processing fermi levels for temp 450:   0%|          | 0/40 [00:00<?, ?it/s]\u001b[A\n",
            "                                                                            \u001b[A\n",
            "Processing fermi levels for temp 500:   0%|          | 0/40 [00:00<?, ?it/s]\u001b[A\n",
            "                                                                            \u001b[A\n",
            "Processing fermi levels for temp 550:   0%|          | 0/40 [00:00<?, ?it/s]\u001b[A\n",
            "Processing temperatures:  29%|██▊       | 6/21 [00:00<00:00, 23.32it/s]\n",
            "Processing fermi levels for temp 600:   0%|          | 0/40 [00:00<?, ?it/s]\u001b[A\n",
            "                                                                            \u001b[A\n",
            "Processing fermi levels for temp 650:   0%|          | 0/40 [00:00<?, ?it/s]\u001b[A\n",
            "                                                                            \u001b[A\n",
            "Processing fermi levels for temp 700:   0%|          | 0/40 [00:00<?, ?it/s]\u001b[A\n",
            "Processing temperatures:  43%|████▎     | 9/21 [00:00<00:00, 22.40it/s]\n",
            "Processing fermi levels for temp 750:   0%|          | 0/40 [00:00<?, ?it/s]\u001b[A\n",
            "                                                                            \u001b[A\n",
            "Processing fermi levels for temp 800:   0%|          | 0/40 [00:00<?, ?it/s]\u001b[A\n",
            "                                                                            \u001b[A\n",
            "Processing fermi levels for temp 850:   0%|          | 0/40 [00:00<?, ?it/s]\u001b[A\n",
            "Processing temperatures:  57%|█████▋    | 12/21 [00:00<00:00, 22.64it/s]\n",
            "Processing fermi levels for temp 900:   0%|          | 0/40 [00:00<?, ?it/s]\u001b[A\n",
            "                                                                            \u001b[A\n",
            "Processing fermi levels for temp 950:   0%|          | 0/40 [00:00<?, ?it/s]\u001b[A\n",
            "                                                                            \u001b[A\n",
            "Processing fermi levels for temp 1000:   0%|          | 0/40 [00:00<?, ?it/s]\u001b[A\n",
            "Processing temperatures:  71%|███████▏  | 15/21 [00:00<00:00, 22.78it/s]\n",
            "Processing fermi levels for temp 1050:   0%|          | 0/40 [00:00<?, ?it/s]\u001b[A\n",
            "                                                                             \u001b[A\n",
            "Processing fermi levels for temp 1100:   0%|          | 0/40 [00:00<?, ?it/s]\u001b[A\n",
            "                                                                             \u001b[A\n",
            "Processing fermi levels for temp 1150:   0%|          | 0/40 [00:00<?, ?it/s]\u001b[A\n",
            "Processing temperatures:  86%|████████▌ | 18/21 [00:00<00:00, 22.39it/s]\n",
            "Processing fermi levels for temp 1200:   0%|          | 0/40 [00:00<?, ?it/s]\u001b[A\n",
            "                                                                             \u001b[A\n",
            "Processing fermi levels for temp 1250:   0%|          | 0/40 [00:00<?, ?it/s]\u001b[A\n",
            "                                                                             \u001b[A\n",
            "Processing fermi levels for temp 1300:   0%|          | 0/40 [00:00<?, ?it/s]\u001b[A\n",
            "Processing temperatures: 100%|██████████| 21/21 [00:00<00:00, 21.50it/s]\n"
          ]
        },
        {
          "output_type": "stream",
          "name": "stdout",
          "text": [
            "Self-consistent Fermi Level Diverged! Please increase energy range or number of sampling points\n"
          ]
        },
        {
          "output_type": "stream",
          "name": "stderr",
          "text": [
            "Processing temperatures:   0%|          | 0/21 [00:00<?, ?it/s]\n",
            "Processing fermi levels for temp 300:   0%|          | 0/40 [00:00<?, ?it/s]\u001b[A\n",
            "                                                                            \u001b[A\n",
            "Processing fermi levels for temp 350:   0%|          | 0/40 [00:00<?, ?it/s]\u001b[A\n",
            "Processing temperatures:  10%|▉         | 2/21 [00:00<00:01, 17.56it/s]\n",
            "Processing fermi levels for temp 400:   0%|          | 0/40 [00:00<?, ?it/s]\u001b[A\n",
            "                                                                            \u001b[A\n",
            "Processing fermi levels for temp 450:   0%|          | 0/40 [00:00<?, ?it/s]\u001b[A\n",
            "                                                                            \u001b[A\n",
            "Processing fermi levels for temp 500:   0%|          | 0/40 [00:00<?, ?it/s]\u001b[A\n",
            "Processing temperatures:  24%|██▍       | 5/21 [00:00<00:00, 22.80it/s]\n",
            "Processing fermi levels for temp 550:   0%|          | 0/40 [00:00<?, ?it/s]\u001b[A\n",
            "                                                                            \u001b[A\n",
            "Processing fermi levels for temp 600:   0%|          | 0/40 [00:00<?, ?it/s]\u001b[A\n",
            "                                                                            \u001b[A\n",
            "Processing fermi levels for temp 650:   0%|          | 0/40 [00:00<?, ?it/s]\u001b[A\n",
            "Processing temperatures:  38%|███▊      | 8/21 [00:00<00:00, 21.79it/s]\n",
            "Processing fermi levels for temp 700:   0%|          | 0/40 [00:00<?, ?it/s]\u001b[A\n",
            "                                                                            \u001b[A\n",
            "Processing fermi levels for temp 750:   0%|          | 0/40 [00:00<?, ?it/s]\u001b[A\n",
            "                                                                            \u001b[A\n",
            "Processing fermi levels for temp 800:   0%|          | 0/40 [00:00<?, ?it/s]\u001b[A\n",
            "Processing temperatures:  52%|█████▏    | 11/21 [00:00<00:00, 21.90it/s]\n",
            "Processing fermi levels for temp 850:   0%|          | 0/40 [00:00<?, ?it/s]\u001b[A\n",
            "                                                                            \u001b[A\n",
            "Processing fermi levels for temp 900:   0%|          | 0/40 [00:00<?, ?it/s]\u001b[A\n",
            "                                                                            \u001b[A\n",
            "Processing fermi levels for temp 950:   0%|          | 0/40 [00:00<?, ?it/s]\u001b[A\n",
            "Processing temperatures:  67%|██████▋   | 14/21 [00:00<00:00, 22.23it/s]\n",
            "Processing fermi levels for temp 1000:   0%|          | 0/40 [00:00<?, ?it/s]\u001b[A\n",
            "                                                                             \u001b[A\n",
            "Processing fermi levels for temp 1050:   0%|          | 0/40 [00:00<?, ?it/s]\u001b[A\n",
            "                                                                             \u001b[A\n",
            "Processing fermi levels for temp 1100:   0%|          | 0/40 [00:00<?, ?it/s]\u001b[A\n",
            "Processing temperatures:  81%|████████  | 17/21 [00:00<00:00, 22.06it/s]\n",
            "Processing fermi levels for temp 1150:   0%|          | 0/40 [00:00<?, ?it/s]\u001b[A\n",
            "                                                                             \u001b[A\n",
            "Processing fermi levels for temp 1200:   0%|          | 0/40 [00:00<?, ?it/s]\u001b[A\n",
            "                                                                             \u001b[A\n",
            "Processing fermi levels for temp 1250:   0%|          | 0/40 [00:00<?, ?it/s]\u001b[A\n",
            "Processing temperatures:  95%|█████████▌| 20/21 [00:00<00:00, 21.02it/s]\n",
            "Processing fermi levels for temp 1300:   0%|          | 0/40 [00:00<?, ?it/s]\u001b[A\n",
            "Processing temperatures: 100%|██████████| 21/21 [00:00<00:00, 21.13it/s]\n"
          ]
        },
        {
          "output_type": "stream",
          "name": "stdout",
          "text": [
            "Self-consistent Fermi Level Diverged! Please increase energy range or number of sampling points\n"
          ]
        },
        {
          "output_type": "stream",
          "name": "stderr",
          "text": [
            "Processing temperatures:   0%|          | 0/21 [00:00<?, ?it/s]\n",
            "Processing fermi levels for temp 300:   0%|          | 0/40 [00:00<?, ?it/s]\u001b[A\n",
            "                                                                            \u001b[A\n",
            "Processing fermi levels for temp 350:   0%|          | 0/40 [00:00<?, ?it/s]\u001b[A\n",
            "Processing temperatures:  10%|▉         | 2/21 [00:00<00:00, 19.86it/s]\n",
            "Processing fermi levels for temp 400:   0%|          | 0/40 [00:00<?, ?it/s]\u001b[A\n",
            "                                                                            \u001b[A\n",
            "Processing fermi levels for temp 450:   0%|          | 0/40 [00:00<?, ?it/s]\u001b[A\n",
            "                                                                            \u001b[A\n",
            "Processing fermi levels for temp 500:   0%|          | 0/40 [00:00<?, ?it/s]\u001b[A\n",
            "Processing temperatures:  24%|██▍       | 5/21 [00:00<00:00, 22.05it/s]\n",
            "Processing fermi levels for temp 550:   0%|          | 0/40 [00:00<?, ?it/s]\u001b[A\n",
            "                                                                            \u001b[A\n",
            "Processing fermi levels for temp 600:   0%|          | 0/40 [00:00<?, ?it/s]\u001b[A\n",
            "                                                                            \u001b[A\n",
            "Processing fermi levels for temp 650:   0%|          | 0/40 [00:00<?, ?it/s]\u001b[A\n",
            "Processing temperatures:  38%|███▊      | 8/21 [00:00<00:00, 23.35it/s]\n",
            "Processing fermi levels for temp 700:   0%|          | 0/40 [00:00<?, ?it/s]\u001b[A\n",
            "                                                                            \u001b[A\n",
            "Processing fermi levels for temp 750:   0%|          | 0/40 [00:00<?, ?it/s]\u001b[A\n",
            "                                                                            \u001b[A\n",
            "Processing fermi levels for temp 800:   0%|          | 0/40 [00:00<?, ?it/s]\u001b[A\n",
            "Processing temperatures:  52%|█████▏    | 11/21 [00:00<00:00, 21.38it/s]\n",
            "Processing fermi levels for temp 850:   0%|          | 0/40 [00:00<?, ?it/s]\u001b[A\n",
            "                                                                            \u001b[A\n",
            "Processing fermi levels for temp 900:   0%|          | 0/40 [00:00<?, ?it/s]\u001b[A\n",
            "                                                                            \u001b[A\n",
            "Processing fermi levels for temp 950:   0%|          | 0/40 [00:00<?, ?it/s]\u001b[A\n",
            "Processing temperatures:  67%|██████▋   | 14/21 [00:00<00:00, 21.87it/s]\n",
            "Processing fermi levels for temp 1000:   0%|          | 0/40 [00:00<?, ?it/s]\u001b[A\n",
            "                                                                             \u001b[A\n",
            "Processing fermi levels for temp 1050:   0%|          | 0/40 [00:00<?, ?it/s]\u001b[A\n",
            "                                                                             \u001b[A\n",
            "Processing fermi levels for temp 1100:   0%|          | 0/40 [00:00<?, ?it/s]\u001b[A\n",
            "Processing temperatures:  81%|████████  | 17/21 [00:00<00:00, 22.30it/s]\n",
            "Processing fermi levels for temp 1150:   0%|          | 0/40 [00:00<?, ?it/s]\u001b[A\n",
            "                                                                             \u001b[A\n",
            "Processing fermi levels for temp 1200:   0%|          | 0/40 [00:00<?, ?it/s]\u001b[A\n",
            "                                                                             \u001b[A\n",
            "Processing fermi levels for temp 1250:   0%|          | 0/40 [00:00<?, ?it/s]\u001b[A\n",
            "Processing temperatures:  95%|█████████▌| 20/21 [00:00<00:00, 22.38it/s]\n",
            "Processing fermi levels for temp 1300:   0%|          | 0/40 [00:00<?, ?it/s]\u001b[A\n",
            "Processing temperatures: 100%|██████████| 21/21 [00:00<00:00, 22.11it/s]"
          ]
        },
        {
          "output_type": "stream",
          "name": "stdout",
          "text": [
            "Self-consistent Fermi Level Diverged! Please increase energy range or number of sampling points\n"
          ]
        },
        {
          "output_type": "stream",
          "name": "stderr",
          "text": [
            "\n"
          ]
        }
      ]
    },
    {
      "cell_type": "code",
      "source": [
        "plt.plot(tmpr[0],fermi_0pct_heating[1])\n",
        "plt.plot(tmpr[0],fermi_1pct_heating[1])\n",
        "plt.plot(tmpr[0],fermi_5pct_heating[1])\n",
        "plt.plot(tmpr[0],fermi_5pct_cooling[1])"
      ],
      "metadata": {
        "colab": {
          "base_uri": "https://localhost:8080/",
          "height": 518
        },
        "id": "lsuCX8rewpiy",
        "outputId": "601f527b-d74d-4972-c283-f5dfca3616e9"
      },
      "execution_count": null,
      "outputs": [
        {
          "output_type": "execute_result",
          "data": {
            "text/plain": [
              "[<matplotlib.lines.Line2D at 0x7e10ff7cd750>]"
            ]
          },
          "metadata": {},
          "execution_count": 44
        },
        {
          "output_type": "display_data",
          "data": {
            "text/plain": [
              "<Figure size 800x550 with 1 Axes>"
            ],
            "image/png": "[encoded data removed]"
          },
          "metadata": {}
        }
      ]
    },
    {
      "cell_type": "code",
      "source": [
        "def compute_fermi_distributions(fermi_levels, energy, temp):\n",
        "    \"\"\"\n",
        "    Compute Fermi distributions for a list of Fermi levels.\n",
        "\n",
        "    Parameters\n",
        "    ----------\n",
        "    fermi_levels : list of np.ndarray\n",
        "        List of Fermi levels for different conditions.\n",
        "    energy : np.ndarray\n",
        "        Energy levels.\n",
        "    temp : np.ndarray\n",
        "        Temperature range.\n",
        "\n",
        "    Returns\n",
        "    -------\n",
        "    list of np.ndarray\n",
        "        List of computed Fermi distributions for different conditions.\n",
        "    \"\"\"\n",
        "    return [fermi_distribution(energy=energy, fermi_level=f[1][np.newaxis, :], temp=temp)\n",
        "            for f in fermi_levels]\n",
        "\n",
        "def save_fermi_levels(fermi_levels, temps, k_B):\n",
        "    \"\"\"\n",
        "    Save Fermi levels to files with specified paths.\n",
        "\n",
        "    Parameters\n",
        "    ----------\n",
        "    fermi_levels : list of np.ndarray\n",
        "        List of Fermi levels for different conditions.\n",
        "    temps : np.ndarray\n",
        "        Temperature range.\n",
        "    k_B : float\n",
        "        Boltzmann constant.\n",
        "    \"\"\"\n",
        "    output_dir = \"Output_Files\"\n",
        "    if not os.path.exists(output_dir):\n",
        "        os.makedirs(output_dir)\n",
        "    file_paths = [\n",
        "        \"Output_Files/Ef-no-inc.out\",\n",
        "        \"Output_Files/Ef-inc-1pct.out\",\n",
        "        \"Output_Files/Ef-inc-5pct-dir-up.out\",\n",
        "        \"Output_Files/Ef-inc-5pct-dir-down.out\"\n",
        "    ]\n",
        "    for fermi_level, path in zip(fermi_levels, file_paths):\n",
        "        np.savetxt(path, fermi_level[1] / temps / k_B)\n",
        "\n",
        "fermi_levels = [fermi_0pct_heating, fermi_1pct_heating, fermi_5pct_heating, fermi_5pct_cooling]\n",
        "fermi_distributions = compute_fermi_distributions(fermi_levels, engr, tmpr)\n",
        "\n",
        "save_fermi_levels(fermi_levels, tmpr, k_B)"
      ],
      "metadata": {
        "id": "rCU_8dYiB-yo"
      },
      "execution_count": null,
      "outputs": []
    },
    {
      "cell_type": "code",
      "source": [
        "# Non-degenerate screening length\n",
        "def compute_screening_lengths(carriers, temp):\n",
        "    \"\"\"\n",
        "    Compute the non-degenerate screening length for different carrier concentrations.\n",
        "\n",
        "    Parameters\n",
        "    ----------\n",
        "    carriers : list of np.ndarray\n",
        "        List of carrier concentrations for different conditions.\n",
        "    temp : np.ndarray\n",
        "        Temperature range.\n",
        "    Returns\n",
        "    -------\n",
        "    list of np.ndarray\n",
        "        List of computed screening lengths for different conditions.\n",
        "    \"\"\"\n",
        "    return [np.sqrt(4 * np.pi * dielectric_constant * permittivity_vacuum * k_B / e2C * temp / carrier)\n",
        "            for carrier in carriers]\n",
        "\n",
        "def compute_effective_density_of_states(temp):\n",
        "    \"\"\"\n",
        "    Compute the effective density of states Nc.\n",
        "\n",
        "    Parameters\n",
        "    ----------\n",
        "    temp : np.ndarray\n",
        "        Temperature range.\n",
        "    Returns\n",
        "    -------\n",
        "    np.ndarray\n",
        "        Effective density of states Nc.\n",
        "    \"\"\"\n",
        "    return 2 * (mass_cond * k_B * temp / h_bar**2 / (2 * np.pi) / e2C)**(3./2)\n",
        "\n",
        "carriers = [cc_0pct_heating, cc_1pct_heating, cc_5pct_heating, cc_5pct_cooling]\n",
        "\n",
        "# Compute screening lengths\n",
        "mass_cond = 0.23 * electron_mass * (1 + 5 * nonparabolic_term * k_B * tmpr)\n",
        "screening_lengths = compute_screening_lengths(carriers=carriers, temp=tmpr)\n",
        "degen_screen_len_0pct, degen_screen_len_1pct_dir_up, degen_screen_len_5pct_dir_up, degen_screen_len_5pct_dir_down = screening_lengths\n",
        "Nc = compute_effective_density_of_states(temp=tmpr)"
      ],
      "metadata": {
        "id": "RBgROvzBOocO"
      },
      "execution_count": null,
      "outputs": []
    },
    {
      "cell_type": "code",
      "source": [
        "# Load Fermi energy levels from files\n",
        "Ef_0pct = np.loadtxt(\"Output_Files/Ef-no-inc.out\")\n",
        "Ef_1pct = np.loadtxt(\"Output_Files/Ef-inc-1pct.out\")\n",
        "Ef_5pct_dir_up = np.loadtxt(\"Output_Files/Ef-inc-5pct-dir-up.out\")\n",
        "Ef_5pct_dir_down = np.loadtxt(\"Output_Files/Ef-inc-5pct-dir-down.out\")\n",
        "\n",
        "# Ef_0pct\n",
        "f1_0pct = [fermi(0.5, eta) for eta in Ef_0pct]\n",
        "f2_0pct = [fermi(-0.5, eta) for eta in Ef_0pct]\n",
        "np.savetxt('Output_Files/fermi-0pct.out', np.vstack([f1_0pct, f2_0pct]))\n",
        "\n",
        "# Ef_1pct\n",
        "f1_1pct = [fermi(0.5, eta) for eta in Ef_1pct]\n",
        "f2_1pct = [fermi(-0.5, eta) for eta in Ef_1pct]\n",
        "np.savetxt('Output_Files/fermi-1pct.out', np.vstack([f1_1pct, f2_1pct]))\n",
        "\n",
        "# Ef_5pct_dir_up\n",
        "f1_5pct_dir_up = [fermi(0.5, eta) for eta in Ef_5pct_dir_up]\n",
        "f2_5pct_dir_up = [fermi(-0.5, eta) for eta in Ef_5pct_dir_up]\n",
        "np.savetxt('Output_Files/fermi-5pct-dir-up.out', np.vstack([f1_5pct_dir_up, f2_5pct_dir_up]))\n",
        "\n",
        "# Ef_5pct_dir_down\n",
        "f1_5pct_dir_down = [fermi(0.5, eta) for eta in Ef_5pct_dir_down]\n",
        "f2_5pct_dir_down = [fermi(-0.5, eta) for eta in Ef_5pct_dir_down]\n",
        "np.savetxt('Output_Files/fermi-5pct-dir-down.out', np.vstack([f1_5pct_dir_down, f2_5pct_dir_down]))"
      ],
      "metadata": {
        "id": "5aL3K0vMsALu"
      },
      "execution_count": null,
      "outputs": []
    },
    {
      "cell_type": "code",
      "source": [
        "def load_fermi_data(file_paths, delimiter=None):\n",
        "    \"\"\"\n",
        "    Load Fermi level data from specified file paths.\n",
        "\n",
        "    Parameters\n",
        "    ----------\n",
        "    file_paths : list of str\n",
        "        List of file paths to load data from.\n",
        "    delimiter : str, optional\n",
        "        Delimiter used in the files (default is ',').\n",
        "\n",
        "    Returns\n",
        "    -------\n",
        "    list of np.ndarray\n",
        "        Loaded Fermi level data as a list of arrays.\n",
        "    \"\"\"\n",
        "    fermi_data = []\n",
        "    for path in file_paths:\n",
        "        try:\n",
        "            data = np.loadtxt(path, delimiter=delimiter)\n",
        "            fermi_data.append(data)\n",
        "        except Exception as e:\n",
        "            print(f\"Error loading {path}: {e}\")\n",
        "    return fermi_data\n",
        "\n",
        "# Define file paths for the Fermi level data\n",
        "fermi_file_paths = [\n",
        "    \"Output_Files/fermi-0pct.out\",\n",
        "    \"Output_Files/fermi-1pct.out\",\n",
        "    \"Output_Files/fermi-5pct-dir-up.out\",\n",
        "    \"Output_Files/fermi-5pct-dir-down.out\"\n",
        "    ]\n",
        "# Load Fermi level data\n",
        "fermi_0pct, fermi_1pct, fermi_5pct_dir_up, fermi_5pct_dir_down = load_fermi_data(fermi_file_paths)"
      ],
      "metadata": {
        "id": "82BxsLZGO78Z"
      },
      "execution_count": null,
      "outputs": []
    },
    {
      "cell_type": "code",
      "source": [
        "def calculate_screening_length(Nc, tmpr, fermi):\n",
        "    \"\"\"\n",
        "    Calculate the screening length for a given set of parameters.\n",
        "\n",
        "    Parameters\n",
        "    ----------\n",
        "    Nc : float\n",
        "        Effective density of states in the conduction band.\n",
        "    tmpr : float\n",
        "        Temperature.\n",
        "    fermi : np.ndarray\n",
        "        Fermi level data, with [0] being the Fermi energy and [1] the carrier concentration.\n",
        "\n",
        "    Returns\n",
        "    -------\n",
        "    float\n",
        "        Screening length.\n",
        "    \"\"\"\n",
        "    _ = fermi[1] + 15 * nonparabolic_term * k_B * tmpr / (4 * fermi[0])\n",
        "    screening_length = np.sqrt(1 / (Nc / dielectric_constant / permittivity_vacuum / k_B / tmpr * e2C * _))\n",
        "\n",
        "    return screening_length\n",
        "\n",
        "screen_len_0pct = calculate_screening_length(Nc, tmpr, fermi_0pct)\n",
        "screen_len_1pct = calculate_screening_length(Nc, tmpr, fermi_1pct)\n",
        "screen_len_5pct_dir_up = calculate_screening_length(Nc, tmpr, fermi_5pct_dir_up)\n",
        "screen_len_5pct_dir_down = calculate_screening_length(Nc, tmpr, fermi_5pct_dir_down)"
      ],
      "metadata": {
        "id": "5IXtUCexO9bP"
      },
      "execution_count": null,
      "outputs": []
    },
    {
      "cell_type": "markdown",
      "source": [
        "### Lifetimes"
      ],
      "metadata": {
        "id": "QuSEYOYSvK0t"
      }
    },
    {
      "cell_type": "markdown",
      "source": [
        "#### Phonon Scattering"
      ],
      "metadata": {
        "id": "iwK4BauFmB-O"
      }
    },
    {
      "cell_type": "code",
      "source": [
        "lifetime_phonon = calculate_phonon_lifetime(energy=engr, alpha_term=nonparabolic_term,\n",
        "                                   D_v=2.94, D_a=9.5, temperature=tmpr,\n",
        "                                   sound_velocity=speed_of_sound, density_of_states=e_density,\n",
        "                                   mass_density = density)"
      ],
      "metadata": {
        "id": "N-vkfe8eO9kE"
      },
      "execution_count": null,
      "outputs": []
    },
    {
      "cell_type": "code",
      "source": [
        "plt.figure(figsize=(8, 5))\n",
        "plt.plot(engr[0], lifetime_phonon['parabolic_phonon_lifetime'][0], label='Phonon Lifetime', color='b', linestyle='-', linewidth=2)\n",
        "plt.plot(engr[0], lifetime_phonon['parabolic_phonon_lifetime'][-1], label='Phonon Lifetime', color='g', linestyle='-', linewidth=2)\n",
        "plt.plot(engr[0], lifetime_phonon['nonparabolic_phonon_lifetime'][0], label='Phonon Lifetime', color='r', linestyle='-', linewidth=2)\n",
        "plt.plot(engr[0], lifetime_phonon['nonparabolic_phonon_lifetime'][-1], label='Phonon Lifetime', color='c', linestyle='-', linewidth=2)\n",
        "plt.yscale('log')\n",
        "plt.xlabel('Energy (eV)', fontsize=12)\n",
        "plt.ylabel('Phonon Lifetime (s)', fontsize=12)\n",
        "plt.title('Phonon Lifetime vs Energy', fontsize=14)\n",
        "plt.grid(True, which=\"both\", ls=\"--\", linewidth=0.5)\n",
        "plt.legend()\n",
        "plt.tight_layout()\n",
        "plt.show()"
      ],
      "metadata": {
        "colab": {
          "base_uri": "https://localhost:8080/",
          "height": 479
        },
        "id": "nJfXrrEwwwGH",
        "outputId": "e1d350f3-25ab-40cb-f027-7c62e339c426"
      },
      "execution_count": null,
      "outputs": [
        {
          "output_type": "display_data",
          "data": {
            "text/plain": [
              "<Figure size 800x500 with 1 Axes>"
            ],
            "image/png": "[encoded data removed]"
          },
          "metadata": {}
        }
      ]
    },
    {
      "cell_type": "markdown",
      "source": [
        "#### Impurities Scattering"
      ],
      "metadata": {
        "id": "qlZw3eSsmAN4"
      }
    },
    {
      "cell_type": "code",
      "source": [
        "def calculate_impurity_lifetimes(density_of_states, screening_lengths, impurity_scatterings, dielectric_constant):\n",
        "    \"\"\"\n",
        "    Calculate screened Coulomb lifetimes for different SiC fractions during heating and cooling.\n",
        "\n",
        "    Parameters\n",
        "    ----------\n",
        "    density_of_states : np.ndarray\n",
        "        Electron density of states.\n",
        "    screening_lengths : dict\n",
        "        Dictionary of screening lengths for different SiC fractions.\n",
        "    impurity_scatterings : dict\n",
        "        Dictionary of impurity scatterings for different SiC fractions.\n",
        "    dielectric_constant : float\n",
        "        Dielectric constant of the material.\n",
        "\n",
        "    Returns\n",
        "    -------\n",
        "    dict\n",
        "        Screened Coulomb lifetimes for different SiC fractions.\n",
        "    \"\"\"\n",
        "    lifetimes = {}\n",
        "\n",
        "    for fraction, screening_length in screening_lengths.items():\n",
        "        lifetimes[f'tau_imp_{fraction}'] = calculate_screened_coulomb_lifetime(\n",
        "            density_of_states=density_of_states,\n",
        "            screening_length=screening_length,\n",
        "            impurity_scattering=impurity_scatterings[fraction],\n",
        "            dielectric_constant=dielectric_constant\n",
        "        )\n",
        "\n",
        "    return lifetimes\n",
        "\n",
        "\n",
        "# Define screening lengths and impurity scatterings for different fractions\n",
        "screening_lengths = {\n",
        "    '0pct': screen_len_0pct,\n",
        "    '1pct': screen_len_1pct,\n",
        "    '5pct_heating': screen_len_5pct_dir_up,\n",
        "    '5pct_cooling': screen_len_5pct_dir_down\n",
        "    }\n",
        "\n",
        "impurity_scatterings = {\n",
        "    '0pct': cc_0pct_heating,\n",
        "    '1pct': cc_1pct_heating,\n",
        "    '5pct_heating': cc_5pct_heating,\n",
        "    '5pct_cooling': cc_5pct_cooling\n",
        "    }\n",
        "\n",
        "# Calculate impurity lifetimes for all fractions\n",
        "impurity_lifetimes = calculate_impurity_lifetimes(\n",
        "    density_of_states=e_density,\n",
        "    screening_lengths=screening_lengths,\n",
        "    impurity_scatterings=impurity_scatterings,\n",
        "    dielectric_constant=dielectric_constant\n",
        "    )\n",
        "\n",
        "tau_imp_0pct = impurity_lifetimes['tau_imp_0pct']\n",
        "tau_imp_1pct = impurity_lifetimes['tau_imp_1pct']\n",
        "tau_imp_5pct_heating = impurity_lifetimes['tau_imp_5pct_heating']\n",
        "tau_imp_5pct_cooling = impurity_lifetimes['tau_imp_5pct_cooling']"
      ],
      "metadata": {
        "id": "sBdwMhTgwJie"
      },
      "execution_count": null,
      "outputs": []
    },
    {
      "cell_type": "markdown",
      "source": [
        "#### Grain Boundary Scattering"
      ],
      "metadata": {
        "id": "3mtEpfCxqUcr"
      }
    },
    {
      "cell_type": "code",
      "source": [
        "N_gr = 1e25  # Traps concentration [#/m^2]\n",
        "_tau_gb = np.loadtxt('Lifetime_Data/lifetime_grain.out', delimiter=None, skiprows=0, max_rows=1)\n",
        "_engr_gb = np.loadtxt('Lifetime_Data/energy_grain.out', delimiter=None, skiprows=0)\n",
        "energy_gb, idx_energy_gb, rtrn_idx_energy_gb = np.unique(_engr_gb, return_index=True, return_inverse=True)\n",
        "tau_gb_accum = accum(rtrn_idx_energy_gb, _tau_gb, func=np.mean, dtype=float)\n",
        "tau_gb_interpolator  = Interpolator(energy_gb[1::], tau_gb_accum[1::])\n",
        "tau_gb = tau_gb_interpolator(engr) * (fermi_0pct_heating[0] / N_gr)[:, np.newaxis]"
      ],
      "metadata": {
        "id": "YeZ53qnFPDbC"
      },
      "execution_count": null,
      "outputs": []
    },
    {
      "cell_type": "markdown",
      "source": [
        "#### Nanoparticles Scattering"
      ],
      "metadata": {
        "id": "InzYPR4immUp"
      }
    },
    {
      "cell_type": "code",
      "source": [
        "_tau_np = np.loadtxt('Lifetime_Data/lifetime_np.out', delimiter=None, skiprows=0)\n",
        "_engr_np = np.loadtxt('Lifetime_Data/energy_np.out', delimiter=None, skiprows=0)\n",
        "\n",
        "energy_np, idx_energy_np, rtrn_idx_energy_np = np.unique(_engr_np, return_index = True, return_inverse = True)\n",
        "tau_np_accum = accum(rtrn_idx_energy_np, _tau_np[1], func = np.mean, dtype = float)\n",
        "tau_np_interpolator = Interpolator(energy_np[1:], tau_np_accum[1:])\n",
        "tau_np = tau_np_interpolator(engr)"
      ],
      "metadata": {
        "id": "-EDrmaz7PBT6"
      },
      "execution_count": null,
      "outputs": []
    },
    {
      "cell_type": "markdown",
      "source": [
        "### Compute Properties"
      ],
      "metadata": {
        "id": "CDTiGZzimvkk"
      }
    },
    {
      "cell_type": "code",
      "execution_count": null,
      "metadata": {
        "id": "mY5nSw17NXL_"
      },
      "outputs": [],
      "source": [
        "num_vally = 6\n",
        "\n",
        "tau_0pct = matthiessen(engr, num_vally * tau_ph['nonparabolic_ph_lifetime'], num_vally * tau_imp_0pct, tau_gb)\n",
        "tau_5pct_dir_up = matthiessen(engr, num_vally * tau_ph['nonparabolic_ph_lifetime'], num_vally * tau_imp_5pct_dir_up, tau_gb)\n",
        "tau_5pct_dir_down = matthiessen(engr, num_vally * tau_ph['nonparabolic_ph_lifetime'], num_vally * tau_imp_5pct_dir_down, tau_gb)\n",
        "tau_1pct = matthiessen(engr, num_vally * tau_ph['nonparabolic_ph_lifetime'], num_vally * tau_imp_1pct, 5 * tau_gb)  # 5 counts for 1% porosity instead of 5%\n",
        "\n",
        "prop_0pct = electrical_properties(E = engr, DoS = e_density, vg = grp_velocity, Ef = fermi_0pct_heating[1][np.newaxis, :],\n",
        "                                  dfdE=fermi_dist_0pct_heating[1], temp = tmpr, tau = tau_0pct)\n",
        "prop_1pct = electrical_properties(E = engr, DoS = e_density, vg = grp_velocity, Ef = fermi_1pct_heating[1][np.newaxis, :],\n",
        "                                  dfdE=fermi_dist_1pct_heating[1], temp = tmpr, tau = tau_1pct)\n",
        "prop_5pct_dir_up = electrical_properties(E = engr, DoS = e_density, vg = grp_velocity, Ef = fermi_5pct_heating[1][np.newaxis, :],\n",
        "                                         dfdE=fermi_dist_5pct_heating[1], temp = tmpr, tau = tau_0pct)\n",
        "prop_5pct_dir_down = electrical_properties(E = engr, DoS = e_density, vg = grp_velocity, Ef = fermi_5pct_cooling[1][np.newaxis, :],\n",
        "                                           dfdE=fermi_dist_5pct_cooling[1], temp = tmpr, tau = tau_0pct)\n",
        "\n",
        "\n",
        "exec(open('./figs.py').read())\n",
        "\n",
        "exit()\n",
        "\n"
      ]
    }
  ]
}