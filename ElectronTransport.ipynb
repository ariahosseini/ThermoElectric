{
  "nbformat": 4,
  "nbformat_minor": 0,
  "metadata": {
    "colab": {
      "provenance": [],
      "collapsed_sections": [
        "AETxsUs1PQ9t",
        "PEevrL5JHYe0",
        "Ak5gWmafPeB8",
        "DkhNMRwzPeGD",
        "8JgXfWGeRiO4",
        "UbQiJEbcRo_2",
        "xMfkAItsRsDa",
        "K_z-AILclrsr",
        "NSlAtcvjlxQG",
        "7PSsTrPnlyJg",
        "ZIepCcZ3l0Ji",
        "XwWOXbj-YGe-",
        "jpNqlw-9b5g1",
        "sRJQPolF4Seo",
        "hpiPdN2c4sEs",
        "l5MNDjTa48SN",
        "rd7TcU_pnLxp",
        "Zrj_VoNynNCM",
        "jhIzxmTsYL2O",
        "Ryh-0jP7YNTI",
        "pF7HsfYWYOZ1",
        "sxZSF50HYQl5",
        "39yUgJDjcN24",
        "mVyJLf5KebFS",
        "Xv2TjmxKendW",
        "6NmM1YZ-DZBI",
        "mefEohxBDZil",
        "UH1fc4vw8PgA",
        "dAO7E_HbPe2R",
        "kMFi_91rmokW",
        "YpCas-3kmpX4",
        "1zOiD2oqmtlV",
        "fFsaGrixmsa4",
        "d5Ksj_TBPzAY",
        "Wtc89n4Qllsj",
        "mA8unKjkoRCy",
        "eCEmh7BclvQJ",
        "iwK4BauFmB-O",
        "qlZw3eSsmAN4",
        "3mtEpfCxqUcr",
        "b6EEiktqq1yA",
        "OlaWEKGmq9gX",
        "R0egsaX_rEUE",
        "nYNq8FfLNnzd",
        "zwossIwLsrAk",
        "Ds7O4dezuNQ6",
        "7M33mmSUuWoQ"
      ],
      "toc_visible": true,
      "authorship_tag": "ABX9TyPfy2Pp4N9jotSI53ILdkJ6",
      "include_colab_link": true
    },
    "kernelspec": {
      "name": "python3",
      "display_name": "Python 3"
    },
    "language_info": {
      "name": "python"
    }
  },
  "cells": [
    {
      "cell_type": "markdown",
      "metadata": {
        "id": "view-in-github",
        "colab_type": "text"
      },
      "source": [
        "<a href=\"https://colab.research.google.com/github/ariahosseini/ThermoElectric/blob/master/ElectronTransport.ipynb\" target=\"_parent\"><img src=\"https://colab.research.google.com/assets/colab-badge.svg\" alt=\"Open In Colab\"/></a>"
      ]
    },
    {
      "cell_type": "markdown",
      "source": [
        "## Utils"
      ],
      "metadata": {
        "id": "AETxsUs1PQ9t"
      }
    },
    {
      "cell_type": "code",
      "source": [
        "# Libs\n",
        "import os\n",
        "from itertools import product\n",
        "from copy import deepcopy\n",
        "from tqdm import tqdm\n",
        "from os.path import expanduser\n",
        "# Colab\n",
        "from google.colab import drive\n",
        "# Math\n",
        "import numpy as np\n",
        "from math import pi, atan, exp, gamma, sqrt\n",
        "from numpy.linalg import norm\n",
        "from scipy.interpolate import InterpolatedUnivariateSpline as Spline\n",
        "from scipy.interpolate import PchipInterpolator as Interpolator\n",
        "from scipy.special import jv, j1 as besselj\n",
        "from scipy.integrate import trapz\n",
        "# Vis\n",
        "from mpl_toolkits.mplot3d import Axes3D\n",
        "import matplotlib.pyplot as plt\n",
        "import seaborn as sns"
      ],
      "metadata": {
        "id": "6Sb4I1UFQMzf"
      },
      "execution_count": 82,
      "outputs": []
    },
    {
      "cell_type": "code",
      "source": [
        "# Set up Seaborn visualization style\n",
        "sns.set()\n",
        "sns.set_style(\"white\", {\"xtick.major.size\": 2, \"ytick.major.size\": 2})\n",
        "sns.set_context(\"paper\", font_scale=2, rc={\"lines.linewidth\": 4})"
      ],
      "metadata": {
        "id": "b3GmfDyAV470"
      },
      "execution_count": 83,
      "outputs": []
    },
    {
      "cell_type": "code",
      "source": [
        "# Mount google drive\n",
        "drive.mount('/content/drive')"
      ],
      "metadata": {
        "colab": {
          "base_uri": "https://localhost:8080/"
        },
        "id": "jKnXkAIeohmk",
        "outputId": "b336c31c-fa64-4612-83c0-b0a0bcbaec24"
      },
      "execution_count": 84,
      "outputs": [
        {
          "output_type": "stream",
          "name": "stdout",
          "text": [
            "Drive already mounted at /content/drive; to attempt to forcibly remount, call drive.mount(\"/content/drive\", force_remount=True).\n"
          ]
        }
      ]
    },
    {
      "cell_type": "code",
      "source": [
        "# Working directory\n",
        "os.chdir(\"/content/drive/MyDrive/ThermoElectric/Nanocomposite\")"
      ],
      "metadata": {
        "id": "Dxl432_PokXg"
      },
      "execution_count": 85,
      "outputs": []
    },
    {
      "cell_type": "markdown",
      "source": [
        "Constants"
      ],
      "metadata": {
        "id": "1eczNXf3emle"
      }
    },
    {
      "cell_type": "code",
      "source": [
        "e2C = 1.6021765e-19   # Elementary charge in Coulombs\n",
        "eV2J = 1.60218e-19    # Convert eV to Joules\n",
        "h_bar = 6.582119e-16  # Reduced Planck constant in eV.s\n",
        "k_B = 8.617330350e-5  # Boltzmann constant in eV/K\n",
        "ang2meter = 1e-10     # Convert Angestrom to meter\n",
        "permittivity_vacuum = 8.854187817e-12  # Permittivity in vacuum (F/m)\n",
        "electron_mass = 9.10938356e-31         # Electron rest mass (kg)"
      ],
      "metadata": {
        "id": "Cv_d7dssTXsQ"
      },
      "execution_count": 86,
      "outputs": []
    },
    {
      "cell_type": "markdown",
      "source": [
        "## Funcs"
      ],
      "metadata": {
        "id": "9NLgfrDlPUX0"
      }
    },
    {
      "cell_type": "markdown",
      "source": [
        "### Fermi Integral"
      ],
      "metadata": {
        "id": "PEevrL5JHYe0"
      }
    },
    {
      "cell_type": "code",
      "source": [
        "def fermi(aj, eta):\n",
        "\n",
        "    \"\"\"\n",
        "    Python version of the half-order Fermi-Dirac integral evaluation.\n",
        "    Based on the publication:\n",
        "    'The accurate numerical evaluation of half-order Fermi-Dirac integrals'\n",
        "    by N.Mohankumar & A.Natarajan, Physica Status Solidi(b), vol.188, 1995, pp. 635-644.\n",
        "\n",
        "    Parameters:\n",
        "        aj (float): The value corresponding to j= -1/2 or 1/2 or 3/2 or 5/2 in the integral definition.\n",
        "        eta (float): Input parameter for the integral often between -5 to 25.\n",
        "\n",
        "    Returns:\n",
        "        fdp (float): The calculated Fermi-Dirac integral value.\n",
        "        nmax (int): The number of trapezoidal points used.\n",
        "        npole (int): The number of poles used in the correction.\n",
        "    \"\"\"\n",
        "\n",
        "    range_val = 8.0\n",
        "    if eta > 0:\n",
        "        range_val = sqrt(eta + 64.0)\n",
        "\n",
        "    h = 0.5\n",
        "    nmax = int(range_val / h)\n",
        "    summation = 0.0\n",
        "\n",
        "    if aj == -0.5:\n",
        "        summation = 1.0 / (1.0 + exp(-eta))\n",
        "\n",
        "    for i in range(1, nmax + 1):\n",
        "        u = i * h\n",
        "        ff = 2.0 * (u ** (2.0 * aj + 1.0)) / (1.0 + exp(u ** 2 - eta))\n",
        "        summation += ff\n",
        "\n",
        "    pol = 0.0\n",
        "    npole = 0\n",
        "    bk1 = 0\n",
        "\n",
        "    while bk1 <= 14.0 * pi:\n",
        "        npole += 1\n",
        "        bk = (2 * npole - 1) * pi\n",
        "        rho = sqrt(eta * eta + bk * bk)\n",
        "        tk = 0\n",
        "\n",
        "        if eta < 0:\n",
        "            tk = -aj * (atan(-bk / eta) + pi)\n",
        "        elif eta == 0:\n",
        "            tk = 0.5 * pi * aj\n",
        "        elif eta > 0:\n",
        "            tk = aj * atan(bk / eta)\n",
        "\n",
        "        rk = -(rho ** aj)\n",
        "        if eta < 0:\n",
        "            rk = -rk\n",
        "\n",
        "        ak = (2.0 * pi / h) * sqrt(0.5 * (rho + eta))\n",
        "        bk1 = (2.0 * pi / h) * sqrt(0.5 * (rho - eta))\n",
        "\n",
        "        if bk1 <= 14.0 * pi:\n",
        "            gama = exp(bk1)\n",
        "            t1 = gama * np.sin(ak + tk) - np.sin(tk)\n",
        "            t2 = 1.0 - 2.0 * gama * np.cos(ak) + gama * gama\n",
        "            pol += 4.0 * pi * rk * t1 / t2\n",
        "\n",
        "    fdp = summation * h + pol\n",
        "\n",
        "    return fdp / gamma(1 + aj)"
      ],
      "metadata": {
        "id": "5XW8z-T0HW_X"
      },
      "execution_count": 87,
      "outputs": []
    },
    {
      "cell_type": "markdown",
      "source": [
        "### Accumulation Function"
      ],
      "metadata": {
        "id": "Ak5gWmafPeB8"
      }
    },
    {
      "cell_type": "code",
      "source": [
        "def accum(accmap, a, func=None, size=None, fill_value=0, dtype=None):\n",
        "\n",
        "    \"\"\"\n",
        "    An accumulation function similar to Matlab's accumarray function.\n",
        "\n",
        "    Parameters\n",
        "    ----------\n",
        "    accmap : ndarray\n",
        "        This is the \"accumulation map\".  It maps input (i.e. indices into\n",
        "        `a`) to their destination in the output array.  The first `a.ndim`\n",
        "        dimensions of `accmap` must be the same as `a.shape`.  That is,\n",
        "        `accmap.shape[:a.ndim]` must equal `a.shape`.  For example, if `a`\n",
        "        has shape (15,4), then `accmap.shape[:2]` must equal (15,4).  In this\n",
        "        case `accmap[i,j]` gives the index into the output array where\n",
        "        element (i,j) of `a` is to be accumulated.  If the output is, say,\n",
        "        a 2D, then `accmap` must have shape (15,4,2).  The value in the\n",
        "        last dimension give indices into the output array. If the output is\n",
        "        1D, then the shape of `accmap` can be either (15,4) or (15,4,1)\n",
        "    a : ndarray\n",
        "        The input data to be accumulated.\n",
        "    func : callable or None\n",
        "        The accumulation function.  The function will be passed a list\n",
        "        of values from `a` to be accumulated.\n",
        "        If None, numpy.sum is assumed.\n",
        "    size : ndarray or None\n",
        "        The size of the output array.  If None, the size will be determined\n",
        "        from `accmap`.\n",
        "    fill_value : scalar\n",
        "        The default value for elements of the output array.\n",
        "    dtype : numpy data type, or None\n",
        "        The data type of the output array.  If None, the data type of\n",
        "        `a` is used.\n",
        "\n",
        "    Returns\n",
        "    -------\n",
        "    out : ndarray\n",
        "        The accumulated results.\n",
        "\n",
        "        The shape of `out` is `size` if `size` is given.  Otherwise the\n",
        "        shape is determined by the (lexicographically) largest indices of\n",
        "        the output found in `accmap`.\n",
        "\n",
        "\n",
        "    Examples\n",
        "    --------\n",
        "    >>> from numpy import array, prod\n",
        "    >>> a = array([[1,2,3],[4,-1,6],[-1,8,9]])\n",
        "    >>> a\n",
        "    array([[ 1,  2,  3],\n",
        "           [ 4, -1,  6],\n",
        "           [-1,  8,  9]])\n",
        "    >>> # Sum the diagonals.\n",
        "    >>> accmap = array([[0,1,2],[2,0,1],[1,2,0]])\n",
        "    >>> s = accum(accmap, a)\n",
        "    array([9, 7, 15])\n",
        "    >>> # A 2D output, from sub-arrays with shapes and positions like this:\n",
        "    >>> # [ (2,2) (2,1)]\n",
        "    >>> # [ (1,2) (1,1)]\n",
        "    >>> accmap = array([\n",
        "            [[0,0],[0,0],[0,1]],\n",
        "            [[0,0],[0,0],[0,1]],\n",
        "            [[1,0],[1,0],[1,1]],\n",
        "        ])\n",
        "    >>> # Accumulate using a product.\n",
        "    >>> accum(accmap, a, func=prod, dtype=float)\n",
        "    array([[ -8.,  18.],\n",
        "           [ -8.,   9.]])\n",
        "    >>> # Same accmap, but create an array of lists of values.\n",
        "    >>> accum(accmap, a, func=lambda x: x, dtype='O')\n",
        "    array([[[1, 2, 4, -1], [3, 6]],\n",
        "           [[-1, 8], [9]]], dtype=object)\n",
        "    \"\"\"\n",
        "\n",
        "    # Check for bad arguments and handle the defaults.\n",
        "    if accmap.shape[:a.ndim] != a.shape:\n",
        "        raise ValueError(\"The initial dimensions of accmap must be the same as a.shape\")\n",
        "    if func is None:\n",
        "        func = np.sum\n",
        "    if dtype is None:\n",
        "        dtype = a.dtype\n",
        "    if accmap.shape == a.shape:\n",
        "        accmap = np.expand_dims(accmap, -1)\n",
        "    adims = tuple(range(a.ndim))\n",
        "    if size is None:\n",
        "        size = 1 + np.squeeze(np.apply_over_axes(np.max, accmap, axes=adims))\n",
        "    size = np.atleast_1d(size)\n",
        "\n",
        "    # Create an array of python lists of values.\n",
        "    vals = np.empty(size, dtype='O')\n",
        "    for s in product(*[range(k) for k in size]):\n",
        "        vals[s] = []\n",
        "    for s in product(*[range(k) for k in a.shape]):\n",
        "        indx = tuple(accmap[s])\n",
        "        val = a[s]\n",
        "        vals[indx].append(val)\n",
        "\n",
        "    # Create the output array.\n",
        "    out = np.empty(size, dtype=dtype)\n",
        "    for s in product(*[range(k) for k in size]):\n",
        "        if vals[s] == []:\n",
        "            out[s] = fill_value\n",
        "        else:\n",
        "            out[s] = func(vals[s])\n",
        "\n",
        "    return out"
      ],
      "metadata": {
        "id": "16_FH1MgQKde"
      },
      "execution_count": 88,
      "outputs": []
    },
    {
      "cell_type": "markdown",
      "source": [
        "### BTE Solver"
      ],
      "metadata": {
        "id": "DkhNMRwzPeGD"
      }
    },
    {
      "cell_type": "markdown",
      "source": [
        "#### Electrical Properties"
      ],
      "metadata": {
        "id": "8JgXfWGeRiO4"
      }
    },
    {
      "cell_type": "code",
      "source": [
        "def electrical_properties(E: np.ndarray, DoS: np.ndarray, vg: np.ndarray, Ef: np.ndarray,\n",
        "                          dfdE: np.ndarray, temp: np.ndarray, tau: np.ndarray) -> dict:\n",
        "    \"\"\"\n",
        "    Computes the electronic properties using the Boltzmann Transport Equation (BTE).\n",
        "\n",
        "    References:\n",
        "    -----------\n",
        "    - Changwook Jeong and Mark S. Lundstrom, \"Near-equilibrium Transport: Fundamentals and Applications\"\n",
        "    - Gang Chen, \"Nanoscale Energy Transport and Conversion: A Parallel Treatment of Electrons, Molecules, Phonons, and Photons\"\n",
        "\n",
        "    Parameters:\n",
        "    -----------\n",
        "    E : np.ndarray\n",
        "        Energy range (eV)\n",
        "    DoS : np.ndarray\n",
        "        Density of states (states/eV)\n",
        "    vg : np.ndarray\n",
        "        Group velocity (m/s)\n",
        "    Ef : np.ndarray\n",
        "        Fermi level (eV)\n",
        "    dfdE : np.ndarray\n",
        "        Fermi-Dirac derivative\n",
        "    temp : np.ndarray\n",
        "        Temperature (K)\n",
        "    tau : np.ndarray\n",
        "        Relaxation time (s)\n",
        "\n",
        "    Returns:\n",
        "    --------\n",
        "    dict\n",
        "        Contains electrical conductivity, Seebeck coefficient, power factor, thermal conductivity, and Lorenz number.\n",
        "    \"\"\"\n",
        "\n",
        "    # Precompute useful terms\n",
        "    X = DoS * vg ** 2 * dfdE  # χ (Chi)\n",
        "    Y = (E - Ef.T) * X  # Γ (Gamma)\n",
        "    Z = (E - Ef.T) * Y  # ζ (Zeta)\n",
        "\n",
        "    # Transport properties\n",
        "    Sigma = -np.trapz(X * tau, E, axis=1) / 3 * e2C  # Electrical conductivity (S/m)\n",
        "    S = -np.trapz(Y * tau, E, axis=1) / np.trapz(X * tau, E, axis=1) / temp  # Seebeck coefficient (V/K)\n",
        "    PF = Sigma * S ** 2  # Power factor (W/K²·m)\n",
        "    ke = -1 * (np.trapz(Z * tau, E, axis=1) - np.trapz(Y * tau, E, axis=1) ** 2 /\n",
        "               np.trapz(X * tau, E, axis=1)) / temp / 3 * e2C  # Thermal conductivity (W/m·K)\n",
        "\n",
        "    # Lorenz number\n",
        "    delta = np.trapz(X * tau * E, E, axis=1) / np.trapz(X * tau, E, axis=1)  # First moment of current\n",
        "    delta_ = np.trapz(X * tau * E ** 2, E, axis=1) / np.trapz(X * tau, E, axis=1)  # Second moment of current\n",
        "    Lorenz = (delta_ - delta ** 2) / temp**2  # Lorenz number (WΩ/K²)\n",
        "\n",
        "    return {\n",
        "        'Electrical_conductivity': Sigma,\n",
        "        'Seebeck_coefficient': S[0],\n",
        "        'Power_factor': PF[0],\n",
        "        'Thermal_conductivity': ke[0],\n",
        "        'Lorenz_number': Lorenz[0]\n",
        "    }"
      ],
      "metadata": {
        "id": "JVc3nIwxSbQZ"
      },
      "execution_count": 89,
      "outputs": []
    },
    {
      "cell_type": "markdown",
      "source": [
        "#### Filtering Effect"
      ],
      "metadata": {
        "id": "UbQiJEbcRo_2"
      }
    },
    {
      "cell_type": "code",
      "source": [
        "def filtering_effect(Uo: np.ndarray, E: np.ndarray, DoS: np.ndarray, vg: np.ndarray, Ef: np.ndarray,\n",
        "                     dfdE: np.ndarray, temp: np.ndarray, tau_bulk: np.ndarray) -> dict:\n",
        "    \"\"\"\n",
        "    Calculates the electrical properties under ideal filtering conditions, where all electrons\n",
        "    up to a cutoff energy Uo are blocked.\n",
        "\n",
        "    Parameters:\n",
        "    -----------\n",
        "    Uo : np.ndarray\n",
        "        Barrier height (eV)\n",
        "    E : np.ndarray\n",
        "        Energy range (eV)\n",
        "    DoS : np.ndarray\n",
        "        Density of states (states/eV)\n",
        "    vg : np.ndarray\n",
        "        Group velocity (m/s)\n",
        "    Ef : np.ndarray\n",
        "        Fermi level (eV)\n",
        "    dfdE : np.ndarray\n",
        "        Fermi-Dirac derivative\n",
        "    temp : np.ndarray\n",
        "        Temperature (K)\n",
        "    tau_bulk : np.ndarray\n",
        "        Bulk relaxation time (s)\n",
        "\n",
        "    Returns:\n",
        "    --------\n",
        "    dict\n",
        "        Contains electrical conductivity and Seebeck coefficient.\n",
        "    \"\"\"\n",
        "    tau_Uo = np.ones(E.shape[1])\n",
        "    Conductivity, Seebeck = [], []\n",
        "\n",
        "    for uo in Uo:\n",
        "        tau_filtered = deepcopy(tau_Uo)\n",
        "        tau_filtered[E[0] < uo] = 0  # Apply ideal filtering\n",
        "\n",
        "        tau = matthiessen(E, tau_filtered, tau_bulk)  # Compute total relaxation time\n",
        "        coefficients = electrical_properties(E, DoS, vg, Ef, dfdE, temp, tau)\n",
        "\n",
        "        Conductivity.append(coefficients['Electrical_conductivity'])\n",
        "        Seebeck.append(coefficients['Seebeck_coefficient'])\n",
        "\n",
        "    return {\n",
        "        'Electrical_conductivity': np.array(Conductivity),\n",
        "        'Seebeck_coefficient': np.array(Seebeck)\n",
        "    }"
      ],
      "metadata": {
        "id": "toolBakxScAN"
      },
      "execution_count": 90,
      "outputs": []
    },
    {
      "cell_type": "markdown",
      "source": [
        "#### Phenomenological Model"
      ],
      "metadata": {
        "id": "xMfkAItsRsDa"
      }
    },
    {
      "cell_type": "code",
      "source": [
        "def phenomenological(Uo: np.ndarray, tau_o: np.ndarray, E: np.ndarray, DoS: np.ndarray, vg: np.ndarray,\n",
        "                     Ef: np.ndarray, dfdE: np.ndarray, temp: np.ndarray, tau_bulk: np.ndarray) -> dict:\n",
        "    \"\"\"\n",
        "    Calculates the electrical properties with phenomenological filtering, where a lifetime tau_o\n",
        "    is imposed up to a cutoff energy Uo.\n",
        "\n",
        "    Parameters:\n",
        "    -----------\n",
        "    Uo : np.ndarray\n",
        "        Barrier height (eV)\n",
        "    tau_o : np.ndarray\n",
        "        Phenomenological lifetime (s)\n",
        "    E : np.ndarray\n",
        "        Energy range (eV)\n",
        "    DoS : np.ndarray\n",
        "        Density of states (states/eV)\n",
        "    vg : np.ndarray\n",
        "        Group velocity (m/s)\n",
        "    Ef : np.ndarray\n",
        "        Fermi level (eV)\n",
        "    dfdE : np.ndarray\n",
        "        Fermi-Dirac derivative\n",
        "    temp : np.ndarray\n",
        "        Temperature (K)\n",
        "    tau_bulk : np.ndarray\n",
        "        Bulk relaxation time (s)\n",
        "\n",
        "    Returns:\n",
        "    --------\n",
        "    dict\n",
        "        Contains electrical conductivity and Seebeck coefficient.\n",
        "    \"\"\"\n",
        "    tau_Uo = np.ones(E.shape[1])\n",
        "    Conductivity, Seebeck = [], []\n",
        "\n",
        "    for tau in tau_o:\n",
        "        for uo in Uo:\n",
        "            tau_ph = deepcopy(tau_Uo)\n",
        "            tau_ph[E[0] < uo] = tau  # Apply phenomenological filtering\n",
        "\n",
        "            total_tau = matthiessen(E, tau_ph, tau_bulk)\n",
        "            coefficients = electrical_properties(E, DoS, vg, Ef, dfdE, temp, total_tau)\n",
        "\n",
        "            Conductivity.append(coefficients['Electrical_conductivity'])\n",
        "            Seebeck.append(coefficients['Seebeck_coefficient'])\n",
        "\n",
        "    return {\n",
        "        'Electrical_conductivity': np.array(Conductivity).reshape(len(tau_o), len(Uo)),\n",
        "        'Seebeck_coefficient': np.array(Seebeck).reshape(len(tau_o), len(Uo))\n",
        "    }"
      ],
      "metadata": {
        "id": "lgZEMXR1Qj-3"
      },
      "execution_count": 91,
      "outputs": []
    },
    {
      "cell_type": "markdown",
      "source": [
        "### Utils"
      ],
      "metadata": {
        "id": "UBwqqHtyPyph"
      }
    },
    {
      "cell_type": "markdown",
      "source": [
        "#### Band Gap"
      ],
      "metadata": {
        "id": "K_z-AILclrsr"
      }
    },
    {
      "cell_type": "code",
      "source": [
        "def band_gap(Eg_0: float, A: float, B: float, temp: np.ndarray = None) -> np.ndarray:\n",
        "    \"\"\"\n",
        "    Estimate the temperature-dependent band gap using the relation:\n",
        "    Eg(T) = Eg(T=0) - A * T^2 / (T + B)\n",
        "\n",
        "    Reference: \"Properties of Advanced Semiconductor Materials\" by Michael E. Levinshtein.\n",
        "\n",
        "    Parameters\n",
        "    ----------\n",
        "    Eg_0: float\n",
        "        Band gap at 0 Kelvin.\n",
        "    A: float\n",
        "        Material-dependent constant.\n",
        "    B: float\n",
        "        Material-dependent constant.\n",
        "    temp: np.ndarray, optional\n",
        "        Temperature range (default: 300K to 1300K with steps of 100K).\n",
        "\n",
        "    Returns\n",
        "    -------\n",
        "    np.ndarray\n",
        "        Temperature-dependent band gap.\n",
        "    \"\"\"\n",
        "    T = temp if temp is not None else temperature()\n",
        "    return Eg_0 - A * (T ** 2) / (T + B)"
      ],
      "metadata": {
        "id": "flHjAMEqWWC1"
      },
      "execution_count": 92,
      "outputs": []
    },
    {
      "cell_type": "markdown",
      "source": [
        "#### Density of State"
      ],
      "metadata": {
        "id": "NSlAtcvjlxQG"
      }
    },
    {
      "cell_type": "code",
      "source": [
        "def analytical_dos(energy_range: np.ndarray, m_eff: float, alpha: np.ndarray) -> dict:\n",
        "    \"\"\"\n",
        "    Compute the electron density of states (DoS) for parabolic and non-parabolic bands.\n",
        "\n",
        "    Parameters\n",
        "    ----------\n",
        "    energy_range: np.ndarray\n",
        "        Range of electron energies.\n",
        "    m_eff: float\n",
        "        Effective mass of the electron.\n",
        "    alpha: np.ndarray\n",
        "        Non-parabolicity parameter.\n",
        "\n",
        "    Returns\n",
        "    -------\n",
        "    dict\n",
        "        DoS for both parabolic and non-parabolic cases.\n",
        "    \"\"\"\n",
        "\n",
        "    # Non-parabolic and parabolic DoS calculation\n",
        "    dos_nonparabolic = (1 / np.pi ** 2) * np.sqrt(2 * energy_range * (1 + energy_range * alpha.T)) * \\\n",
        "                       (m_eff ** (3/2)) / (h_bar ** 3) * (1 + 2 * energy_range * alpha.T) / e2C ** (3/2)\n",
        "\n",
        "    dos_parabolic = np.sqrt(energy_range) / (np.pi ** 2) * np.sqrt(2) / (h_bar ** 3) * \\\n",
        "                    m_eff ** (3 / 2) / e2C ** (3 / 2)\n",
        "\n",
        "    return {'DoS_nonparabolic': dos_nonparabolic, 'DoS_parabolic': dos_parabolic}"
      ],
      "metadata": {
        "id": "j0ZrQbboWWF6"
      },
      "execution_count": 93,
      "outputs": []
    },
    {
      "cell_type": "markdown",
      "source": [
        "#### Fermi Level"
      ],
      "metadata": {
        "id": "7PSsTrPnlyJg"
      }
    },
    {
      "cell_type": "code",
      "source": [
        "def fermi_level(carrier: np.ndarray, energy: np.ndarray, density: np.ndarray, Nc: float = None,\n",
        "                A: float = None, temp: np.ndarray = None) -> np.ndarray:\n",
        "    \"\"\"\n",
        "    Estimate the Fermi level using Joyce-Dixon approximation.\n",
        "    Ref: \"Principles of Semiconductor Devices\" by Sima Dimitrijev\n",
        "\n",
        "    Parameters\n",
        "    ----------\n",
        "    carrier: np.ndarray\n",
        "        Carrier concentration.\n",
        "    energy: np.ndarray\n",
        "        Energy levels.\n",
        "    density: np.ndarray\n",
        "        Density of states.\n",
        "    Nc: float, optional\n",
        "        Effective density of states in the conduction band.\n",
        "    A: float, optional\n",
        "        Experimentally fitted parameter (Nc ~ A * T^(3/2)).\n",
        "    temp: np.ndarray, optional\n",
        "        Temperature range.\n",
        "\n",
        "    Returns\n",
        "    -------\n",
        "    np.ndarray\n",
        "        Carrier concentration and Fermi level at each temperature.\n",
        "    \"\"\"\n",
        "    T = temp if temp is not None else temperature()\n",
        "\n",
        "    if Nc is None and A is None:\n",
        "        raise ValueError(\"Either Nc or A must be provided.\")\n",
        "\n",
        "    Nc = Nc if Nc is not None else A * T ** (3 / 2)\n",
        "\n",
        "    # Joyce-Dixon approximation\n",
        "    JD_CC = np.log(carrier / Nc) + carrier / Nc / np.sqrt(8) - (3 / 16 - np.sqrt(3) / 9) * (carrier / Nc) ** 2\n",
        "    fermi_energy = k_B * T * JD_CC\n",
        "    f, _ = fermi_distribution(energy, fermi_energy, temp=T)\n",
        "\n",
        "    carrier_concentration = np.trapz(density * f, energy, axis=1)\n",
        "\n",
        "    return np.stack((carrier_concentration, fermi_energy[0]))"
      ],
      "metadata": {
        "id": "89_iWlHFWWJL"
      },
      "execution_count": 94,
      "outputs": []
    },
    {
      "cell_type": "code",
      "source": [
        "def fermi_self_consistent(carrier: np.ndarray, temp: np.ndarray, energy: np.ndarray,\n",
        "                          density: np.ndarray, fermi_guess: np.ndarray) -> np.ndarray:\n",
        "    \"\"\"\n",
        "    Perform self-consistent calculation of the Fermi level using a given carrier concentration.\n",
        "    Defaults: 4000 sampling points in energy range from Ef(JD)-0.4 [eV] up to\n",
        "    Ef(JD)+0.2 [eV] - This looks reasonable in most cases.\n",
        "    The index is printed out if indices reach the extreme value of (0) or (4000), increase energy range.\n",
        "\n",
        "    Parameters\n",
        "    ----------\n",
        "    carrier: np.ndarray\n",
        "        Carrier concentration.\n",
        "    energy: np.ndarray\n",
        "        Energy levels.\n",
        "    density: np.ndarray\n",
        "        Density of states.\n",
        "    fermi_guess: np.ndarray\n",
        "        Initial Fermi level guess from Joyce-Dixon approximation.\n",
        "    temp: np.ndarray\n",
        "        Temperature range.\n",
        "\n",
        "    Returns\n",
        "    -------\n",
        "    np.ndarray\n",
        "        Carrier concentration and Fermi level.\n",
        "    \"\"\"\n",
        "    fermi = np.linspace(fermi_guess[1] - 0.4, fermi_guess[1] + 0.2, 2000)\n",
        "    result = np.empty((np.shape(temp)[1], np.shape(fermi)[0]))\n",
        "\n",
        "    for j, t in tqdm(enumerate(temp[0]), total=len(temp[0]), desc=\"Processing temperatures\"):\n",
        "        for i, f in tqdm(enumerate(fermi[:, j]), total=len(fermi[:, j]), desc=f\"Processing fermi levels for temp {t} K\", leave=False):\n",
        "            f_dist, _ = fermi_distribution(energy, np.array([f]), np.array([t]))\n",
        "            result[j, i] = np.trapz(density * f_dist, energy, axis=1)\n",
        "    diff = np.tile(carrier.T, (1, np.shape(fermi)[0])) - abs(result)\n",
        "    min_idx = np.argmin(np.abs(diff), axis=1)\n",
        "\n",
        "    if np.all(np.array(min_idx) == 0) or np.all(np.array(min_idx) == int(np.shape(fermi)[0]-1)):\n",
        "            print(f\"Self-consistent Fermi Level Diverged! Please increase energy range or number of sampling points\")\n",
        "\n",
        "    fermi_levels = []\n",
        "\n",
        "    for i in range(np.shape(temp)[1]):\n",
        "      fermi_levels.append(fermi[min_idx[i], i])\n",
        "\n",
        "    return np.stack((carrier[0], fermi_levels))"
      ],
      "metadata": {
        "id": "z2RWBztJWWMg"
      },
      "execution_count": 95,
      "outputs": []
    },
    {
      "cell_type": "markdown",
      "source": [
        "#### Group Velocity"
      ],
      "metadata": {
        "id": "ZIepCcZ3l0Ji"
      }
    },
    {
      "cell_type": "code",
      "source": [
        "def group_velocity(kpoints: np.ndarray, energy_kp: np.ndarray, energy: np.ndarray) -> np.ndarray:\n",
        "    \"\"\"\n",
        "    Compute group velocity from band structure using DFT data.\n",
        "    Reciprocal lattice vector is required.\n",
        "    Linear BTE needs single band data.\n",
        "\n",
        "    Parameters\n",
        "    ----------\n",
        "    kpoints: np.ndarray\n",
        "        Wave vectors.\n",
        "    energy_kp: np.ndarray\n",
        "        Energy for each wave vector.\n",
        "    energy: np.ndarray\n",
        "        Energy range.\n",
        "\n",
        "    Returns\n",
        "    -------\n",
        "    np.ndarray\n",
        "        Group velocity.\n",
        "    \"\"\"\n",
        "\n",
        "    dE_dk = np.zeros_like(energy_kp)\n",
        "    for i in range(1, len(energy_kp) - 1):\n",
        "        h1 = kpoints[i] - kpoints[i-1]   # Step size between k[i] and k[i-1]\n",
        "        h2 = kpoints[i+1] - kpoints[i]   # Step size between k[i+1] and k[i]\n",
        "\n",
        "        dE_dk[i] = (energy_kp[i+1] - energy_kp[i-1]) / (h1 + h2) + \\\n",
        "                   ((energy_kp[i+1] - energy_kp[i]) * h1 - (energy_kp[i] - energy_kp[i-1]) * h2) / (h1 * h2 * (h1 + h2))\n",
        "\n",
        "    # Forward difference for the first point\n",
        "    h1 = kpoints[1] - kpoints[0]\n",
        "    h2 = kpoints[2] - kpoints[1]\n",
        "    dE_dk[0] = (energy_kp[1] - energy_kp[0]) / h1 + ((energy_kp[2] - energy_kp[1]) * (h1 + h2) - (energy_kp[1] - energy_kp[0]) * h2) / (h1 * (h1 + h2))\n",
        "\n",
        "    # Backward difference for the last point\n",
        "    h1 = kpoints[-1] - kpoints[-2]\n",
        "    h2 = kpoints[-2] - kpoints[-3]\n",
        "    dE_dk[-1] = (energy_kp[-1] - energy_kp[-2]) / h1 + ((energy_kp[-1] - energy_kp[-2]) * (h1 + h2) - (energy_kp[-2] - energy_kp[-3]) * h2) / (h1 * (h1 + h2))\n",
        "\n",
        "    velocity_spline = Spline(energy_kp, dE_dk)\n",
        "    velocity_function = velocity_spline(energy)\n",
        "\n",
        "    return velocity_function / h_bar"
      ],
      "metadata": {
        "id": "g02ZIMZJWWTi"
      },
      "execution_count": 96,
      "outputs": []
    },
    {
      "cell_type": "code",
      "source": [
        "def analytical_group_velocity(energy: np.ndarray, lattice_param: np.ndarray, num_kpoints: np.ndarray,\n",
        "                              m_eff: np.ndarray, valley: np.ndarray, dk_len: np.ndarray,\n",
        "                              alpha_term: np.ndarray) -> np.ndarray:\n",
        "    \"\"\"\n",
        "    Approximate group velocity for conduction bands near the band edge.\n",
        "\n",
        "    Parameters\n",
        "    ----------\n",
        "    energy: np.ndarray\n",
        "        Energy range.\n",
        "    lattice_param: np.ndarray\n",
        "        Lattice parameter.\n",
        "    num_kpoints: np.ndarray\n",
        "        Number of k-points.\n",
        "    m_eff: np.ndarray\n",
        "        Effective mass along axes.\n",
        "    valley: np.ndarray\n",
        "        Conduction band valley.\n",
        "    dk_len: np.ndarray\n",
        "        Wave vector magnitude.\n",
        "    alpha_term: np.ndarray\n",
        "        Non-parabolicity term.\n",
        "\n",
        "    Returns\n",
        "    -------\n",
        "    np.ndarray\n",
        "        Group velocity.\n",
        "    \"\"\"\n",
        "    k0 = 2 * np.pi / lattice_param * valley\n",
        "    del_k = 2 * np.pi / lattice_param * dk_len * np.ones(3)\n",
        "\n",
        "    kx = np.linspace(k0[0], k0[0] + del_k[0], num_kpoints[0])\n",
        "    ky = np.linspace(k0[1], k0[1] + del_k[1], num_kpoints[1])\n",
        "    kz = np.linspace(k0[2], k0[2] + del_k[2], num_kpoints[2])\n",
        "\n",
        "    kpoints = np.meshgrid(kx, ky, kz)\n",
        "    kpoints = np.vstack([k.flatten() for k in kpoints])\n",
        "\n",
        "    m_eff_cond = 3 / np.sum(1 / m_eff)\n",
        "\n",
        "    E = h_bar**2 / (2 * m_eff_cond) * np.sum([(kpoints[i] - k0[i]) ** 2 for i in range(3)], axis=0) * e2C\n",
        "    vel = h_bar * np.sqrt(np.sum([(kpoints[i] - k0[i]) ** 2 for i in range(3)], axis=0)) / m_eff_cond * e2C\n",
        "\n",
        "    gv_spline = Spline(E, vel)\n",
        "    gv_function = gv_spline(energy)\n",
        "\n",
        "    return gv_function"
      ],
      "metadata": {
        "id": "fBJm7LfeWWhT"
      },
      "execution_count": 97,
      "outputs": []
    },
    {
      "cell_type": "markdown",
      "source": [
        "#### Ellipsoid"
      ],
      "metadata": {
        "id": "XwWOXbj-YGe-"
      }
    },
    {
      "cell_type": "code",
      "source": [
        "def ellipsoid(xc, yc, zc, xr, yr, zr, n):\n",
        "    \"\"\"\n",
        "    generates the x, y, z coordinates of an ellipsoid surface.\n",
        "\n",
        "    Parameters:\n",
        "    xc, yc, zc : float\n",
        "        The center of the ellipsoid.\n",
        "    xr, yr, zr : float\n",
        "        The radii along the x, y, and z axes.\n",
        "    n : int\n",
        "        The number of divisions along the grid.\n",
        "    returns:\n",
        "    x, y, z : ndarray\n",
        "        the meshgrid arrays representing the ellipsoid surface\n",
        "    \"\"\"\n",
        "    # Create a meshgrid in spherical coordinates (theta, phi)\n",
        "    u = np.linspace(-np.pi, np.pi, n+1)     # theta from -pi to pi\n",
        "    v = np.linspace(0, np.pi, n+1)          # phi from 0 to pi\n",
        "\n",
        "    u, v = np.meshgrid(u, v)\n",
        "\n",
        "    # Parametric equations for the ellipsoid\n",
        "    x = xc + xr * np.cos(u) * np.sin(v)\n",
        "    y = yc + yr * np.sin(u) * np.sin(v)\n",
        "    z = zc + zr * np.cos(v)\n",
        "\n",
        "    # fig = plt.figure(figsize=(8, 6))\n",
        "    # ax = fig.add_subplot(111, projection='3d')\n",
        "    # ax.plot_surface(x, y, z, rstride=4, cstride=4, color='b', alpha=0.6, edgecolor='k')\n",
        "    # ax.set_xlabel('kx')\n",
        "    # ax.set_ylabel('ky')\n",
        "    # ax.set_zlabel('kz')\n",
        "    # ax.set_xlim([-xr, xr])\n",
        "    # ax.set_ylim([-yr, yr])\n",
        "    # ax.set_zlim([-zr, zr])\n",
        "    # plt.show()\n",
        "    return x, y, z[::-1]"
      ],
      "metadata": {
        "id": "TFQGeWvqYV4f"
      },
      "execution_count": 98,
      "outputs": []
    },
    {
      "cell_type": "markdown",
      "source": [
        "#### Generate Kpoints"
      ],
      "metadata": {
        "id": "jpNqlw-9b5g1"
      }
    },
    {
      "cell_type": "code",
      "source": [
        "def generate_kpoints(ko, del_k, nk):\n",
        "    \"\"\"\n",
        "    Generate k-points in 3D space and compute their magnitudes.\n",
        "\n",
        "    Parameters:\n",
        "    -----------\n",
        "    ko : list or array\n",
        "        The initial k-point (kx, ky, kz) in 3D space.\n",
        "    del_k : list or array\n",
        "        The step sizes for each k-point component (kx, ky, kz).\n",
        "    nk : list or array\n",
        "        The number of points to generate along each k-point direction (kx, ky, kz).\n",
        "\n",
        "    Returns:\n",
        "    --------\n",
        "    kpoint : ndarray\n",
        "        A 2D array where each row represents a k-point (kx, ky, kz).\n",
        "    mag_kpoint : ndarray\n",
        "        A 1D array containing the magnitudes of each k-point vector.\n",
        "    \"\"\"\n",
        "\n",
        "    kx = np.linspace(ko[0], ko[0] + del_k[0], nk[0])\n",
        "    ky = np.linspace(ko[1], ko[1] + del_k[1], nk[1])\n",
        "    kz = np.linspace(ko[2], ko[2] + del_k[2], nk[2])\n",
        "\n",
        "    xk, yk, zk = np.meshgrid(kx, ky, kz, indexing='ij')\n",
        "    kpoints = np.column_stack((xk.ravel(), yk.ravel(), zk.ravel()))\n",
        "    mag_kpoint = np.linalg.norm(kpoints, axis=1)\n",
        "\n",
        "    return kpoints, mag_kpoint"
      ],
      "metadata": {
        "id": "80FeNC5zUoQ6"
      },
      "execution_count": 99,
      "outputs": []
    },
    {
      "cell_type": "markdown",
      "source": [
        "#### Energy for Quadratic Dispersion Relation"
      ],
      "metadata": {
        "id": "sRJQPolF4Seo"
      }
    },
    {
      "cell_type": "code",
      "source": [
        "def calculate_energy(kpoints, ko, m):\n",
        "    \"\"\"\n",
        "    Calculate the energy for a set of k-points using a quadratic dispersion relation.\n",
        "\n",
        "    Parameters:\n",
        "    -----------\n",
        "    kpoints : ndarray\n",
        "        A 2D array where each row represents a k-point (kx, ky, kz).\n",
        "    ko : list or array\n",
        "        The reference k-point (ko_x, ko_y, ko_z).\n",
        "    m : list or array\n",
        "        The effective masses (mx, my, mz) along each k-point direction.\n",
        "    h_bar : float\n",
        "        Reduced Planck's constant (ħ).\n",
        "    eV2J : float\n",
        "        Conversion factor from electron volts to joules.\n",
        "\n",
        "    Returns:\n",
        "    --------\n",
        "    E : ndarray\n",
        "        A 1D array of energies corresponding to each k-point.\n",
        "    \"\"\"\n",
        "\n",
        "    # Energy (J) calculation\n",
        "    E = (h_bar**2 / 2) * (\n",
        "            (kpoints[:, 0] - ko[0])**2 / m[0] +\n",
        "            (kpoints[:, 1] - ko[1])**2 / m[1] +\n",
        "            (kpoints[:, 2] - ko[2])**2 / m[2]\n",
        "        ) * eV2J\n",
        "\n",
        "    return E"
      ],
      "metadata": {
        "id": "R82VXdjwV5jh"
      },
      "execution_count": 100,
      "outputs": []
    },
    {
      "cell_type": "markdown",
      "source": [
        "#### Centroids and Areas"
      ],
      "metadata": {
        "id": "hpiPdN2c4sEs"
      }
    },
    {
      "cell_type": "code",
      "source": [
        "def calculate_centroids_and_areas(x, y, z, n):\n",
        "    \"\"\"\n",
        "    Calculate centroids and surface areas for triangular facets defined by the (x, y, z) coordinates.\n",
        "\n",
        "    Parameters:\n",
        "    -----------\n",
        "    x, y, z : 2D ndarray\n",
        "        Arrays containing the x, y, z coordinates of the mesh points.\n",
        "    n : int\n",
        "        Number of divisions in the grid.\n",
        "\n",
        "    Returns:\n",
        "    --------\n",
        "    Q : ndarray\n",
        "        Centroid coordinates of each triangle.\n",
        "    A : ndarray\n",
        "        Surface area of each triangle.\n",
        "    \"\"\"\n",
        "\n",
        "    # Initialize arrays for centroids (Q) and areas (A)\n",
        "    Q = np.zeros((2*n*(n-1), 3))\n",
        "    A = np.zeros((2*n*(n-1), 1))\n",
        "    k = 0\n",
        "\n",
        "    for j in range(1, n):\n",
        "      for i in range(2, n+1):\n",
        "        S = np.array([x[i, j], y[i, j], z[i, j]]) + \\\n",
        "            np.array([x[i-1, j], y[i-1, j], z[i-1, j]]) + \\\n",
        "            np.array([x[i-1, j-1], y[i-1, j-1], z[i-1, j-1]])\n",
        "        # Centroid\n",
        "        Q[k, :] = S / 3\n",
        "        # Surface area\n",
        "        a = np.linalg.norm(np.array([x[i, j], y[i, j], z[i, j]]) - np.array([x[i-1, j], y[i-1, j], z[i-1, j]]))\n",
        "        b = np.linalg.norm(np.array([x[i-1, j], y[i-1, j], z[i-1, j]]) - np.array([x[i-1, j-1], y[i-1, j-1], z[i-1, j-1]]))\n",
        "        c = np.linalg.norm(np.array([x[i-1, j-1], y[i-1, j-1], z[i-1, j-1]]) - np.array([x[i, j], y[i, j], z[i, j]]))\n",
        "        s = (a + b + c) / 2\n",
        "        A[k, 0] = np.sqrt(s * (s - a) * (s - b) * (s - c))\n",
        "        k += 1\n",
        "\n",
        "    for j in range(1, n):\n",
        "      for i in range(1, n):\n",
        "        S = np.array([x[i, j-1], y[i, j-1], z[i, j-1]]) + \\\n",
        "            np.array([x[i, j], y[i, j], z[i, j]]) + \\\n",
        "            np.array([x[i-1, j-1], y[i-1, j-1], z[i-1, j-1]])\n",
        "        # Centroid\n",
        "        Q[k, :] = S / 3\n",
        "        # Surface area\n",
        "        a = np.linalg.norm(np.array([x[i, j-1], y[i, j-1], z[i, j-1]]) - np.array([x[i, j], y[i, j], z[i, j]]))\n",
        "        b = np.linalg.norm(np.array([x[i, j], y[i, j], z[i, j]]) - np.array([x[i-1, j-1], y[i-1, j-1], z[i-1, j-1]]))\n",
        "        c = np.linalg.norm(np.array([x[i-1, j-1], y[i-1, j-1], z[i-1, j-1]]) - np.array([x[i, j-1], y[i, j-1], z[i, j-1]]))\n",
        "        s = (a + b + c) / 2\n",
        "        A[k, 0] = np.sqrt(s * (s - a) * (s - b) * (s - c))\n",
        "        k += 1\n",
        "\n",
        "    for i in range(2, n+1):\n",
        "      S = np.array([x[i, 0], y[i, 0], z[i, 0]]) + \\\n",
        "          np.array([x[i-1, 0], y[i-1, 0], z[i-1, 0]]) + \\\n",
        "          np.array([x[i-1, -2], y[i-1, -2], z[i-1, -2]])\n",
        "      # Centroid\n",
        "      Q[k, :] = S / 3\n",
        "      # Surface area\n",
        "      a = np.linalg.norm(np.array([x[i, 0], y[i, 0], z[i, 0]]) - np.array([x[i-1, 0], y[i-1, 0], z[i-1, 0]]))\n",
        "      b = np.linalg.norm(np.array([x[i-1, 0], y[i-1, 0], z[i-1, 0]]) - np.array([x[i-1, -2], y[i-1, -2], z[i-1, -2]]))\n",
        "      c = np.linalg.norm(np.array([x[i-1, -2], y[i-1, -2], z[i-1, -2]]) - np.array([x[i, 0], y[i, 0], z[i, 0]]))\n",
        "      s = (a + b + c) / 2\n",
        "      A[k, 0] = np.sqrt(s * (s - a) * (s - b) * (s - c))\n",
        "      k += 1\n",
        "\n",
        "    for i in range(1, n):\n",
        "      S = np.array([x[i, -2], y[i, -2], z[i, -2]]) + \\\n",
        "          np.array([x[i, 0], y[i, 0], z[i, 0]]) + \\\n",
        "          np.array([x[i-1, -2], y[i-1, -2], z[i-1, -2]])\n",
        "      # Centroid\n",
        "      Q[k, :] = S / 3\n",
        "      # Surface area\n",
        "      a = np.linalg.norm(np.array([x[i, -2], y[i, -2], z[i, -2]]) - np.array([x[i, 0], y[i, 0], z[i, 0]]))\n",
        "      b = np.linalg.norm(np.array([x[i, 0], y[i, 0], z[i, 0]]) - np.array([x[i-1, -2], y[i-1, -2], z[i-1, -2]]))\n",
        "      c = np.linalg.norm(np.array([x[i-1, -2], y[i-1, -2], z[i-1, -2]]) - np.array([x[i, -2], y[i, -2], z[i, -2]]))\n",
        "      s = (a + b + c) / 2\n",
        "      A[k, 0] = np.sqrt(s * (s - a) * (s - b) * (s - c))\n",
        "      k += 1\n",
        "    return Q, A"
      ],
      "metadata": {
        "id": "iHOOyPbHX1IA"
      },
      "execution_count": 101,
      "outputs": []
    },
    {
      "cell_type": "markdown",
      "source": [
        "#### Coordination Transform"
      ],
      "metadata": {
        "id": "l5MNDjTa48SN"
      }
    },
    {
      "cell_type": "code",
      "source": [
        "def cart2sph(x, y, z):\n",
        "    r = np.sqrt(x**2 + y**2 + z**2)  # Radial distance\n",
        "    theta = np.arctan2(y, x)         # Azimuthal angle\n",
        "    phi = np.arccos(z / r)           # Polar angle\n",
        "    return theta, phi, r"
      ],
      "metadata": {
        "id": "5hPvNluMBiEo"
      },
      "execution_count": 102,
      "outputs": []
    },
    {
      "cell_type": "code",
      "source": [
        "def cart2cyl(x, y, z):\n",
        "    r = np.sqrt(x**2 + y**2)  # Radial distance\n",
        "    theta = np.arctan2(y, x)  # Angle in radians\n",
        "    return theta, r, z"
      ],
      "metadata": {
        "id": "Nou4Lm8TBjvl"
      },
      "execution_count": 103,
      "outputs": []
    },
    {
      "cell_type": "markdown",
      "source": [
        "#### Energy Range"
      ],
      "metadata": {
        "id": "rd7TcU_pnLxp"
      }
    },
    {
      "cell_type": "code",
      "source": [
        "def energy_range(energy_min: float, energy_max: float, sample_size: int) -> np.ndarray:\n",
        "    \"\"\"\n",
        "    Generate a 2D array of energy values sampled between the minimum and maximum energy levels.\n",
        "\n",
        "    Parameters\n",
        "    ----------\n",
        "    energy_min : float\n",
        "        Minimum energy level of the electron in the conduction band.\n",
        "    energy_max : float\n",
        "        Maximum energy level of the electron in the conduction band.\n",
        "    sample_size : int\n",
        "        Number of samples to generate between energy_min and energy_max.\n",
        "\n",
        "    Returns\n",
        "    -------\n",
        "    np.ndarray\n",
        "        A 1xN array of energy values sampled between the specified range.\n",
        "    \"\"\"\n",
        "    return np.linspace(energy_min, energy_max, sample_size)[np.newaxis, :]"
      ],
      "metadata": {
        "id": "Oq7U9e05WDgs"
      },
      "execution_count": 104,
      "outputs": []
    },
    {
      "cell_type": "markdown",
      "source": [
        "#### Temperature"
      ],
      "metadata": {
        "id": "Zrj_VoNynNCM"
      }
    },
    {
      "cell_type": "code",
      "source": [
        "def temperature(temp_min: float = 300, temp_max: float = 1301, del_temp: float = 100) -> np.ndarray:\n",
        "    \"\"\"\n",
        "    Generate a 2D array of temperature values sampled between the minimum and maximum temperature.\n",
        "\n",
        "    Parameters\n",
        "    ----------\n",
        "    temp_min : float, optional\n",
        "        Minimum temperature (default is 300K).\n",
        "    temp_max : float, optional\n",
        "        Maximum temperature (default is 1301K).\n",
        "    del_temp : float, optional\n",
        "        Step size for sampling the temperature range (default is 100K).\n",
        "\n",
        "    Returns\n",
        "    -------\n",
        "    np.ndarray\n",
        "        A 1xN array of temperature values sampled between the specified range.\n",
        "    \"\"\"\n",
        "    return np.arange(temp_min, temp_max, del_temp)[np.newaxis, :]"
      ],
      "metadata": {
        "id": "sHMxMv_WWDqz"
      },
      "execution_count": 105,
      "outputs": []
    },
    {
      "cell_type": "markdown",
      "source": [
        "#### Fermi Distribution"
      ],
      "metadata": {
        "id": "zrN2HMLhnN8Z"
      }
    },
    {
      "cell_type": "code",
      "source": [
        "def fermi_distribution(energy: np.ndarray, fermi_level: np.ndarray, temp: np.ndarray = None) -> np.ndarray:\n",
        "    \"\"\"\n",
        "    Compute the Fermi distribution and its first energy derivative (Fermi window) for given energy levels.\n",
        "\n",
        "    Parameters\n",
        "    ----------\n",
        "    energy : np.ndarray\n",
        "        Array of energy levels in the conduction band.\n",
        "    fermi_level : np.ndarray\n",
        "        Fermi level values.\n",
        "    temp : np.ndarray, optional\n",
        "        Temperature array (default is None, uses the default temperature function if not provided).\n",
        "\n",
        "    Returns\n",
        "    -------\n",
        "    np.ndarray\n",
        "        A 2xN array where the first row is the Fermi distribution and the second row is the Fermi window (derivative).\n",
        "    \"\"\"\n",
        "    k_bolt = 8.617330350e-5  # Boltzmann constant in eV/K\n",
        "\n",
        "    if temp is None:\n",
        "        T = temperature()\n",
        "    else:\n",
        "        T = temp\n",
        "\n",
        "    xi = np.exp((energy - fermi_level.T) / (T.T * k_bolt))\n",
        "\n",
        "    fermi_dirac = 1 / (xi + 1)  # Fermi distribution\n",
        "    dfdE = -xi / ((1 + xi) ** 2 * T.T * k_bolt)  # Fermi window (derivative of Fermi distribution)\n",
        "\n",
        "    return np.stack((fermi_dirac, dfdE))"
      ],
      "metadata": {
        "id": "z75DVpBJWDvR"
      },
      "execution_count": 106,
      "outputs": []
    },
    {
      "cell_type": "markdown",
      "source": [
        "#### Matthiessen's Rule"
      ],
      "metadata": {
        "id": "fjRlDaZYnO-y"
      }
    },
    {
      "cell_type": "code",
      "source": [
        "def matthiessen(energy: np.ndarray, *args: np.ndarray) -> np.ndarray:\n",
        "    \"\"\"\n",
        "    Calculate the total electron lifetime using Matthiessen's rule.\n",
        "\n",
        "    Parameters\n",
        "    ----------\n",
        "    energy : np.ndarray\n",
        "        Energy levels of electrons.\n",
        "    *args : np.ndarray\n",
        "        Individual scattering lifetimes from different sources.\n",
        "\n",
        "    Returns\n",
        "    -------\n",
        "    np.ndarray\n",
        "        Total electron lifetime computed using Matthiessen's rule.\n",
        "    \"\"\"\n",
        "    tau = 1.0 / np.sum([1.0 / arg for arg in args], axis=0)\n",
        "    tau[np.isinf(tau)] = 0  # Set infinite lifetime (no scattering) to zero for numerical stability.\n",
        "\n",
        "    return tau"
      ],
      "metadata": {
        "id": "7vsSthN6WDzL"
      },
      "execution_count": 107,
      "outputs": []
    },
    {
      "cell_type": "markdown",
      "source": [
        "### Lifetime"
      ],
      "metadata": {
        "id": "-DEae46p6Nz7"
      }
    },
    {
      "cell_type": "markdown",
      "source": [
        "#### Phonon Lifetime"
      ],
      "metadata": {
        "id": "jhIzxmTsYL2O"
      }
    },
    {
      "cell_type": "code",
      "source": [
        "def calculate_phonon_lifetime(energy: np.ndarray, alpha_term: np.ndarray, D_v: float, D_a: float,\n",
        "                              temperature: np.ndarray, sound_velocity: float, density_of_states: np.ndarray,\n",
        "                              mass_density: float, degeneracy: int=1) -> dict:\n",
        "    \"\"\"\n",
        "    Calculate the electron-phonon scattering rate using the Ravich model.\n",
        "\n",
        "    Parameters\n",
        "    ----------\n",
        "    energy : np.ndarray\n",
        "        Energy range.\n",
        "    alpha_term : np.ndarray\n",
        "        Non-parabolic term.\n",
        "    D_v : float\n",
        "        Hole deformation potential.\n",
        "    D_a : float\n",
        "        Electron deformation potential.\n",
        "    temperature : np.ndarray\n",
        "        Temperature.\n",
        "    sound_velocity : float\n",
        "        Sound velocity.\n",
        "    density_of_states : np.ndarray\n",
        "        Density of states.\n",
        "    mass_density : float\n",
        "        Mass density.\n",
        "    degeneracy: int\n",
        "        Degeneracy.\n",
        "    Returns\n",
        "    -------\n",
        "    dict\n",
        "        Dictionary with 'parabolic_phonon_lifetime' and 'nonparabolic_phonon_lifetime'.\n",
        "    \"\"\"\n",
        "\n",
        "    nonparabolic_term = (1 - ((alpha_term * energy) / (1 + 2 * alpha_term * energy) * (1 - D_v / D_a))) ** 2 \\\n",
        "                        - 8 / 3 * (alpha_term * energy) * (1 + alpha_term * energy) / (\n",
        "                                    1 + 2 * alpha_term * energy) ** 2 * (D_v / D_a)\n",
        "\n",
        "    tau_ph_parabolic = mass_density * sound_velocity ** 2 * h_bar \\\n",
        "          / (np.pi * k_B * temperature.T * D_a**2) * 1e9 / e2C / density_of_states * degeneracy # Lifetime for parabolic band\n",
        "\n",
        "    tau_ph_nonparabolic = tau_ph_parabolic / nonparabolic_term  # Lifetime in nonparabolic band\n",
        "\n",
        "    return {'parabolic_phonon_lifetime': tau_ph_parabolic, 'nonparabolic_phonon_lifetime': tau_ph_nonparabolic}"
      ],
      "metadata": {
        "id": "3QDii9YFYd6-"
      },
      "execution_count": 108,
      "outputs": []
    },
    {
      "cell_type": "markdown",
      "source": [
        "#### Screened Coulomb Lifetime"
      ],
      "metadata": {
        "id": "Ryh-0jP7YNTI"
      }
    },
    {
      "cell_type": "code",
      "source": [
        "def calculate_screened_coulomb_lifetime(density_of_states: np.ndarray, screening_length: np.ndarray,\n",
        "                                         impurity_scattering: np.ndarray, dielectric_constant: float,\n",
        "                                         degeneracy: int=1) -> np.ndarray:\n",
        "    \"\"\"\n",
        "    Calculate electron-impurity scattering lifetime in highly doped dielectrics.\n",
        "\n",
        "    Parameters\n",
        "    ----------\n",
        "    density_of_states : np.ndarray\n",
        "        Density of states.\n",
        "    screening_length : np.ndarray\n",
        "        Screening length.\n",
        "    impurity_scattering : np.ndarray\n",
        "        Impurity scattering rate.\n",
        "    dielectric_constant : float\n",
        "        Dielectric constant.\n",
        "    degeneracy: int\n",
        "        Degeneracy.\n",
        "    Returns\n",
        "    -------\n",
        "    np.ndarray\n",
        "        Electron-impurity lifetime.\n",
        "    \"\"\"\n",
        "\n",
        "    tau = h_bar / impurity_scattering.T / np.pi / density_of_states / \\\n",
        "          (screening_length.T ** 2 / (4 * np.pi * dielectric_constant * permittivity_vacuum)) ** 2 \\\n",
        "          * 1 / e2C ** 2 * degeneracy\n",
        "\n",
        "    return tau"
      ],
      "metadata": {
        "id": "q3qnuZ6vY4fC"
      },
      "execution_count": 109,
      "outputs": []
    },
    {
      "cell_type": "markdown",
      "source": [
        "#### Screened Coulomb Lifetime - Brook Herring"
      ],
      "metadata": {
        "id": "pF7HsfYWYOZ1"
      }
    },
    {
      "cell_type": "code",
      "source": [
        "def calculate_screened_coulomb_lifetime_brook_herring(energy: np.ndarray, conduction_mass: np.ndarray, screening_length: np.ndarray,\n",
        "                                                       impurity_scattering: np.ndarray, dielectric_constant: float, degeneracy:int=1) -> np.ndarray:\n",
        "    \"\"\"\n",
        "    Calculate electron-ion scattering lifetime using the Brook-Herring model.\n",
        "\n",
        "    Parameters\n",
        "    ----------\n",
        "    energy : np.ndarray\n",
        "        Energy range.\n",
        "    conduction_mass : np.ndarray\n",
        "        Conduction band effective mass.\n",
        "    screening_length : np.ndarray\n",
        "        Screening length.\n",
        "    impurity_scattering : np.ndarray\n",
        "        Impurity scattering rate.\n",
        "    dielectric_constant : float\n",
        "        Dielectric constant.\n",
        "    degeneracy: int\n",
        "        Degeneracy.\n",
        "    Returns\n",
        "    -------\n",
        "    np.ndarray\n",
        "        Electron-impurity lifetime.\n",
        "    \"\"\"\n",
        "\n",
        "    gamma = 8 * conduction_mass.T * screening_length.T ** 2 * energy / h_bar ** 2 / e2C  # Gamma term\n",
        "    tau_ = np.log(1 + gamma) - gamma / (1 + gamma)\n",
        "\n",
        "    tau = 16 * np.pi * np.sqrt(2 * conduction_mass.T) * (4 * np.pi * dielectric_constant * permittivity_vacuum) ** 2 \\\n",
        "          / impurity_scattering.T / tau_ * energy ** (3 / 2) / e2C ** (5.0 / 2) * degeneracy\n",
        "    tau[np.isnan(tau)] = 0\n",
        "\n",
        "    return tau"
      ],
      "metadata": {
        "id": "pL4cjkLjY5lS"
      },
      "execution_count": 110,
      "outputs": []
    },
    {
      "cell_type": "markdown",
      "source": [
        "#### Unscreened Coulomb Lifetime"
      ],
      "metadata": {
        "id": "sxZSF50HYQl5"
      }
    },
    {
      "cell_type": "code",
      "source": [
        "def calculate_unscreened_coulomb_lifetime(energy: np.ndarray, conduction_mass: np.ndarray,\n",
        "                                          impurity_scattering: np.ndarray, dielectric_constant: float, degeneracy:int=1) -> np.ndarray:\n",
        "    \"\"\"\n",
        "    Calculate electron-ion scattering lifetime for shallow dopants (no screening effect considered).\n",
        "\n",
        "    Parameters\n",
        "    ----------\n",
        "    energy : np.ndarray\n",
        "        Energy range.\n",
        "    conduction_mass : np.ndarray\n",
        "        Conduction band effective mass.\n",
        "    impurity_scattering : np.ndarray\n",
        "        Impurity scattering rate.\n",
        "    dielectric_constant : float\n",
        "        Dielectric constant.\n",
        "    degeneracy: int\n",
        "        Degeneracy.\n",
        "    Returns\n",
        "    -------\n",
        "    np.ndarray\n",
        "        Electron-impurity lifetime.\n",
        "    \"\"\"\n",
        "\n",
        "    gamma = 4 * np.pi * (4 * np.pi * dielectric_constant * permittivity_vacuum) * energy / impurity_scattering.T ** (1.0 / 3) / e2C  # Gamma term\n",
        "    tau_ = np.log(1 + gamma ** 2)\n",
        "\n",
        "    tau = 16 * np.pi * np.sqrt(2 * conduction_mass) * (4 * np.pi * dielectric_constant * permittivity_vacuum) ** 2 \\\n",
        "          / impurity_scattering.T / tau_ * energy ** (3 / 2) / e2C ** (5.0 / 2) * degeneracy\n",
        "    tau[np.isnan(tau)] = 0\n",
        "\n",
        "    return tau"
      ],
      "metadata": {
        "id": "6unQNZ2zY9Fw"
      },
      "execution_count": 111,
      "outputs": []
    },
    {
      "cell_type": "markdown",
      "source": [
        "#### Extended Cylinderical Particles Scattering"
      ],
      "metadata": {
        "id": "39yUgJDjcN24"
      }
    },
    {
      "cell_type": "code",
      "source": [
        "def calculate_inf_cylinder_scattering(ro: float, nk: tuple, uo: float, mass_fraction: np.ndarray,\n",
        "                                       v_frac: float, ko: np.ndarray, del_k: np.ndarray, n: int, enrg: np.ndarray) -> tuple:\n",
        "    \"\"\"\n",
        "    Parameters\n",
        "    ----------\n",
        "    ro : float\n",
        "        Radius of the cylindrical potential.\n",
        "    nk : tuple\n",
        "        Number of k-points in each direction (x, y, z).\n",
        "    uo : float\n",
        "        Scattering potential.\n",
        "    mass_fraction : np.ndarray\n",
        "        Mass fraction array (m1, m2, m3).\n",
        "    v_frac : float\n",
        "        Volume fraction.\n",
        "    ko : np.ndarray\n",
        "        Initial wave vector (kx, ky, kz).\n",
        "    del_k : np.ndarray\n",
        "        Delta k vector (kx, ky, kz).\n",
        "    n : int\n",
        "        Number of divisions for the ellipse parametrization.\n",
        "    enrg : np.ndarray\n",
        "        Energy range.\n",
        "    Returns\n",
        "    -------\n",
        "    tau : np.ndarray\n",
        "    relaxation times at each energy-point.\n",
        "    \"\"\"\n",
        "\n",
        "    m = electron_mass * m_frac  # Effective mass of electrons (Kg)\n",
        "    N = v_frac / (np.pi * ro**2)  # Number of particles per unit volume\n",
        "\n",
        "    # k-points and their magnitudes\n",
        "    kpoints, mag_kpoint = generate_kpoints(ko, del_k, nk)\n",
        "\n",
        "    # Energy (in Joules)\n",
        "    E = calculate_energy(kpoints, ko, m)\n",
        "\n",
        "    # Parametrize the ellipse\n",
        "    t = np.linspace(0, 2 * np.pi, n)\n",
        "\n",
        "    # Ellipse semi-major and semi-minor axes\n",
        "    a, b = np.sqrt(2 * m[0] / h_bar**2 * E / eV2J), np.sqrt(2 * m[1] / h_bar**2 * E / eV2J)\n",
        "\n",
        "    # Parametrize the ellipse area (ds)\n",
        "    ds = np.sqrt((a[:, np.newaxis] * np.sin(t))**2 +\n",
        "                 (b[:, np.newaxis] * np.cos(t))**2\n",
        "                 )\n",
        "\n",
        "    # Calculate cos(theta)\n",
        "    kx_cos_t = a[:, np.newaxis] * np.cos(t)\n",
        "    ky_cos_t = b[:, np.newaxis] * np.sin(t)\n",
        "\n",
        "    cos_theta = (kx_cos_t * kpoints[:, 0, np.newaxis] +\n",
        "                 ky_cos_t * kpoints[:, 1, np.newaxis] +\n",
        "                            kpoints[:, 2, np.newaxis]**2) / \\\n",
        "                np.sqrt(a[:, np.newaxis]**2 * np.cos(t)**2 +\n",
        "                        b[:, np.newaxis]**2 * np.sin(t)**2 +\n",
        "                              kpoints[:, 2, np.newaxis]**2\n",
        "                        ) / mag_kpoint[:, np.newaxis]\n",
        "\n",
        "    # Energy difference (delE)\n",
        "    delE = h_bar**2 * np.abs((kx_cos_t - ko[0]) / m[0] +\n",
        "                             (ky_cos_t - ko[1]) / m[1] +\n",
        "                             (kpoints[:, 2, np.newaxis] - ko[2]) / m[2])\n",
        "\n",
        "    # Calculate q and Bessel function\n",
        "    qx = kpoints[:, 0, np.newaxis] - a[:, np.newaxis] * np.cos(t)\n",
        "    qy = kpoints[:, 1, np.newaxis] - b[:, np.newaxis] * np.sin(t)\n",
        "    qr = np.sqrt(qx**2 + qy**2)\n",
        "    J = besselj(ro * qr)\n",
        "\n",
        "    # Scattering rate (SR)\n",
        "\n",
        "    SR = 2 * np.pi / h_bar * uo**2 * (2 * np.pi)**3 * (ro * J / qr)**2\n",
        "\n",
        "    func = SR * (1 - cos_theta) / delE * ds\n",
        "    integrated_func = trapz(func, t, axis=1)\n",
        "\n",
        "    # Calculate relaxation time (tau)\n",
        "    relaxation_time = 1/(N / (2 * np.pi)**3 * integrated_func) * eV2J\n",
        "\n",
        "    # Average relaxation times over energies for electrons with the same momentum\n",
        "    enrgy, idx, rtrn_idx = np.unique(E, return_index=True, return_inverse=True)\n",
        "    _tau = accum(rtrn_idx, relaxation_time, func=np.mean, dtype=float)\n",
        "\n",
        "    interpolator = Interpolator(enrgy[1:], _tau[1:])\n",
        "    tau = interpolator(enrg)\n",
        "\n",
        "    return tau"
      ],
      "metadata": {
        "id": "WcmDrqVkXijU",
        "collapsed": true
      },
      "execution_count": 112,
      "outputs": []
    },
    {
      "cell_type": "markdown",
      "source": [
        "#### Extended Cubic Particles Scattering"
      ],
      "metadata": {
        "id": "mVyJLf5KebFS"
      }
    },
    {
      "cell_type": "code",
      "source": [
        "def calculate_inf_cubic_scattering(len: np.ndarray, nk: tuple, uo: float, mass_fraction: np.ndarray,\n",
        "                                       v_frac: float, ko: np.ndarray, del_k: np.ndarray, n: int, enrg: np.ndarray) -> tuple:\n",
        "    \"\"\"\n",
        "    Parameters\n",
        "    ----------\n",
        "    len : np.ndarray\n",
        "        lengths of the cubic potential.\n",
        "    nk : tuple\n",
        "        Number of k-points in each direction (x, y, z).\n",
        "    uo : float\n",
        "        Scattering potential.\n",
        "    mass_fraction : np.ndarray\n",
        "        Mass fraction array (m1, m2, m3).\n",
        "    v_frac : float\n",
        "        Volume fraction.\n",
        "    ko : np.ndarray\n",
        "        Initial wave vector (kx, ky, kz).\n",
        "    del_k : np.ndarray\n",
        "        Delta k vector (kx, ky, kz).\n",
        "    n : int\n",
        "        Number of divisions for the ellipse parametrization.\n",
        "    enrg : np.ndarray\n",
        "        Energy range.\n",
        "    Returns\n",
        "    -------\n",
        "    tau : np.ndarray\n",
        "    relaxation times at each energy-point.\n",
        "\n",
        "    \"\"\"\n",
        "\n",
        "    m = electron_mass * m_frac  # Effective mass of electrons (Kg)\n",
        "    N = v_frac / np.prod(len)        # Number of particles per unit volume\n",
        "\n",
        "    # k-points and their magnitudes\n",
        "    kpoints, mag_kpoint = generate_kpoints(ko, del_k, nk)\n",
        "\n",
        "    # Energy (in Joules)\n",
        "    E = calculate_energy(kpoints, ko, m)\n",
        "\n",
        "    # Parametrize the ellipse\n",
        "    t = np.linspace(0, 2 * np.pi, n)\n",
        "\n",
        "    # Ellipse semi-major and semi-minor axes\n",
        "    a, b = np.sqrt(2 * m[0] / h_bar**2 * E / eV2J), np.sqrt(2 * m[1] / h_bar**2 * E / eV2J)\n",
        "\n",
        "    # Parametrize the ellipse area (ds)\n",
        "    ds = np.sqrt((a[:, np.newaxis] * np.sin(t))**2 +\n",
        "                 (b[:, np.newaxis] * np.cos(t))**2\n",
        "                 )\n",
        "\n",
        "    # Calculate cos(theta)\n",
        "    kx_cos_t = a[:, np.newaxis] * np.cos(t)\n",
        "    ky_cos_t = b[:, np.newaxis] * np.sin(t)\n",
        "\n",
        "    cos_theta = (kx_cos_t * kpoints[:, 0, np.newaxis] +\n",
        "                 ky_cos_t * kpoints[:, 1, np.newaxis] +\n",
        "                            kpoints[:, 2, np.newaxis]**2) / \\\n",
        "                np.sqrt(a[:, np.newaxis]**2 * np.cos(t)**2 +\n",
        "                        b[:, np.newaxis]**2 * np.sin(t)**2 +\n",
        "                              kpoints[:, 2, np.newaxis]**2\n",
        "                        ) / mag_kpoint[:, np.newaxis]\n",
        "\n",
        "    # Energy difference (delE)\n",
        "    delE = h_bar**2 * np.abs((kx_cos_t - ko[0]) / m[0] +\n",
        "                             (ky_cos_t - ko[1]) / m[1] +\n",
        "                             (kpoints[:, 2, np.newaxis] - ko[2]) / m[2])\n",
        "\n",
        "    # Calculate q-points\n",
        "    qx = kpoints[:, 0, np.newaxis] - a[:, np.newaxis] * np.cos(t)\n",
        "    qy = kpoints[:, 1, np.newaxis] - b[:, np.newaxis] * np.sin(t)\n",
        "\n",
        "    # Scattering rate (SR)\n",
        "    SR = 2 * np.pi / h_bar * uo**2 * (np.sin(len[0] * qx / 2) / qx)**2 * (np.sin(len[1] * qy / 2) / qy)**2\n",
        "\n",
        "    func = SR * (1 - cos_theta) / delE * ds\n",
        "    integrated_func = trapz(func, t, axis=1)\n",
        "\n",
        "    # Calculate relaxation time (tau)\n",
        "    relaxation_time = 1/(N / (2 * np.pi)**3 * integrated_func) * eV2J\n",
        "\n",
        "    # Average relaxation times over energies for electrons with the same momentum\n",
        "    enrgy, idx, rtrn_idx = np.unique(E, return_index=True, return_inverse=True)\n",
        "    _tau_m = accum(rtrn_idx, relaxation_time, func=np.mean, dtype=float)\n",
        "\n",
        "    idx = np.where(~np.isnan(_tau_m))[0]\n",
        "    _tau = _tau_m[idx]\n",
        "\n",
        "    interpolator = Interpolator(enrgy[idx], _tau)\n",
        "    tau = interpolator(enrg)\n",
        "\n",
        "    return tau"
      ],
      "metadata": {
        "id": "uG78htXremSZ"
      },
      "execution_count": 113,
      "outputs": []
    },
    {
      "cell_type": "markdown",
      "source": [
        "#### Extended Prism with Triangular Base Particles Scattering"
      ],
      "metadata": {
        "id": "Xv2TjmxKendW"
      }
    },
    {
      "cell_type": "code",
      "source": [
        "def calculate_inf_prism_scattering(len: float, h: float, nk: tuple, uo: float, mass_fraction: np.ndarray,\n",
        "                                       v_frac: float, ko: np.ndarray, del_k: np.ndarray, n: int, enrg: np.ndarray) -> tuple:\n",
        "    \"\"\"\n",
        "    Parameters\n",
        "    ----------\n",
        "    len : float\n",
        "        length of the triangle potential.\n",
        "    h : float\n",
        "        height of the triangle potential.\n",
        "    nk : tuple\n",
        "        Number of k-points in each direction (x, y, z).\n",
        "    uo : float\n",
        "        Scattering potential.\n",
        "    mass_fraction : np.ndarray\n",
        "        Mass fraction array (m1, m2, m3).\n",
        "    v_frac : float\n",
        "        Volume fraction.\n",
        "    ko : np.ndarray\n",
        "        Initial wave vector (kx, ky, kz).\n",
        "    del_k : np.ndarray\n",
        "        Delta k vector (kx, ky, kz).\n",
        "    n : int\n",
        "        Number of divisions for the ellipse parametrization.\n",
        "    enrg : np.ndarray\n",
        "        Energy range.\n",
        "    Returns\n",
        "    -------\n",
        "    tau : np.ndarray\n",
        "    relaxation times at each energy-point.\n",
        "    \"\"\"\n",
        "\n",
        "    m = electron_mass * m_frac         # Effective mass of electrons (Kg)\n",
        "    N = v_frac / np.prod(len) / 2      # Number of particles per unit volume\n",
        "\n",
        "    # k-points and their magnitudes\n",
        "    kpoints, mag_kpoint = generate_kpoints(ko, del_k, nk)\n",
        "\n",
        "    # Energy (in Joules)\n",
        "    E = calculate_energy(kpoints, ko, m)\n",
        "\n",
        "    # Parametrize the ellipse\n",
        "    t = np.linspace(0, 2 * np.pi, n)\n",
        "\n",
        "    # Ellipse semi-major and semi-minor axes\n",
        "    a, b = np.sqrt(2 * m[0] / h_bar**2 * E / eV2J), np.sqrt(2 * m[1] / h_bar**2 * E / eV2J)\n",
        "\n",
        "    # Parametrize the ellipse area (ds)\n",
        "    ds = np.sqrt((a[:, np.newaxis] * np.sin(t))**2 +\n",
        "                 (b[:, np.newaxis] * np.cos(t))**2\n",
        "                 )\n",
        "\n",
        "    # Calculate cos(theta)\n",
        "    kx_cos_t = a[:, np.newaxis] * np.cos(t)\n",
        "    ky_cos_t = b[:, np.newaxis] * np.sin(t)\n",
        "\n",
        "    cos_theta = (kx_cos_t * kpoints[:, 0, np.newaxis] +\n",
        "                 ky_cos_t * kpoints[:, 1, np.newaxis] +\n",
        "                            kpoints[:, 2, np.newaxis]**2) / \\\n",
        "                np.sqrt(a[:, np.newaxis]**2 * np.cos(t)**2 +\n",
        "                        b[:, np.newaxis]**2 * np.sin(t)**2 +\n",
        "                              kpoints[:, 2, np.newaxis]**2\n",
        "                        ) / mag_kpoint[:, np.newaxis]\n",
        "\n",
        "    # Energy difference (delE)\n",
        "    delE = h_bar**2 * np.abs((kx_cos_t - ko[0]) / m[0] +\n",
        "                             (ky_cos_t - ko[1]) / m[1] +\n",
        "                             (kpoints[:, 2, np.newaxis] - ko[2]) / m[2])\n",
        "\n",
        "    # Calculate q-points\n",
        "    qx = kpoints[:, 0, np.newaxis] - a[:, np.newaxis] * np.cos(t)\n",
        "    qy = kpoints[:, 1, np.newaxis] - b[:, np.newaxis] * np.sin(t)\n",
        "\n",
        "    # Matrix element\n",
        "\n",
        "    _M = -1*((np.exp((len * qx * 1j) / 2) * 1j - 1j) * 1j) / (qx * qy) + \\\n",
        "          (len * (np.exp((len * qx * 1j) / 2) * np.exp(h * qy * 1j) * 1j - 1j) * 1j) / (qy * (len * qx + 2 * h * qy)) + \\\n",
        "          (np.exp((len * qx * 3j) / 4) * np.sin((len * qx) / 4) * 2j) / (qx * qy) + \\\n",
        "          (len * np.exp((len * qx * 1j) / 2) * (np.exp((len * qx * 1j) / 2) * 1j - np.exp(h * qy * 1j) * 1j) * 1j) / \\\n",
        "          (qy * (len * qx - 2 * h * qy))\n",
        "\n",
        "    M = uo * _M\n",
        "\n",
        "    # Scattering rate (SR)\n",
        "    SR = 2 * np.pi / h_bar * M * np.conj(M)\n",
        "\n",
        "    func = SR * (1 - cos_theta) / delE * ds\n",
        "    integrated_func = trapz(func, t, axis=1)\n",
        "\n",
        "    # Calculate relaxation time (tau)\n",
        "    relaxation_time = 1/(N / (2 * np.pi)**3 * integrated_func) * eV2J\n",
        "\n",
        "    # Average relaxation times over energies for electrons with the same momentum\n",
        "    enrgy, idx, rtrn_idx = np.unique(E, return_index=True, return_inverse=True)\n",
        "    _tau_m = accum(rtrn_idx, relaxation_time, func=np.mean, dtype=float)\n",
        "\n",
        "    idx = np.where(~np.isnan(_tau_m))[0]\n",
        "    _tau = _tau_m[idx]\n",
        "\n",
        "    interpolator = Interpolator(enrgy[idx], _tau)\n",
        "    tau = interpolator(enrg)\n",
        "\n",
        "    return tau"
      ],
      "metadata": {
        "id": "TQ4s1Bmxeuoe"
      },
      "execution_count": 114,
      "outputs": []
    },
    {
      "cell_type": "markdown",
      "source": [
        "#### Finite Spherical Particles Scattering"
      ],
      "metadata": {
        "id": "LNlM5TuTdbpW"
      }
    },
    {
      "cell_type": "code",
      "source": [
        "def calculate_finite_spherical_scattering(ro, nk, uo, m_frac, v_frac, ko, del_k, n, enrg):\n",
        "    \"\"\"\n",
        "    Calculate the finite spherical scattering rate.\n",
        "\n",
        "    Parameters:\n",
        "    -----------\n",
        "    ro : float\n",
        "        Radius of the scattering particles.\n",
        "    nk : int\n",
        "        Number of k-points in each direction.\n",
        "    uo : float\n",
        "        Potential amplitude.\n",
        "    m_frac : np.ndarray\n",
        "        Electron effective mass as a fraction of the electron mass.\n",
        "    v_frac : float\n",
        "        Volume fraction of the scattering material.\n",
        "    ko : ndarray\n",
        "        Central k-point in reciprocal space.\n",
        "    del_k : float\n",
        "        Spacing between k-points.\n",
        "    n : int\n",
        "        Number of subdivisions for the ellipsoid surface integration.\n",
        "    enrg : np.ndarray\n",
        "        Energy for which to compute the scattering time.\n",
        "\n",
        "    Returns:\n",
        "    --------\n",
        "    tau : np.ndarray\n",
        "        Scattering time at the given energy range.\n",
        "    \"\"\"\n",
        "\n",
        "    m = electron_mass * m_frac  # Effective mass of electrons (Kg)\n",
        "    N = 3 * v_frac / (4 * np.pi * ro**3)  # Number of particles per unit volume\n",
        "\n",
        "    # k-points and their magnitudes\n",
        "    kpoints, mag_kpoint = generate_kpoints(ko, del_k, nk)\n",
        "\n",
        "    # Energy (in Joules)\n",
        "    E = calculate_energy(kpoints, ko, m)\n",
        "\n",
        "    scattering_rate = np.zeros(E.shape[0])\n",
        "\n",
        "    for u in tqdm(range(E.shape[0]), desc=\"Processing energies\"):\n",
        "\n",
        "        # Ellipsoid\n",
        "        x, y, z = ellipsoid(ko[0], ko[1], ko[2],\n",
        "                            np.sqrt(2 / (h_bar**2 * eV2J) * m[0] * E[u]),\n",
        "                            np.sqrt(2 / (h_bar**2 * eV2J) * m[1] * E[u]),\n",
        "                            np.sqrt(2 / (h_bar**2 * eV2J) * m[2] * E[u]),\n",
        "                            n)\n",
        "\n",
        "        # Centroids and surface areas of triangles on the ellipsoid\n",
        "        Q, A = calculate_centroids_and_areas(x, y, z, n)\n",
        "\n",
        "        # Compute q-vector and cosTheta for each triangle on the ellipsoid surface\n",
        "        kpoint_u = kpoints[u, :]\n",
        "        qx, qy, qz = kpoint_u[0] - Q[:, 0], kpoint_u[1] - Q[:, 1], kpoint_u[2] - Q[:, 2]\n",
        "        q = np.sqrt(qx**2 + qy**2 + qz**2)\n",
        "        cosTheta = np.dot(kpoint_u, Q.T) / (np.linalg.norm(kpoint_u) * np.linalg.norm(Q, axis=1))\n",
        "\n",
        "        # Matrix element M(q) for scattering\n",
        "        M = 4 * np.pi * uo * (1.0 / q * np.sin(ro * q) - ro * np.cos(ro * q)) / q**2\n",
        "        SR = 2 * np.pi / h_bar * M * np.conj(M)  # Scattering rate proportional to |M|^2\n",
        "\n",
        "        # Energy difference\n",
        "        delE = np.abs(h_bar**2 * ((Q[:, 0] - ko[0]) / m[0] +\n",
        "                                  (Q[:, 1] - ko[1]) / m[1] +\n",
        "                                  (Q[:, 2] - ko[2]) / m[2]))\n",
        "\n",
        "        f = SR / delE * (1 - cosTheta)\n",
        "        scattering_rate[u] = N / (2 * np.pi)**3 * np.sum(f * A[:, 0])\n",
        "\n",
        "    # Relaxation time\n",
        "    _tau = 1.0 / scattering_rate * eV2J\n",
        "\n",
        "    # Average relaxation times over energies for electrons with same momentum\n",
        "    enrgy, idx, rtrn_idx = np.unique(E, return_index=True, return_inverse=True)\n",
        "    tau_m = accum(rtrn_idx, _tau, func=np.mean, dtype=float)\n",
        "\n",
        "    interpolator = Interpolator(enrgy[1:], tau_m[1:])\n",
        "    tau = interpolator(enrg)\n",
        "\n",
        "    return tau"
      ],
      "metadata": {
        "id": "2hUEpnZatvM2"
      },
      "execution_count": 115,
      "outputs": []
    },
    {
      "cell_type": "markdown",
      "source": [
        "\n",
        "#### Finite Cylindrical Particles Scattering"
      ],
      "metadata": {
        "id": "6NmM1YZ-DZBI"
      }
    },
    {
      "cell_type": "code",
      "source": [
        "def calculate_finite_cylindrical_scattering(ho, ro, nk, uo, m_frac, v_frac, ko, del_k, n, enrg):\n",
        "    \"\"\"\n",
        "    Calculate the finite cylindrical scattering rate.\n",
        "\n",
        "    Parameters:\n",
        "    -----------\n",
        "    ho : float\n",
        "        Height of the cylindrical scattering region.\n",
        "    ro : float\n",
        "        Radius of the cylindrical scattering region.\n",
        "    nk : int\n",
        "        Number of k-points in each direction.\n",
        "    uo : float\n",
        "        Potential amplitude.\n",
        "    m_frac : np.ndarray\n",
        "        Electron effective mass as a fraction of the electron mass.\n",
        "    v_frac : float\n",
        "        Volume fraction of the scattering material.\n",
        "    ko : ndarray\n",
        "        Central k-point in reciprocal space.\n",
        "    del_k : float\n",
        "        Spacing between k-points.\n",
        "    n : int\n",
        "        Number of subdivisions for ellipsoid surface integration.\n",
        "    enrg : np.ndarray\n",
        "        Energy for which to compute the scattering time.\n",
        "\n",
        "    Returns:\n",
        "    --------\n",
        "    tau : np.ndarray\n",
        "        Scattering time at the given energy.\n",
        "    \"\"\"\n",
        "    m = electron_mass * m_frac  # Effective mass of electrons (Kg)\n",
        "    N = v_frac / ho / (np.pi * ro**2)  # Number of particles per unit volume\n",
        "\n",
        "    # k-points and their magnitudes\n",
        "    kpoints, mag_kpoint = generate_kpoints(ko, del_k, nk)\n",
        "\n",
        "    # Energy (in Joules)\n",
        "    E = calculate_energy(kpoints, ko, m)\n",
        "\n",
        "    scattering_rate = np.zeros(E.shape[0])\n",
        "\n",
        "    for u in tqdm(range(E.shape[0]), desc=\"Processing energies\"):\n",
        "\n",
        "        # Ellipsoid\n",
        "        x, y, z = ellipsoid(ko[0], ko[1], ko[2],\n",
        "                            np.sqrt(2 / (h_bar**2 * eV2J) * m[0] * E[u]),\n",
        "                            np.sqrt(2 / (h_bar**2 * eV2J) * m[1] * E[u]),\n",
        "                            np.sqrt(2 / (h_bar**2 * eV2J) * m[2] * E[u]),\n",
        "                            n)\n",
        "\n",
        "        # Centroids and surface areas of triangles on the ellipsoid\n",
        "        Q, A = calculate_centroids_and_areas(x, y, z, n)\n",
        "\n",
        "        # q-vector and cosTheta for each triangle on the ellipsoid surface\n",
        "        kpoint_u = kpoints[u, :]\n",
        "        qx, qy, qz = kpoint_u[0] - Q[:, 0], kpoint_u[1] - Q[:, 1], kpoint_u[2] - Q[:, 2]\n",
        "        qr = np.sqrt(qx**2 + qy**2)\n",
        "        cosTheta = np.dot(kpoint_u, Q.T) / (np.linalg.norm(kpoint_u) * np.linalg.norm(Q, axis=1))\n",
        "\n",
        "        # Matrix element M(q) for cylindrical scattering\n",
        "        J = besselj(1, ro * qr)\n",
        "        M = 4 * np.pi * uo * ro * J / qr * (np.sin(ho * qz / 2) / qz)\n",
        "        SR = 2 * np.pi / h_bar * M * np.conj(M)  # Scattering rate proportional to |M|^2\n",
        "\n",
        "        # Energy difference\n",
        "        delE = np.abs(h_bar**2 * ((Q[:, 0] - ko[0]) / m[0] +\n",
        "                                  (Q[:, 1] - ko[1]) / m[1] +\n",
        "                                  (Q[:, 2] - ko[2]) / m[2]))\n",
        "\n",
        "        # Scattering rate\n",
        "        f = SR / delE * (1 - cosTheta)\n",
        "        scattering_rate[u] = N / (2 * np.pi)**3 * np.sum(f * A[:, 0])\n",
        "\n",
        "    # Relaxation time\n",
        "    _tau = 1.0 / scattering_rate * eV2J\n",
        "\n",
        "    # Average relaxation times over energies for electrons with the same momentum\n",
        "    enrgy, idx, rtrn_idx = np.unique(E, return_index=True, return_inverse=True)\n",
        "    tau_m = accum(rtrn_idx, _tau, func=np.mean, dtype=float)\n",
        "\n",
        "    interpolator = Interpolator(enrgy[1:], tau_m[1:])\n",
        "    tau = interpolator(enrg)\n",
        "\n",
        "    return tau"
      ],
      "metadata": {
        "id": "e79r72ldDacy"
      },
      "execution_count": 116,
      "outputs": []
    },
    {
      "cell_type": "markdown",
      "source": [
        "#### Finite Cubic Particles Scattering"
      ],
      "metadata": {
        "id": "mefEohxBDZil"
      }
    },
    {
      "cell_type": "code",
      "source": [
        "def calculate_finite_cubic_scattering(len, nk, uo, m_frac, v_frac, ko, del_k, n, enrg):\n",
        "    \"\"\"\n",
        "    Calculate the finite cubic scattering rate.\n",
        "\n",
        "    Parameters:\n",
        "    -----------\n",
        "    len : float\n",
        "        Lengths of the cubic scattering region.\n",
        "    nk : int\n",
        "        Number of k-points in each direction.\n",
        "    uo : float\n",
        "        Potential amplitude.\n",
        "    m_frac : np.ndarray\n",
        "        Electron effective mass as a fraction of the electron mass.\n",
        "    v_frac : float\n",
        "        Volume fraction of the scattering material.\n",
        "    ko : ndarray\n",
        "        Central k-point in reciprocal space.\n",
        "    del_k : float\n",
        "        Spacing between k-points.\n",
        "    n : int\n",
        "        Number of subdivisions for ellipsoid surface integration.\n",
        "    enrg : np.ndarray\n",
        "        Energy for which to compute the scattering time.\n",
        "\n",
        "    Returns:\n",
        "    --------\n",
        "    tau : np.ndarray\n",
        "        Scattering time at the given energy.\n",
        "    \"\"\"\n",
        "    m = electron_mass * m_frac              # Effective mass of electrons (Kg)\n",
        "    N = v_frac/np.prod(len)                 # Number of particles in unit volume\n",
        "\n",
        "    kpoints, mag_kpoint = generate_kpoints(ko, del_k, nk)\n",
        "\n",
        "    # Energy (J)\n",
        "    E = calculate_energy(kpoints, ko, m)\n",
        "\n",
        "    # Scattering Rate\n",
        "    scattering_rate = np.zeros(E.shape[0])\n",
        "\n",
        "    for u in tqdm(range(E.shape[0]), desc=\"Processing energies\"):\n",
        "\n",
        "        # Ellipsoid\n",
        "        x, y, z = ellipsoid(ko[0], ko[1], ko[2],\n",
        "                            np.sqrt(2 / (h_bar**2 * eV2J) * m[0] * E[u]),\n",
        "                            np.sqrt(2 / (h_bar**2 * eV2J) * m[1] * E[u]),\n",
        "                            np.sqrt(2 / (h_bar**2 * eV2J) * m[2] * E[u]),\n",
        "                            n)\n",
        "\n",
        "        Q, A = calculate_centroids_and_areas(x, y, z, n)\n",
        "\n",
        "        # Compute q and cosTheta\n",
        "        kpoint_u = kpoints[u, :]\n",
        "        qx, qy, qz = kpoint_u[0] - Q[:, 0], kpoint_u[1] - Q[:, 1], kpoint_u[2] - Q[:, 2]\n",
        "        cosTheta = np.dot(kpoint_u, Q.T) / (np.linalg.norm(kpoint_u) * np.linalg.norm(Q, axis=1))\n",
        "\n",
        "        # Matrix element and scattering rate\n",
        "        M = 8 * uo * (np.sin(len[0] * qx / 2) / qx) * \\\n",
        "                     (np.sin(len[1] * qy / 2) / qy) * \\\n",
        "                     (np.sin(len[2] * qz / 2) / qz)\n",
        "\n",
        "        SR = 2 * np.pi / h_bar * M * np.conj(M)\n",
        "        delE = np.abs(h_bar**2 * ((Q[:, 0] - ko[0]) / m[0] +\n",
        "                                  (Q[:, 1] - ko[1]) / m[1] +\n",
        "                                  (Q[:, 2] - ko[2]) / m[2])\n",
        "                                  )\n",
        "        f = SR / delE * (1 - cosTheta)\n",
        "        scattering_rate[u] = N / (2 * np.pi)**3 * np.sum(f * A[:,0])\n",
        "\n",
        "    _tau = 1.0 / scattering_rate * eV2J\n",
        "\n",
        "    # Average relaxation times over energies for electrons with the same momentum\n",
        "    enrgy, idx, rtrn_idx = np.unique(E, return_index=True, return_inverse=True)\n",
        "    _tau_m = accum(rtrn_idx, _tau, func=np.mean, dtype=float)\n",
        "\n",
        "    idx = np.where(~np.isnan(_tau_m))[0]\n",
        "    tau_m = _tau_m[idx]\n",
        "\n",
        "    interpolator = Interpolator(enrgy[idx], tau_m)\n",
        "    tau = interpolator(enrg)\n",
        "\n",
        "    return tau"
      ],
      "metadata": {
        "id": "rKUNzt2bDdEf"
      },
      "execution_count": 117,
      "outputs": []
    },
    {
      "cell_type": "markdown",
      "source": [
        "#### Grain Boundary Scattering"
      ],
      "metadata": {
        "id": "UH1fc4vw8PgA"
      }
    },
    {
      "cell_type": "code",
      "source": [
        "def calculate_grain_boundary_scattering(trap_density, doping_concentraion, relative_permittivity, lgb, nk, m_frac, ko, del_k, n, enrg):\n",
        "    \"\"\"\n",
        "    Calculate the finite spherical scattering rate.\n",
        "\n",
        "    Parameters:\n",
        "    -----------\n",
        "    trap_density : float\n",
        "        Trap density.\n",
        "    doping_concentraion : np.ndarray\n",
        "        Doping concentraion.\n",
        "    relative_permittivity : float\n",
        "        Relative permittivity.\n",
        "    lgb : float\n",
        "        Grain boundary effective length\n",
        "    m_frac : float\n",
        "        Electron effective mass as a fraction of the electron mass.\n",
        "    v_frac : float\n",
        "        Volume fraction of the scattering material.\n",
        "    ko : ndarray\n",
        "        Central k-point in reciprocal space.\n",
        "    del_k : float\n",
        "        Spacing between k-points.\n",
        "    n : int\n",
        "        Number of subdivisions for the ellipsoid surface integration.\n",
        "    enrg : np.ndarray\n",
        "        Energy for which to compute the scattering time.\n",
        "\n",
        "    Returns:\n",
        "    --------\n",
        "    tau : np.ndarray\n",
        "        Scattering time at the given energy.\n",
        "    \"\"\"\n",
        "\n",
        "    ro = 1e-9 # Cte. on the order of the screening length R(m)\n",
        "    zo = 1e-9 # Cte. on the order of the deplition region(m)\n",
        "    fo = 0.7 # Cte. accounts for the geometrical dist. of the cylinders\n",
        "    N = 4 * fo / lgb / ro**2 # Number density of grain boundary\n",
        "\n",
        "    m = electron_mass * m_frac  # Effective mass of electrons (Kg)\n",
        "\n",
        "    # Maximum GB Potential perturbation (eV)\n",
        "    uo = trap_density**2 / doping_concentraion / permittivity_vacuum / relative_permittivity / 8 * e2C / 1e-2\n",
        "\n",
        "    # k-points and their magnitudes\n",
        "    kpoints, mag_kpoint = generate_kpoints(ko, del_k, nk)\n",
        "\n",
        "    # Energy (in Joules)\n",
        "    E = calculate_energy(kpoints, ko, m)\n",
        "\n",
        "    scattering_rate = np.zeros(E.shape[0])\n",
        "\n",
        "    for u in tqdm(range(E.shape[0]), desc=\"Processing energies\"):\n",
        "\n",
        "        # Ellipsoid\n",
        "        x, y, z = ellipsoid(ko[0], ko[1], ko[2],\n",
        "                            np.sqrt(2 / (h_bar**2 * eV2J) * m[0] * E[u]),\n",
        "                            np.sqrt(2 / (h_bar**2 * eV2J) * m[1] * E[u]),\n",
        "                            np.sqrt(2 / (h_bar**2 * eV2J) * m[2] * E[u]),\n",
        "                            n)\n",
        "\n",
        "        # Centroids and surface areas of triangles on the ellipsoid\n",
        "        Q, A = calculate_centroids_and_areas(x, y, z, n)\n",
        "\n",
        "        # Compute q-vector and cosTheta for each triangle on the ellipsoid surface\n",
        "        kpoint_u = kpoints[u, :]\n",
        "        qx, qy, qz = kpoint_u[0] - Q[:, 0], kpoint_u[1] - Q[:, 1], kpoint_u[2] - Q[:, 2]\n",
        "\n",
        "        q_theta, q_r, q_z =  cart2cyl(qx, qy, qz)\n",
        "\n",
        "        cosTheta = np.dot(kpoint_u, Q.T) / (np.linalg.norm(kpoint_u) * np.linalg.norm(Q, axis=1))\n",
        "\n",
        "        # Matrix element M(q) for scattering for uo = 1\n",
        "        M = 4 * np.pi * ro * (zo / (1+(q_z*zo)**2))*(besselj(1, q_r*ro)/q_r)\n",
        "        SR = 2 * np.pi / h_bar * M * np.conj(M)  # Scattering rate proportional to |M|^2\n",
        "\n",
        "        # Energy difference\n",
        "        delE = np.abs(h_bar**2 * ((Q[:, 0] - ko[0]) / m[0] +\n",
        "                                  (Q[:, 1] - ko[1]) / m[1] +\n",
        "                                  (Q[:, 2] - ko[2]) / m[2]))\n",
        "\n",
        "        f = SR / delE * (1 - cosTheta)\n",
        "        scattering_rate[u] = N / (2 * np.pi)**3 * np.sum(f * A[:, 0])\n",
        "\n",
        "    # Relaxation time\n",
        "    _tau = 1.0 / scattering_rate * eV2J\n",
        "\n",
        "    # Average relaxation times over energies for electrons with same momentum\n",
        "    enrgy, idx, rtrn_idx = np.unique(E, return_index=True, return_inverse=True)\n",
        "    tau_m = accum(rtrn_idx, _tau, func=np.mean, dtype=float)\n",
        "\n",
        "    interpolator = Interpolator(enrgy[1:], tau_m[1:])\n",
        "    tau = interpolator(enrg)\n",
        "\n",
        "    return tau / (uo.T)**2"
      ],
      "metadata": {
        "id": "CzS0Va2N8VQ1"
      },
      "execution_count": 165,
      "outputs": []
    },
    {
      "cell_type": "markdown",
      "source": [
        "### Input/ Output Functions (IO Funcs)"
      ],
      "metadata": {
        "id": "dAO7E_HbPe2R"
      }
    },
    {
      "cell_type": "markdown",
      "source": [
        "#### Kpoints"
      ],
      "metadata": {
        "id": "kMFi_91rmokW"
      }
    },
    {
      "cell_type": "code",
      "source": [
        "def kpoints(path2kpoints: str, delimiter: str = None, skip_rows: int = 0) -> np.ndarray:\n",
        "    \"\"\"\n",
        "    Load a 2D array of k-points (wave vectors) from a file.\n",
        "\n",
        "    Parameters\n",
        "    ----------\n",
        "    path2kpoints : str\n",
        "        Path to the k-points file.\n",
        "    delimiter : str, optional\n",
        "        Delimiter for the file (default is None for comma).\n",
        "    skip_rows : int, optional\n",
        "        Number of rows to skip at the start of the file (default is 0).\n",
        "\n",
        "    Returns\n",
        "    -------\n",
        "    np.ndarray\n",
        "        Array of k-points (wave vectors).\n",
        "    \"\"\"\n",
        "    wave_points = np.loadtxt(expanduser(path2kpoints), delimiter=delimiter, skiprows=skip_rows)\n",
        "    return wave_points"
      ],
      "metadata": {
        "id": "0VelQ2GOVEfS"
      },
      "execution_count": 119,
      "outputs": []
    },
    {
      "cell_type": "markdown",
      "source": [
        "#### Carrier Concentration"
      ],
      "metadata": {
        "id": "YpCas-3kmpX4"
      }
    },
    {
      "cell_type": "code",
      "source": [
        "def carrier_concentration(path_extrinsic_carrier: str, band_gap: np.ndarray,\n",
        "                          A: float = None, B: float = None, Nc: float = None,\n",
        "                          Nv: float = None, temp: np.ndarray = None) -> np.ndarray:\n",
        "    \"\"\"\n",
        "    Calculate total carrier concentration from intrinsic and extrinsic carriers.\n",
        "\n",
        "    Uses the relation: n = sqrt(Nc * Nv) * exp(-Eg / (2 * kB * T)) for intrinsic carrier concentration.\n",
        "\n",
        "    Parameters\n",
        "    ----------\n",
        "    path_extrinsic_carrier : str\n",
        "        Path to the file with extrinsic carrier concentration data.\n",
        "    band_gap : np.ndarray\n",
        "        Band gap values.\n",
        "    A : float, optional\n",
        "        Fitting parameter for Nc (default is None).\n",
        "    B : float, optional\n",
        "        Fitting parameter for Nv (default is None).\n",
        "    Nc : float, optional\n",
        "        Effective density of states in the conduction band (default is None).\n",
        "    Nv : float, optional\n",
        "        Effective density of states in the valence band (default is None).\n",
        "    temp : np.ndarray, optional\n",
        "        Temperature array (default is None, uses default temperature range from utility function).\n",
        "\n",
        "    Returns\n",
        "    -------\n",
        "    np.ndarray\n",
        "        Total carrier concentration.\n",
        "    \"\"\"\n",
        "\n",
        "    T = temp if temp is not None else temperature()\n",
        "\n",
        "    if Nc is None:\n",
        "        Nc = A * T ** (3 / 2)\n",
        "    if Nv is None:\n",
        "        Nv = B * T ** (3 / 2)\n",
        "\n",
        "    # Load extrinsic carrier concentration data\n",
        "    ex_carrier_data = np.loadtxt(expanduser(path_extrinsic_carrier), delimiter=None, skiprows=0)\n",
        "    ex_carrier_spline = Spline(ex_carrier_data[0], ex_carrier_data[1] * 1e6)\n",
        "    ex_carrier_concentration = ex_carrier_spline(T)\n",
        "\n",
        "    # Compute intrinsic carrier concentration\n",
        "    in_carrier = np.sqrt(Nc * Nv) * np.exp(-band_gap / (2 * k_B * T))\n",
        "\n",
        "    # Total carrier concentration\n",
        "    carrier = in_carrier + np.abs(ex_carrier_concentration)\n",
        "\n",
        "    return carrier"
      ],
      "metadata": {
        "id": "nEyQjnWvPZsq"
      },
      "execution_count": 120,
      "outputs": []
    },
    {
      "cell_type": "markdown",
      "source": [
        "#### Band Structure"
      ],
      "metadata": {
        "id": "1zOiD2oqmtlV"
      }
    },
    {
      "cell_type": "code",
      "source": [
        "def band_structure(path_eigen: str, skip_lines: int, num_bands: int, num_kpoints: int) -> dict:\n",
        "    \"\"\"\n",
        "    Load the electronic band structure from an \"EIGENVAL\" file.\n",
        "\n",
        "    Parameters\n",
        "    ----------\n",
        "    path_eigen : str\n",
        "        Path to the \"EIGENVAL\" file.\n",
        "    skip_lines : int\n",
        "        Number of lines to skip in the file.\n",
        "    num_bands : int\n",
        "        Number of bands.\n",
        "    num_kpoints : int\n",
        "        Number of k-points (wave vectors).\n",
        "\n",
        "    Returns\n",
        "    -------\n",
        "    dict\n",
        "        Dictionary containing k-points and electron dispersion data.\n",
        "    \"\"\"\n",
        "    with open(expanduser(path_eigen)) as eigen_file:\n",
        "        for _ in range(skip_lines):\n",
        "            next(eigen_file)\n",
        "        block = [[float(value) for value in line.split()] for line in eigen_file]\n",
        "\n",
        "    electron_dispersion = np.arange(1, num_bands + 1)\n",
        "    k_points = np.array(block[1::num_bands + 2])[:, 0:3]\n",
        "\n",
        "    for idx in range(num_kpoints):\n",
        "        dispersion = []\n",
        "        for j in range(num_bands):\n",
        "            dispersion.append(block[j + 2 + (num_bands + 2) * idx][1])\n",
        "        electron_dispersion = np.vstack([electron_dispersion, dispersion])\n",
        "\n",
        "    return {'k_points': k_points, 'electron_dispersion': np.delete(electron_dispersion, 0, axis=0)}"
      ],
      "metadata": {
        "id": "-Yrrn31HPZ5r"
      },
      "execution_count": 121,
      "outputs": []
    },
    {
      "cell_type": "markdown",
      "source": [
        "\n",
        "#### Electron Density"
      ],
      "metadata": {
        "id": "fFsaGrixmsa4"
      }
    },
    {
      "cell_type": "code",
      "source": [
        "def electron_density(path_density: str, header_lines: int, num_dos_points: int,\n",
        "                     unitcell_volume: float, valley_point: int, energy: np.ndarray) -> np.ndarray:\n",
        "    \"\"\"\n",
        "    Calculate the electron density of states (DoS) from a \"DOSCAR\" file.\n",
        "\n",
        "    Parameters\n",
        "    ----------\n",
        "    path_density : str\n",
        "        Path to the \"DOSCAR\" file.\n",
        "    header_lines : int\n",
        "        Number of header lines to skip in the file.\n",
        "    num_dos_points : int\n",
        "        Number of DoS points in the file.\n",
        "    unitcell_volume : float\n",
        "        Volume of the unit cell (in cubic meters).\n",
        "    valley_point : int\n",
        "        Index of the valley in the DoS data.\n",
        "    energy : np.ndarray\n",
        "        Array of energy values.\n",
        "\n",
        "    Returns\n",
        "    -------\n",
        "    np.ndarray\n",
        "        Electron density of states interpolated over the energy range.\n",
        "    \"\"\"\n",
        "    dos_data = np.loadtxt(expanduser(path_density), delimiter=None, skiprows=header_lines, max_rows=num_dos_points)\n",
        "    valley_energy = dos_data[valley_point, 0]\n",
        "\n",
        "    # Interpolate the density of states relative to the valley point\n",
        "    dos_spline = Spline(dos_data[valley_point:, 0] - valley_energy, dos_data[valley_point:, 1] / unitcell_volume)\n",
        "    density = dos_spline(energy)\n",
        "\n",
        "    return density"
      ],
      "metadata": {
        "id": "syFAHi29PZ9G"
      },
      "execution_count": 122,
      "outputs": []
    },
    {
      "cell_type": "markdown",
      "source": [
        "### Visualizer"
      ],
      "metadata": {
        "id": "d5Ksj_TBPzAY"
      }
    },
    {
      "cell_type": "code",
      "source": [
        "def visualize(array_to_plot: np.ndarray, linestyle: str, marker: str, pic_name: str,\n",
        "              x_label: str = None, y_label: str = None) -> None:\n",
        "    \"\"\"\n",
        "    Plot a two-dimensional numpy array with specified style and save it as an image.\n",
        "\n",
        "    Parameters\n",
        "    ----------\n",
        "    array_to_plot : np.ndarray\n",
        "        A 2D numpy array where the first row is x-values and the second row is y-values.\n",
        "    linestyle : str\n",
        "        Line style for the plot (e.g., '-', '--').\n",
        "    marker : str\n",
        "        Marker style for the plot (e.g., 'o', '^').\n",
        "    pic_name : str\n",
        "        Name of the file where the plot will be saved (should include file extension, e.g., 'plot.png').\n",
        "    x_label : str, optional\n",
        "        Label for the x-axis (default is None).\n",
        "    y_label : str, optional\n",
        "        Label for the y-axis (default is None).\n",
        "\n",
        "    Returns\n",
        "    -------\n",
        "    None\n",
        "    \"\"\"\n",
        "\n",
        "    # Create directory if it doesn't exist\n",
        "    dir_name = 'Figs'\n",
        "    os.makedirs(dir_name, exist_ok=True)\n",
        "\n",
        "    # Plot settings\n",
        "    fig, ax = plt.subplots(figsize=(6.5, 4.5))\n",
        "    ax.grid(False)  # Disable the grid for a cleaner plot\n",
        "    ax.plot(array_to_plot[0], array_to_plot[1], linestyle=linestyle, marker=marker, color='maroon',\n",
        "            markersize=6, linewidth=2, markerfacecolor='white', markeredgecolor='maroon', markeredgewidth=1)\n",
        "\n",
        "    # Axis labels and formatting\n",
        "    if x_label:\n",
        "        ax.set_xlabel(x_label, fontsize=20)\n",
        "    if y_label:\n",
        "        ax.set_ylabel(y_label, fontsize=20, labelpad=15)\n",
        "\n",
        "    ax.tick_params(axis=\"x\", labelsize=20)\n",
        "    ax.tick_params(axis=\"y\", labelsize=20)\n",
        "\n",
        "    # Scientific notation for large/small numbers\n",
        "    plt.ticklabel_format(axis=\"both\", style=\"sci\")\n",
        "\n",
        "    # Save figure\n",
        "    fig.tight_layout()\n",
        "    plt.savefig(os.path.join(dir_name, pic_name), dpi=100)\n",
        "    plt.close()"
      ],
      "metadata": {
        "id": "OsXsA4sfVtPc"
      },
      "execution_count": 178,
      "outputs": []
    },
    {
      "cell_type": "markdown",
      "source": [
        "## Electrical Properties of Nanocomposite Si"
      ],
      "metadata": {
        "id": "Bt2HqlM8U6WP"
      }
    },
    {
      "cell_type": "markdown",
      "source": [
        "Electrical properties of Si nanocomposite with nanoscale SiC spherical particles"
      ],
      "metadata": {
        "id": "vYPZPsWQfKBv"
      }
    },
    {
      "cell_type": "markdown",
      "source": [
        "### Si Properties"
      ],
      "metadata": {
        "id": "Wtc89n4Qllsj"
      }
    },
    {
      "cell_type": "code",
      "source": [
        "lattice_parameter = 5.401803661945516e-10           # Lattice parameter [m]\n",
        "degeneracy = 6                                       # Number of vallies in band structture\n",
        "nonparabolic_term = 0.5                             # Non-parabolic term\n",
        "dopant_electric_charge = 1                          # Fully ionized dopants (assumed)\n",
        "electron_effective_mass = 1.08 * electron_mass      # Effective electron mass [kg]\n",
        "energy_min = 0.0                                    # Minimum energy level [eV]\n",
        "energy_max = 1.0                                    # Maximum energy level [eV]\n",
        "dielectric_constant = 11.7                          # Relative dielectric constant for silicon\n",
        "num_kpoints = 800                                   # Number of k-points in the Brillouin zone\n",
        "num_bands = 8                                       # Number of electronic bands\n",
        "num_qpoints = 200                                   # Number of q-points for VASP calculations\n",
        "num_energy_samples = 8000                           # Number of energy points for sampling\n",
        "volume_fraction = 0.05                              # Volume fraction of nanoparticles\n",
        "longitudinal_mass = 0.98 * electron_mass            # Longitudinal effective mass [kg]\n",
        "transverse_mass = 0.19 * electron_mass              # Transverse effective mass [kg]\n",
        "bulk_modulus = 98                                   # Bulk modulus of silicon [GPa]\n",
        "density = 2329                                      # Mass density of silicon [kg/m^3]\n",
        "speed_of_sound = np.sqrt(bulk_modulus / density)    # Speed of sound in silicon"
      ],
      "metadata": {
        "id": "jycFy7yMOThK"
      },
      "execution_count": 124,
      "outputs": []
    },
    {
      "cell_type": "markdown",
      "source": [
        "### Simulation Params"
      ],
      "metadata": {
        "id": "mA8unKjkoRCy"
      }
    },
    {
      "cell_type": "code",
      "source": [
        "# Params\n",
        "enrg = energy_range(energy_min=energy_min, energy_max=energy_max, sample_size=num_energy_samples) # Energy\n",
        "tmpr = temperature(temp_min=300, temp_max=1301, del_temp=100) # Temperature\n",
        "electronic_gap = band_gap(Eg_0=1.17, A=4.73e-4, B=636, temp=tmpr) # Electronic band gap"
      ],
      "metadata": {
        "id": "tikvdKlzSg9t"
      },
      "execution_count": 125,
      "outputs": []
    },
    {
      "cell_type": "markdown",
      "source": [
        "### I/O"
      ],
      "metadata": {
        "id": "eCEmh7BclvQJ"
      }
    },
    {
      "cell_type": "code",
      "source": [
        "def load_experimental_data(file_path, delimiter=None, skiprows=1):\n",
        "    \"\"\"\n",
        "    Load experimental data from a text file.\n",
        "    # Data files are for 0%, 1% and 5% nanoparticle's valume fraction.\n",
        "    # The process of desolving P dopants is nonreversible.\n",
        "    # Thus the concentration is different during heating up (direction_up) and cooling down (direction_down)\n",
        "\n",
        "    Parameters:\n",
        "    - file_path: str, the path to the data file.\n",
        "    - delimiter: str or None, delimiter for the file (default: None for whitespace).\n",
        "    - skiprows: int, the number of rows to skip at the beginning (default: 1 for header).\n",
        "\n",
        "    Returns:\n",
        "    - numpy array: The loaded experimental data.\n",
        "    \"\"\"\n",
        "    return np.loadtxt(file_path, delimiter=delimiter, skiprows=skiprows)\n",
        "\n",
        "exp_data_files = {\n",
        "    \"0pct_heating\": 'Exp_Data/ExpData_SiCfrac-0pct_direction-up.txt',\n",
        "    \"1pct_heating\": 'Exp_Data/ExpData_SiCfrac-1pct_direction-up.txt',\n",
        "    \"5pct_heating\": 'Exp_Data/ExpData_SiCfrac-5pct_direction-up.txt',\n",
        "    \"5pct_cooling\": 'Exp_Data/ExpData_SiCfrac-5pct_direction-down.txt'\n",
        "    }\n",
        "\n",
        "exp_sic_data = {key: load_experimental_data(path) for key, path in exp_data_files.items()}\n",
        "\n",
        "exp_sic_frac_0pct_heating = exp_sic_data[\"0pct_heating\"]\n",
        "exp_sic_frac_1pct_heating = exp_sic_data[\"1pct_heating\"]\n",
        "exp_sic_frac_5pct_heating = exp_sic_data[\"5pct_heating\"]\n",
        "exp_sic_frac_5pct_cooling = exp_sic_data[\"5pct_cooling\"]"
      ],
      "metadata": {
        "id": "DrrnokOHNnVf"
      },
      "execution_count": 126,
      "outputs": []
    },
    {
      "cell_type": "code",
      "source": [
        "def process_carrier_concentration(path, band_gap, A=5.3e21, B=3.5e21, temp=None):\n",
        "    \"\"\"\n",
        "    Process carrier concentration data\n",
        "\n",
        "    Parameters:\n",
        "    - path: str, path to the extrinsic carrier data file.\n",
        "    - band_gap: float, the electronic band gap value.\n",
        "    - A: float, constant A (default: 5.3e21).\n",
        "    - B: float, constant B (default: 3.5e21).\n",
        "    - temp: numpy array or float, temperature data to be used in the calculation.\n",
        "\n",
        "    Returns:\n",
        "    - Carrier concentration data calculated from the input parameters.\n",
        "    \"\"\"\n",
        "    return carrier_concentration(path_extrinsic_carrier=path, band_gap=band_gap, A=A, B=B, temp=temp)\n",
        "\n",
        "carrier_concentrations = {\n",
        "    \"0pct_heating\": process_carrier_concentration(\n",
        "        path='Exp_Data/experimental-carrier-concentration-no-inc.txt', band_gap=electronic_gap, temp=tmpr),\n",
        "    \"1pct_heating\": process_carrier_concentration(\n",
        "        path='Exp_Data/experimental-carrier-concentration-1pct.txt', band_gap=electronic_gap, temp=tmpr),\n",
        "    \"5pct_heating\": process_carrier_concentration(\n",
        "        path='Exp_Data/experimental-carrier-concentration-5pct-direction-up.txt', band_gap=electronic_gap, temp=tmpr),\n",
        "    \"5pct_cooling\": process_carrier_concentration(\n",
        "        path='Exp_Data/experimental-carrier-concentration-5pct-direction-down.txt', band_gap=electronic_gap, temp=tmpr)\n",
        "    }\n",
        "\n",
        "cc_0pct_heating = carrier_concentrations[\"0pct_heating\"]\n",
        "cc_1pct_heating = carrier_concentrations[\"1pct_heating\"]\n",
        "cc_5pct_heating = carrier_concentrations[\"5pct_heating\"]\n",
        "cc_5pct_cooling = carrier_concentrations[\"5pct_cooling\"]"
      ],
      "metadata": {
        "id": "HuKtPB3BOoQ_"
      },
      "execution_count": 127,
      "outputs": []
    },
    {
      "cell_type": "code",
      "source": [
        "def calculate_reciprocal_lattice_vectors(lattice_param):\n",
        "    \"\"\"\n",
        "    Compute reciprocal lattice vectors from lattice vectors.\n",
        "    \"\"\"\n",
        "    direct_lattice_vectors = np.array([[1, 1, 0], [0, 1, 1], [1, 0, 1]]) * lattice_param / 2\n",
        "    a_rp = np.cross(direct_lattice_vectors[1], direct_lattice_vectors[2]) / np.dot(direct_lattice_vectors[0], np.cross(direct_lattice_vectors[1], direct_lattice_vectors[2]))\n",
        "    b_rp = np.cross(direct_lattice_vectors[2], direct_lattice_vectors[0]) / np.dot(direct_lattice_vectors[1], np.cross(direct_lattice_vectors[2], direct_lattice_vectors[0]))\n",
        "    c_rp = np.cross(direct_lattice_vectors[0], direct_lattice_vectors[1]) / np.dot(direct_lattice_vectors[2], np.cross(direct_lattice_vectors[0], direct_lattice_vectors[1]))\n",
        "    return np.array([a_rp, b_rp, c_rp])\n",
        "\n",
        "def load_band_structure(file_path, skip_lines=6, num_bands=None, num_kpoints=None):\n",
        "    \"\"\"\n",
        "    Load band structure data from file.\n",
        "    \"\"\"\n",
        "    return band_structure(path_eigen=file_path, skip_lines=skip_lines, num_bands=num_bands, num_kpoints=num_kpoints)\n",
        "\n",
        "def transform_k_points(k_points, reciprocal_lattice_vectors):\n",
        "    \"\"\"\n",
        "    Convert k-points to reciprocal space.\n",
        "    \"\"\"\n",
        "    return 2 * np.pi * k_points @ reciprocal_lattice_vectors\n",
        "\n",
        "def main_pipeline(lattice_parameter, eigenvalue_file, num_bands, num_kpoints):\n",
        "    \"\"\"\n",
        "    Main pipeline to calculate reciprocal lattice vectors, load band structure data, and transform k-points.\n",
        "    \"\"\"\n",
        "    reciprocal_lattice_vectors = calculate_reciprocal_lattice_vectors(lattice_parameter)\n",
        "    dispersion = load_band_structure(eigenvalue_file, skip_lines=6, num_bands=num_bands, num_kpoints=num_kpoints)\n",
        "    kpoints = transform_k_points(dispersion['k_points'], reciprocal_lattice_vectors)\n",
        "\n",
        "    return dispersion['k_points'], dispersion['electron_dispersion'], kpoints\n",
        "\n",
        "eigenvalue_file = 'DFT_Data/EIGENVAL'\n",
        "kp, band_str, kp_rl = main_pipeline(lattice_parameter, eigenvalue_file, num_bands, num_kpoints)"
      ],
      "metadata": {
        "id": "T4Eney0krJJH"
      },
      "execution_count": 128,
      "outputs": []
    },
    {
      "cell_type": "code",
      "source": [
        "def extract_band_data(band_str, band_index, init_index, num_qpoints):\n",
        "    \"\"\"\n",
        "    Extract data for a specific band and range from the band structure array.\n",
        "\n",
        "    Parameters:\n",
        "    - band_str: numpy array, band structure data.\n",
        "    - band_index: int, index of the band to extract.\n",
        "    - init_index: int, starting index for extraction.\n",
        "    - num_qpoints: int, number of k-points to consider.\n",
        "\n",
        "    Returns:\n",
        "    - numpy array: Extracted band data.\n",
        "    \"\"\"\n",
        "    return band_str[init_index: num_qpoints + init_index, band_index]\n",
        "\n",
        "def calculate_magnitudes(kp_rl):\n",
        "    \"\"\"\n",
        "    Compute the magnitudes of k-points in reciprocal space.\n",
        "\n",
        "    Parameters:\n",
        "    - kp_rl: numpy array, k-points in reciprocal space.\n",
        "\n",
        "    Returns:\n",
        "    - numpy array: Magnitudes of k-points.\n",
        "    \"\"\"\n",
        "    return norm(kp_rl, axis=1)\n",
        "\n",
        "def get_band_indices(lowest_band_dir):\n",
        "    \"\"\"\n",
        "    Get the indices of the minimum and maximum values from the band data.\n",
        "\n",
        "    Parameters:\n",
        "    - lowest_band_dir: numpy array, band data for a specific band.\n",
        "\n",
        "    Returns:\n",
        "    - tuple: Indices of the minimum and maximum values.\n",
        "    \"\"\"\n",
        "    min_band = np.argmin(lowest_band_dir, axis=0)\n",
        "    max_band = np.argmax(lowest_band_dir, axis=0)\n",
        "    return min_band, max_band\n",
        "\n",
        "def compute_energy_kp(band_str, band_index, init_index, min_band, max_band):\n",
        "    \"\"\"\n",
        "    Compute energy difference for the k-points between minimum and maximum bands.\n",
        "\n",
        "    Parameters:\n",
        "    - band_str: numpy array, band structure data.\n",
        "    - band_index: int, index of the band.\n",
        "    - init_index: int, starting index for extraction.\n",
        "    - min_band: int, index of the minimum band.\n",
        "    - max_band: int, index of the maximum band.\n",
        "\n",
        "    Returns:\n",
        "    - tuple: K-point magnitudes and energy differences.\n",
        "    \"\"\"\n",
        "    kp_mag = norm(kp_rl, axis=1)\n",
        "    kp_engr = kp_mag[init_index + max_band: init_index + min_band]\n",
        "    energy_kp = band_str[init_index + max_band: init_index + min_band, band_index] - band_str[init_index + min_band, band_index]\n",
        "    return kp_engr, energy_kp\n",
        "\n",
        "def sort_energy_kp(kp_engr, energy_kp):\n",
        "    \"\"\"\n",
        "    Sort k-point energies and their corresponding k-point magnitudes.\n",
        "\n",
        "    Parameters:\n",
        "    - kp_engr: numpy array, k-point magnitudes.\n",
        "    - energy_kp: numpy array, energy differences.\n",
        "\n",
        "    Returns:\n",
        "    - tuple: Sorted k-point magnitudes and sorted energy differences.\n",
        "    \"\"\"\n",
        "    sort_enrg = np.argsort(energy_kp, axis=0)\n",
        "    return kp_engr[sort_enrg], energy_kp[sort_enrg]\n",
        "\n",
        "def compute_group_velocity(kp_engr_sorted, energy_kp_sorted, engr):\n",
        "    \"\"\"\n",
        "    Compute the group velocity of electrons.\n",
        "\n",
        "    Parameters:\n",
        "    - kp_engr_sorted: numpy array, sorted k-point magnitudes.\n",
        "    - energy_kp_sorted: numpy array, sorted energy differences.\n",
        "    - engr: numpy array, energy values.\n",
        "\n",
        "    Returns:\n",
        "    - numpy array: Computed group velocities.\n",
        "    \"\"\"\n",
        "    return group_velocity(kpoints=kp_engr_sorted, energy_kp=energy_kp_sorted, energy=engr)\n",
        "\n",
        "def main_pipeline(band_str, kp_rl, si_conduc_band, lowest_band_dir_init, num_qpoints, engr):\n",
        "    \"\"\"\n",
        "    Main pipeline to process band structure data and compute group velocity.\n",
        "\n",
        "    Parameters:\n",
        "    - band_str: numpy array, band structure data.\n",
        "    - kp_rl: numpy array, k-points in reciprocal space.\n",
        "    - si_conduc_band: int, index of the conduction band.\n",
        "    - lowest_band_dir_init: int, starting index for the lowest band.\n",
        "    - num_qpoints: int, number of k-points.\n",
        "    - engr: numpy array, energy values.\n",
        "\n",
        "    Returns:\n",
        "    - numpy array: Computed group velocities.\n",
        "    \"\"\"\n",
        "\n",
        "    lowest_band_dir = extract_band_data(band_str, si_conduc_band, lowest_band_dir_init, num_qpoints)\n",
        "    kp_mag = calculate_magnitudes(kp_rl)\n",
        "    min_band, max_band = get_band_indices(lowest_band_dir)\n",
        "    kp_engr, energy_kp = compute_energy_kp(band_str, si_conduc_band, lowest_band_dir_init, min_band, max_band)\n",
        "    kp_engr_sorted, energy_kp_sorted = sort_energy_kp(kp_engr, energy_kp)\n",
        "\n",
        "    return compute_group_velocity(kp_engr_sorted, energy_kp_sorted, engr)\n",
        "\n",
        "si_conduc_band = 4\n",
        "lowest_band_dir_init = 400\n",
        "grp_velocity = main_pipeline(band_str, kp_rl, si_conduc_band, lowest_band_dir_init, num_qpoints, enrg)"
      ],
      "metadata": {
        "id": "P-GEInvBOoUc"
      },
      "execution_count": 129,
      "outputs": []
    },
    {
      "cell_type": "code",
      "source": [
        "unitcell_vol=2*19.70272e-30\n",
        "e_density = electron_density(path_density='DFT_Data/DOSCAR', header_lines=6, unitcell_volume=unitcell_vol,\n",
        "                             num_dos_points=2000, valley_point=1118, energy=enrg)"
      ],
      "metadata": {
        "id": "Jup3ARKZvn3o"
      },
      "execution_count": 130,
      "outputs": []
    },
    {
      "cell_type": "markdown",
      "source": [
        "### Fermi Level Properties"
      ],
      "metadata": {
        "id": "4jgJP0eVpO19"
      }
    },
    {
      "cell_type": "code",
      "source": [
        "def compute_fermi_level(carrier_data, energy, density, Nc=None, A=5.3e21, temp=None):\n",
        "    \"\"\"\n",
        "    Compute the Fermi level using Joyce-Dixon approximation for given carrier data and experimental conditions.\n",
        "\n",
        "    Parameters:\n",
        "    - carrier_data: numpy array, carrier concentration data.\n",
        "    - energy: numpy array, energy values.\n",
        "    - density: numpy array, density values.\n",
        "    - Nc: float or None, effective density of states (default: None).\n",
        "    - A: float, constant A (default: 5.3e21).\n",
        "    - temp: numpy array or float, temperature data to be used in the calculation.\n",
        "\n",
        "    Returns:\n",
        "    - numpy array: Computed Fermi level.\n",
        "    \"\"\"\n",
        "    return fermi_level(carrier=carrier_data, energy=energy, density=density, Nc=Nc, A=A, temp=temp)\n",
        "\n",
        "fermi_params = {\n",
        "    \"0pct_heating\": {'carrier_data': cc_0pct_heating, 'path': 'Exp_Data/ExpData_SiCfrac-0pct_direction-up.txt'},\n",
        "    \"1pct_heating\": {'carrier_data': cc_1pct_heating, 'path': 'Exp_Data/ExpData_SiCfrac-1pct_direction-up.txt'},\n",
        "    \"5pct_heating\": {'carrier_data': cc_5pct_heating, 'path': 'Exp_Data/ExpData_SiCfrac-5pct_direction-up.txt'},\n",
        "    \"5pct_cooling\": {'carrier_data': cc_5pct_cooling, 'path': 'Exp_Data/ExpData_SiCfrac-5pct_direction-down.txt'}\n",
        "    }\n",
        "\n",
        "fermi_levels = {key: compute_fermi_level(carrier_data=params['carrier_data'], energy=enrg, density=e_density, A=5.3e21, temp=tmpr)\n",
        "                for key, params in fermi_params.items()}\n",
        "\n",
        "JD_0pct_heating = fermi_levels[\"0pct_heating\"]\n",
        "JD_1pct_heating = fermi_levels[\"1pct_heating\"]\n",
        "JD_5pct_heating = fermi_levels[\"5pct_heating\"]\n",
        "JD_5pct_cooling = fermi_levels[\"5pct_cooling\"]"
      ],
      "metadata": {
        "id": "AHC85LovOoYU"
      },
      "execution_count": 131,
      "outputs": []
    },
    {
      "cell_type": "code",
      "source": [
        "def compute_fermi_levels(carriers, temps, energies, densities, fermi_guesses):\n",
        "    \"\"\"\n",
        "    Compute the Fermi levels for different carrier concentrations and conditions.\n",
        "\n",
        "    Parameters\n",
        "    ----------\n",
        "    carriers : list of np.ndarray\n",
        "        List of carrier concentrations for different conditions.\n",
        "    temps : np.ndarray\n",
        "        Temperature range.\n",
        "    energies : np.ndarray\n",
        "        Energy levels.\n",
        "    densities : np.ndarray\n",
        "        Density of states.\n",
        "    fermi_guesses : list of np.ndarray\n",
        "        List of initial Fermi level guesses for different conditions.\n",
        "\n",
        "    Returns\n",
        "    -------\n",
        "    list of np.ndarray\n",
        "        List of Fermi level results for different conditions.\n",
        "    \"\"\"\n",
        "    return [fermi_self_consistent(\n",
        "                carrier=carrier,\n",
        "                temp=temps,\n",
        "                energy=energies,\n",
        "                density=densities,\n",
        "                fermi_guess=fermi_guess\n",
        "            )\n",
        "            for carrier, fermi_guess in zip(carriers, fermi_guesses)\n",
        "           ]\n",
        "\n",
        "carriers = [cc_0pct_heating, cc_1pct_heating, cc_5pct_heating, cc_5pct_cooling]\n",
        "fermi_guesses = [JD_0pct_heating, JD_1pct_heating, JD_5pct_heating, JD_5pct_cooling]\n",
        "\n",
        "fermi_levels = compute_fermi_levels(\n",
        "    carriers=carriers,\n",
        "    temps=tmpr,\n",
        "    energies=enrg,\n",
        "    densities=e_density,\n",
        "    fermi_guesses=fermi_guesses\n",
        "    )\n",
        "\n",
        "fermi_0pct_heating, fermi_1pct_heating, fermi_5pct_heating, fermi_5pct_cooling = fermi_levels"
      ],
      "metadata": {
        "colab": {
          "base_uri": "https://localhost:8080/"
        },
        "id": "BOQyt6jkBldt",
        "outputId": "8ba98eda-80db-41fb-ea8d-a93af1de35ac"
      },
      "execution_count": 132,
      "outputs": [
        {
          "output_type": "stream",
          "name": "stderr",
          "text": [
            "Processing temperatures:   0%|          | 0/11 [00:00<?, ?it/s]\n",
            "Processing fermi levels for temp 300 K:   0%|          | 0/2000 [00:00<?, ?it/s]\u001b[A<ipython-input-95-5febd8ba1f89>:33: DeprecationWarning: Conversion of an array with ndim > 0 to a scalar is deprecated, and will error in future. Ensure you extract a single element from your array before performing this operation. (Deprecated NumPy 1.25.)\n",
            "  result[j, i] = np.trapz(density * f_dist, energy, axis=1)\n",
            "\n",
            "Processing fermi levels for temp 300 K:  14%|█▍        | 287/2000 [00:00<00:00, 2862.72it/s]\u001b[A\n",
            "Processing fermi levels for temp 300 K:  29%|██▊       | 574/2000 [00:00<00:00, 2755.43it/s]\u001b[A\n",
            "Processing fermi levels for temp 300 K:  42%|████▎     | 850/2000 [00:00<00:00, 2693.66it/s]\u001b[A\n",
            "Processing fermi levels for temp 300 K:  56%|█████▌    | 1120/2000 [00:00<00:00, 2578.76it/s]\u001b[A\n",
            "Processing fermi levels for temp 300 K:  69%|██████▉   | 1379/2000 [00:00<00:00, 2532.29it/s]\u001b[A\n",
            "Processing fermi levels for temp 300 K:  84%|████████▍ | 1690/2000 [00:00<00:00, 2718.88it/s]\u001b[A\n",
            "Processing temperatures:   9%|▉         | 1/11 [00:00<00:07,  1.37it/s]\n",
            "Processing fermi levels for temp 400 K:   0%|          | 0/2000 [00:00<?, ?it/s]\u001b[A\n",
            "Processing fermi levels for temp 400 K:  20%|██        | 406/2000 [00:00<00:00, 4052.70it/s]\u001b[A\n",
            "Processing fermi levels for temp 400 K:  41%|████      | 812/2000 [00:00<00:00, 3812.28it/s]\u001b[A\n",
            "Processing fermi levels for temp 400 K:  60%|█████▉    | 1195/2000 [00:00<00:00, 3817.56it/s]\u001b[A\n",
            "Processing fermi levels for temp 400 K:  79%|███████▉  | 1578/2000 [00:00<00:00, 3689.28it/s]\u001b[A\n",
            "Processing fermi levels for temp 400 K:  97%|█████████▋| 1948/2000 [00:00<00:00, 3378.49it/s]\u001b[A\n",
            "Processing temperatures:  18%|█▊        | 2/11 [00:01<00:05,  1.54it/s]\n",
            "Processing fermi levels for temp 500 K:   0%|          | 0/2000 [00:00<?, ?it/s]\u001b[A\n",
            "Processing fermi levels for temp 500 K:  21%|██        | 412/2000 [00:00<00:00, 4115.51it/s]\u001b[A\n",
            "Processing fermi levels for temp 500 K:  41%|████      | 824/2000 [00:00<00:00, 3865.99it/s]\u001b[A\n",
            "Processing fermi levels for temp 500 K:  61%|██████    | 1212/2000 [00:00<00:00, 3713.31it/s]\u001b[A\n",
            "Processing fermi levels for temp 500 K:  81%|████████▏ | 1628/2000 [00:00<00:00, 3839.72it/s]\u001b[A\n",
            "Processing temperatures:  27%|██▋       | 3/11 [00:01<00:04,  1.67it/s]\n",
            "Processing fermi levels for temp 600 K:   0%|          | 0/2000 [00:00<?, ?it/s]\u001b[A\n",
            "Processing fermi levels for temp 600 K:  20%|██        | 405/2000 [00:00<00:00, 4033.94it/s]\u001b[A\n",
            "Processing fermi levels for temp 600 K:  40%|████      | 809/2000 [00:00<00:00, 3948.49it/s]\u001b[A\n",
            "Processing fermi levels for temp 600 K:  60%|██████    | 1204/2000 [00:00<00:00, 3633.35it/s]\u001b[A\n",
            "Processing fermi levels for temp 600 K:  78%|███████▊  | 1570/2000 [00:00<00:00, 3250.19it/s]\u001b[A\n",
            "Processing fermi levels for temp 600 K:  95%|█████████▌| 1901/2000 [00:00<00:00, 3214.77it/s]\u001b[A\n",
            "Processing temperatures:  36%|███▋      | 4/11 [00:02<00:04,  1.65it/s]\n",
            "Processing fermi levels for temp 700 K:   0%|          | 0/2000 [00:00<?, ?it/s]\u001b[A\n",
            "Processing fermi levels for temp 700 K:  18%|█▊        | 366/2000 [00:00<00:00, 3654.36it/s]\u001b[A\n",
            "Processing fermi levels for temp 700 K:  37%|███▋      | 732/2000 [00:00<00:00, 3188.58it/s]\u001b[A\n",
            "Processing fermi levels for temp 700 K:  55%|█████▍    | 1098/2000 [00:00<00:00, 3383.72it/s]\u001b[A\n",
            "Processing fermi levels for temp 700 K:  74%|███████▍  | 1477/2000 [00:00<00:00, 3534.70it/s]\u001b[A\n",
            "Processing fermi levels for temp 700 K:  92%|█████████▏| 1839/2000 [00:00<00:00, 3562.86it/s]\u001b[A\n",
            "Processing temperatures:  45%|████▌     | 5/11 [00:03<00:03,  1.67it/s]\n",
            "Processing fermi levels for temp 800 K:   0%|          | 0/2000 [00:00<?, ?it/s]\u001b[A\n",
            "Processing fermi levels for temp 800 K:  19%|█▉        | 383/2000 [00:00<00:00, 3821.48it/s]\u001b[A\n",
            "Processing fermi levels for temp 800 K:  38%|███▊      | 766/2000 [00:00<00:00, 3249.33it/s]\u001b[A\n",
            "Processing fermi levels for temp 800 K:  55%|█████▍    | 1097/2000 [00:00<00:00, 3191.14it/s]\u001b[A\n",
            "Processing fermi levels for temp 800 K:  76%|███████▌  | 1516/2000 [00:00<00:00, 3556.12it/s]\u001b[A\n",
            "Processing fermi levels for temp 800 K:  94%|█████████▍| 1890/2000 [00:00<00:00, 3616.84it/s]\u001b[A\n",
            "Processing temperatures:  55%|█████▍    | 6/11 [00:03<00:02,  1.68it/s]\n",
            "Processing fermi levels for temp 900 K:   0%|          | 0/2000 [00:00<?, ?it/s]\u001b[A\n",
            "Processing fermi levels for temp 900 K:  20%|█▉        | 392/2000 [00:00<00:00, 3909.93it/s]\u001b[A\n",
            "Processing fermi levels for temp 900 K:  40%|███▉      | 792/2000 [00:00<00:00, 3959.81it/s]\u001b[A\n",
            "Processing fermi levels for temp 900 K:  59%|█████▉    | 1188/2000 [00:00<00:00, 3940.07it/s]\u001b[A\n",
            "Processing fermi levels for temp 900 K:  80%|███████▉  | 1593/2000 [00:00<00:00, 3982.15it/s]\u001b[A\n",
            "Processing fermi levels for temp 900 K: 100%|█████████▉| 1992/2000 [00:00<00:00, 3854.12it/s]\u001b[A\n",
            "Processing temperatures:  64%|██████▎   | 7/11 [00:04<00:02,  1.73it/s]\n",
            "Processing fermi levels for temp 1000 K:   0%|          | 0/2000 [00:00<?, ?it/s]\u001b[A\n",
            "Processing fermi levels for temp 1000 K:  14%|█▍        | 278/2000 [00:00<00:00, 2770.23it/s]\u001b[A\n",
            "Processing fermi levels for temp 1000 K:  28%|██▊       | 570/2000 [00:00<00:00, 2856.68it/s]\u001b[A\n",
            "Processing fermi levels for temp 1000 K:  46%|████▌     | 924/2000 [00:00<00:00, 3164.02it/s]\u001b[A\n",
            "Processing fermi levels for temp 1000 K:  66%|██████▌   | 1319/2000 [00:00<00:00, 3470.68it/s]\u001b[A\n",
            "Processing fermi levels for temp 1000 K:  85%|████████▍ | 1694/2000 [00:00<00:00, 3569.09it/s]\u001b[A\n",
            "Processing temperatures:  73%|███████▎  | 8/11 [00:04<00:01,  1.71it/s]\n",
            "Processing fermi levels for temp 1100 K:   0%|          | 0/2000 [00:00<?, ?it/s]\u001b[A\n",
            "Processing fermi levels for temp 1100 K:  19%|█▉        | 387/2000 [00:00<00:00, 3868.02it/s]\u001b[A\n",
            "Processing fermi levels for temp 1100 K:  39%|███▊      | 774/2000 [00:00<00:00, 3838.34it/s]\u001b[A\n",
            "Processing fermi levels for temp 1100 K:  59%|█████▉    | 1177/2000 [00:00<00:00, 3891.30it/s]\u001b[A\n",
            "Processing fermi levels for temp 1100 K:  78%|███████▊  | 1567/2000 [00:00<00:00, 3639.74it/s]\u001b[A\n",
            "Processing fermi levels for temp 1100 K:  97%|█████████▋| 1934/2000 [00:00<00:00, 3395.02it/s]\u001b[A\n",
            "Processing temperatures:  82%|████████▏ | 9/11 [00:05<00:01,  1.71it/s]\n",
            "Processing fermi levels for temp 1200 K:   0%|          | 0/2000 [00:00<?, ?it/s]\u001b[A\n",
            "Processing fermi levels for temp 1200 K:  21%|██        | 412/2000 [00:00<00:00, 4115.09it/s]\u001b[A\n",
            "Processing fermi levels for temp 1200 K:  41%|████      | 824/2000 [00:00<00:00, 4003.32it/s]\u001b[A\n",
            "Processing fermi levels for temp 1200 K:  62%|██████▏   | 1232/2000 [00:00<00:00, 4036.89it/s]\u001b[A\n",
            "Processing fermi levels for temp 1200 K:  82%|████████▏ | 1636/2000 [00:00<00:00, 3847.35it/s]\u001b[A\n",
            "Processing temperatures:  91%|█████████ | 10/11 [00:05<00:00,  1.77it/s]\n",
            "Processing fermi levels for temp 1300 K:   0%|          | 0/2000 [00:00<?, ?it/s]\u001b[A\n",
            "Processing fermi levels for temp 1300 K:  21%|██▏       | 427/2000 [00:00<00:00, 4262.73it/s]\u001b[A\n",
            "Processing fermi levels for temp 1300 K:  43%|████▎     | 854/2000 [00:00<00:00, 3930.67it/s]\u001b[A\n",
            "Processing fermi levels for temp 1300 K:  62%|██████▏   | 1249/2000 [00:00<00:00, 3151.03it/s]\u001b[A\n",
            "Processing fermi levels for temp 1300 K:  79%|███████▉  | 1579/2000 [00:00<00:00, 2705.75it/s]\u001b[A\n",
            "Processing fermi levels for temp 1300 K:  93%|█████████▎| 1863/2000 [00:00<00:00, 2698.39it/s]\u001b[A\n",
            "Processing temperatures: 100%|██████████| 11/11 [00:06<00:00,  1.66it/s]\n",
            "Processing temperatures:   0%|          | 0/11 [00:00<?, ?it/s]\n",
            "Processing fermi levels for temp 300 K:   0%|          | 0/2000 [00:00<?, ?it/s]\u001b[A\n",
            "Processing fermi levels for temp 300 K:  13%|█▎        | 267/2000 [00:00<00:00, 2666.23it/s]\u001b[A\n",
            "Processing fermi levels for temp 300 K:  27%|██▋       | 540/2000 [00:00<00:00, 2702.68it/s]\u001b[A\n",
            "Processing fermi levels for temp 300 K:  41%|████      | 811/2000 [00:00<00:00, 2668.65it/s]\u001b[A\n",
            "Processing fermi levels for temp 300 K:  55%|█████▍    | 1095/2000 [00:00<00:00, 2732.16it/s]\u001b[A\n",
            "Processing fermi levels for temp 300 K:  69%|██████▊   | 1373/2000 [00:00<00:00, 2748.06it/s]\u001b[A\n",
            "Processing fermi levels for temp 300 K:  82%|████████▏ | 1648/2000 [00:00<00:00, 2466.04it/s]\u001b[A\n",
            "Processing fermi levels for temp 300 K:  95%|█████████▌| 1900/2000 [00:00<00:00, 2425.06it/s]\u001b[A\n",
            "Processing temperatures:   9%|▉         | 1/11 [00:00<00:08,  1.23it/s]\n",
            "Processing fermi levels for temp 400 K:   0%|          | 0/2000 [00:00<?, ?it/s]\u001b[A\n",
            "Processing fermi levels for temp 400 K:  11%|█▏        | 229/2000 [00:00<00:00, 2289.27it/s]\u001b[A\n",
            "Processing fermi levels for temp 400 K:  23%|██▎       | 466/2000 [00:00<00:00, 2332.67it/s]\u001b[A\n",
            "Processing fermi levels for temp 400 K:  35%|███▌      | 700/2000 [00:00<00:01, 894.19it/s] \u001b[A\n",
            "Processing fermi levels for temp 400 K:  43%|████▎     | 851/2000 [00:00<00:01, 891.30it/s]\u001b[A\n",
            "Processing fermi levels for temp 400 K:  49%|████▉     | 986/2000 [00:00<00:01, 969.13it/s]\u001b[A\n",
            "Processing fermi levels for temp 400 K:  56%|█████▌    | 1112/2000 [00:01<00:01, 827.81it/s]\u001b[A\n",
            "Processing fermi levels for temp 400 K:  61%|██████    | 1216/2000 [00:01<00:01, 735.83it/s]\u001b[A\n",
            "Processing fermi levels for temp 400 K:  65%|██████▌   | 1304/2000 [00:01<00:00, 720.03it/s]\u001b[A\n",
            "Processing fermi levels for temp 400 K:  78%|███████▊  | 1563/2000 [00:01<00:00, 1109.02it/s]\u001b[A\n",
            "Processing fermi levels for temp 400 K:  92%|█████████▏| 1844/2000 [00:01<00:00, 1494.98it/s]\u001b[A\n",
            "Processing temperatures:  18%|█▊        | 2/11 [00:02<00:12,  1.37s/it]\n",
            "Processing fermi levels for temp 500 K:   0%|          | 0/2000 [00:00<?, ?it/s]\u001b[A\n",
            "Processing fermi levels for temp 500 K:  12%|█▏        | 240/2000 [00:00<00:00, 2388.25it/s]\u001b[A\n",
            "Processing fermi levels for temp 500 K:  24%|██▍       | 479/2000 [00:00<00:00, 2387.79it/s]\u001b[A\n",
            "Processing fermi levels for temp 500 K:  36%|███▌      | 718/2000 [00:00<00:00, 2328.52it/s]\u001b[A\n",
            "Processing fermi levels for temp 500 K:  48%|████▊     | 954/2000 [00:00<00:00, 2340.12it/s]\u001b[A\n",
            "Processing fermi levels for temp 500 K:  60%|██████    | 1207/2000 [00:00<00:00, 2406.57it/s]\u001b[A\n",
            "Processing fermi levels for temp 500 K:  72%|███████▏  | 1449/2000 [00:00<00:00, 2410.36it/s]\u001b[A\n",
            "Processing fermi levels for temp 500 K:  85%|████████▍ | 1691/2000 [00:00<00:00, 2410.16it/s]\u001b[A\n",
            "Processing fermi levels for temp 500 K:  97%|█████████▋| 1933/2000 [00:00<00:00, 2275.72it/s]\u001b[A\n",
            "Processing temperatures:  27%|██▋       | 3/11 [00:03<00:09,  1.14s/it]\n",
            "Processing fermi levels for temp 600 K:   0%|          | 0/2000 [00:00<?, ?it/s]\u001b[A\n",
            "Processing fermi levels for temp 600 K:  12%|█▏        | 249/2000 [00:00<00:00, 2485.36it/s]\u001b[A\n",
            "Processing fermi levels for temp 600 K:  25%|██▍       | 498/2000 [00:00<00:00, 2207.37it/s]\u001b[A\n",
            "Processing fermi levels for temp 600 K:  36%|███▌      | 721/2000 [00:00<00:00, 2008.51it/s]\u001b[A\n",
            "Processing fermi levels for temp 600 K:  47%|████▋     | 947/2000 [00:00<00:00, 2096.86it/s]\u001b[A\n",
            "Processing fermi levels for temp 600 K:  59%|█████▉    | 1189/2000 [00:00<00:00, 2204.82it/s]\u001b[A\n",
            "Processing fermi levels for temp 600 K:  71%|███████   | 1423/2000 [00:00<00:00, 2246.99it/s]\u001b[A\n",
            "Processing fermi levels for temp 600 K:  83%|████████▎ | 1661/2000 [00:00<00:00, 2287.54it/s]\u001b[A\n",
            "Processing fermi levels for temp 600 K:  95%|█████████▍| 1891/2000 [00:00<00:00, 2213.86it/s]\u001b[A\n",
            "Processing temperatures:  36%|███▋      | 4/11 [00:04<00:07,  1.06s/it]\n",
            "Processing fermi levels for temp 700 K:   0%|          | 0/2000 [00:00<?, ?it/s]\u001b[A\n",
            "Processing fermi levels for temp 700 K:  10%|█         | 203/2000 [00:00<00:00, 2022.36it/s]\u001b[A\n",
            "Processing fermi levels for temp 700 K:  21%|██        | 423/2000 [00:00<00:00, 2122.45it/s]\u001b[A\n",
            "Processing fermi levels for temp 700 K:  33%|███▎      | 653/2000 [00:00<00:00, 2203.04it/s]\u001b[A\n",
            "Processing fermi levels for temp 700 K:  44%|████▍     | 888/2000 [00:00<00:00, 2259.38it/s]\u001b[A\n",
            "Processing fermi levels for temp 700 K:  56%|█████▌    | 1114/2000 [00:00<00:00, 2181.93it/s]\u001b[A\n",
            "Processing fermi levels for temp 700 K:  67%|██████▋   | 1335/2000 [00:00<00:00, 2189.27it/s]\u001b[A\n",
            "Processing fermi levels for temp 700 K:  79%|███████▊  | 1573/2000 [00:00<00:00, 2250.46it/s]\u001b[A\n",
            "Processing fermi levels for temp 700 K:  91%|█████████ | 1824/2000 [00:00<00:00, 2331.13it/s]\u001b[A\n",
            "Processing temperatures:  45%|████▌     | 5/11 [00:05<00:05,  1.00it/s]\n",
            "Processing fermi levels for temp 800 K:   0%|          | 0/2000 [00:00<?, ?it/s]\u001b[A\n",
            "Processing fermi levels for temp 800 K:  20%|██        | 401/2000 [00:00<00:00, 4002.13it/s]\u001b[A\n",
            "Processing fermi levels for temp 800 K:  40%|████      | 802/2000 [00:00<00:00, 3833.39it/s]\u001b[A\n",
            "Processing fermi levels for temp 800 K:  59%|█████▉    | 1186/2000 [00:00<00:00, 3284.82it/s]\u001b[A\n",
            "Processing fermi levels for temp 800 K:  76%|███████▌  | 1522/2000 [00:00<00:00, 3165.69it/s]\u001b[A\n",
            "Processing fermi levels for temp 800 K:  94%|█████████▍| 1888/2000 [00:00<00:00, 3324.75it/s]\u001b[A\n",
            "Processing temperatures:  55%|█████▍    | 6/11 [00:05<00:04,  1.16it/s]\n",
            "Processing fermi levels for temp 900 K:   0%|          | 0/2000 [00:00<?, ?it/s]\u001b[A\n",
            "Processing fermi levels for temp 900 K:  22%|██▏       | 449/2000 [00:00<00:00, 4489.11it/s]\u001b[A\n",
            "Processing fermi levels for temp 900 K:  45%|████▍     | 898/2000 [00:00<00:00, 4085.22it/s]\u001b[A\n",
            "Processing fermi levels for temp 900 K:  66%|██████▌   | 1323/2000 [00:00<00:00, 4154.64it/s]\u001b[A\n",
            "Processing fermi levels for temp 900 K:  87%|████████▋ | 1741/2000 [00:00<00:00, 4037.27it/s]\u001b[A\n",
            "Processing temperatures:  64%|██████▎   | 7/11 [00:06<00:02,  1.34it/s]\n",
            "Processing fermi levels for temp 1000 K:   0%|          | 0/2000 [00:00<?, ?it/s]\u001b[A\n",
            "Processing fermi levels for temp 1000 K:  19%|█▉        | 384/2000 [00:00<00:00, 3836.15it/s]\u001b[A\n",
            "Processing fermi levels for temp 1000 K:  38%|███▊      | 768/2000 [00:00<00:00, 3290.55it/s]\u001b[A\n",
            "Processing fermi levels for temp 1000 K:  55%|█████▌    | 1102/2000 [00:00<00:00, 3073.94it/s]\u001b[A\n",
            "Processing fermi levels for temp 1000 K:  72%|███████▏  | 1446/2000 [00:00<00:00, 3203.05it/s]\u001b[A\n",
            "Processing fermi levels for temp 1000 K:  92%|█████████▏| 1838/2000 [00:00<00:00, 3443.62it/s]\u001b[A\n",
            "Processing temperatures:  73%|███████▎  | 8/11 [00:06<00:02,  1.42it/s]\n",
            "Processing fermi levels for temp 1100 K:   0%|          | 0/2000 [00:00<?, ?it/s]\u001b[A\n",
            "Processing fermi levels for temp 1100 K:  22%|██▏       | 434/2000 [00:00<00:00, 4339.50it/s]\u001b[A\n",
            "Processing fermi levels for temp 1100 K:  43%|████▎     | 868/2000 [00:00<00:00, 3943.50it/s]\u001b[A\n",
            "Processing fermi levels for temp 1100 K:  63%|██████▎   | 1265/2000 [00:00<00:00, 3852.93it/s]\u001b[A\n",
            "Processing fermi levels for temp 1100 K:  84%|████████▍ | 1678/2000 [00:00<00:00, 3956.21it/s]\u001b[A\n",
            "Processing temperatures:  82%|████████▏ | 9/11 [00:07<00:01,  1.55it/s]\n",
            "Processing fermi levels for temp 1200 K:   0%|          | 0/2000 [00:00<?, ?it/s]\u001b[A\n",
            "Processing fermi levels for temp 1200 K:  13%|█▎        | 257/2000 [00:00<00:00, 2566.89it/s]\u001b[A\n",
            "Processing fermi levels for temp 1200 K:  28%|██▊       | 552/2000 [00:00<00:00, 2789.17it/s]\u001b[A\n",
            "Processing fermi levels for temp 1200 K:  47%|████▋     | 938/2000 [00:00<00:00, 3276.63it/s]\u001b[A\n",
            "Processing fermi levels for temp 1200 K:  66%|██████▌   | 1320/2000 [00:00<00:00, 3489.77it/s]\u001b[A\n",
            "Processing fermi levels for temp 1200 K:  87%|████████▋ | 1745/2000 [00:00<00:00, 3761.45it/s]\u001b[A\n",
            "Processing temperatures:  91%|█████████ | 10/11 [00:08<00:00,  1.60it/s]\n",
            "Processing fermi levels for temp 1300 K:   0%|          | 0/2000 [00:00<?, ?it/s]\u001b[A\n",
            "Processing fermi levels for temp 1300 K:  23%|██▎       | 455/2000 [00:00<00:00, 4547.55it/s]\u001b[A\n",
            "Processing fermi levels for temp 1300 K:  46%|████▌     | 910/2000 [00:00<00:00, 4234.39it/s]\u001b[A\n",
            "Processing fermi levels for temp 1300 K:  67%|██████▋   | 1335/2000 [00:00<00:00, 3952.53it/s]\u001b[A\n",
            "Processing fermi levels for temp 1300 K:  87%|████████▋ | 1733/2000 [00:00<00:00, 3886.51it/s]\u001b[A\n",
            "Processing temperatures: 100%|██████████| 11/11 [00:08<00:00,  1.27it/s]\n",
            "Processing temperatures:   0%|          | 0/11 [00:00<?, ?it/s]\n",
            "Processing fermi levels for temp 300 K:   0%|          | 0/2000 [00:00<?, ?it/s]\u001b[A\n",
            "Processing fermi levels for temp 300 K:  13%|█▎        | 265/2000 [00:00<00:00, 2646.67it/s]\u001b[A\n",
            "Processing fermi levels for temp 300 K:  31%|███       | 619/2000 [00:00<00:00, 3171.45it/s]\u001b[A\n",
            "Processing fermi levels for temp 300 K:  52%|█████▏    | 1049/2000 [00:00<00:00, 3685.49it/s]\u001b[A\n",
            "Processing fermi levels for temp 300 K:  73%|███████▎  | 1452/2000 [00:00<00:00, 3820.90it/s]\u001b[A\n",
            "Processing fermi levels for temp 300 K:  93%|█████████▎| 1852/2000 [00:00<00:00, 3882.68it/s]\u001b[A\n",
            "Processing temperatures:   9%|▉         | 1/11 [00:00<00:05,  1.81it/s]\n",
            "Processing fermi levels for temp 400 K:   0%|          | 0/2000 [00:00<?, ?it/s]\u001b[A\n",
            "Processing fermi levels for temp 400 K:  21%|██        | 424/2000 [00:00<00:00, 4237.15it/s]\u001b[A\n",
            "Processing fermi levels for temp 400 K:  42%|████▏     | 848/2000 [00:00<00:00, 4116.74it/s]\u001b[A\n",
            "Processing fermi levels for temp 400 K:  63%|██████▎   | 1260/2000 [00:00<00:00, 4090.16it/s]\u001b[A\n",
            "Processing fermi levels for temp 400 K:  84%|████████▎ | 1670/2000 [00:00<00:00, 3341.06it/s]\u001b[A\n",
            "Processing temperatures:  18%|█▊        | 2/11 [00:01<00:05,  1.77it/s]\n",
            "Processing fermi levels for temp 500 K:   0%|          | 0/2000 [00:00<?, ?it/s]\u001b[A\n",
            "Processing fermi levels for temp 500 K:  22%|██▏       | 432/2000 [00:00<00:00, 4314.15it/s]\u001b[A\n",
            "Processing fermi levels for temp 500 K:  43%|████▎     | 864/2000 [00:00<00:00, 4164.52it/s]\u001b[A\n",
            "Processing fermi levels for temp 500 K:  64%|██████▍   | 1281/2000 [00:00<00:00, 4098.15it/s]\u001b[A\n",
            "Processing fermi levels for temp 500 K:  85%|████████▍ | 1693/2000 [00:00<00:00, 4100.29it/s]\u001b[A\n",
            "Processing temperatures:  27%|██▋       | 3/11 [00:01<00:04,  1.86it/s]\n",
            "Processing fermi levels for temp 600 K:   0%|          | 0/2000 [00:00<?, ?it/s]\u001b[A\n",
            "Processing fermi levels for temp 600 K:  20%|██        | 405/2000 [00:00<00:00, 4040.44it/s]\u001b[A\n",
            "Processing fermi levels for temp 600 K:  41%|████      | 813/2000 [00:00<00:00, 4062.71it/s]\u001b[A\n",
            "Processing fermi levels for temp 600 K:  61%|██████    | 1220/2000 [00:00<00:00, 3584.83it/s]\u001b[A\n",
            "Processing fermi levels for temp 600 K:  79%|███████▉  | 1585/2000 [00:00<00:00, 3216.44it/s]\u001b[A\n",
            "Processing fermi levels for temp 600 K:  98%|█████████▊| 1959/2000 [00:00<00:00, 3380.88it/s]\u001b[A\n",
            "Processing temperatures:  36%|███▋      | 4/11 [00:02<00:03,  1.78it/s]\n",
            "Processing fermi levels for temp 700 K:   0%|          | 0/2000 [00:00<?, ?it/s]\u001b[A\n",
            "Processing fermi levels for temp 700 K:  20%|█▉        | 394/2000 [00:00<00:00, 3932.80it/s]\u001b[A\n",
            "Processing fermi levels for temp 700 K:  40%|███▉      | 791/2000 [00:00<00:00, 3950.35it/s]\u001b[A\n",
            "Processing fermi levels for temp 700 K:  61%|██████▏   | 1225/2000 [00:00<00:00, 4126.50it/s]\u001b[A\n",
            "Processing fermi levels for temp 700 K:  82%|████████▏ | 1638/2000 [00:00<00:00, 4081.42it/s]\u001b[A\n",
            "Processing temperatures:  45%|████▌     | 5/11 [00:02<00:03,  1.84it/s]\n",
            "Processing fermi levels for temp 800 K:   0%|          | 0/2000 [00:00<?, ?it/s]\u001b[A\n",
            "Processing fermi levels for temp 800 K:  18%|█▊        | 370/2000 [00:00<00:00, 3691.73it/s]\u001b[A\n",
            "Processing fermi levels for temp 800 K:  37%|███▋      | 740/2000 [00:00<00:00, 3307.74it/s]\u001b[A\n",
            "Processing fermi levels for temp 800 K:  54%|█████▎    | 1074/2000 [00:00<00:00, 3043.95it/s]\u001b[A\n",
            "Processing fermi levels for temp 800 K:  71%|███████▏  | 1427/2000 [00:00<00:00, 3217.32it/s]\u001b[A\n",
            "Processing fermi levels for temp 800 K:  92%|█████████▏| 1849/2000 [00:00<00:00, 3556.00it/s]\u001b[A\n",
            "Processing temperatures:  55%|█████▍    | 6/11 [00:03<00:02,  1.78it/s]\n",
            "Processing fermi levels for temp 900 K:   0%|          | 0/2000 [00:00<?, ?it/s]\u001b[A\n",
            "Processing fermi levels for temp 900 K:  19%|█▉        | 379/2000 [00:00<00:00, 3787.12it/s]\u001b[A\n",
            "Processing fermi levels for temp 900 K:  39%|███▉      | 781/2000 [00:00<00:00, 3921.72it/s]\u001b[A\n",
            "Processing fermi levels for temp 900 K:  59%|█████▉    | 1178/2000 [00:00<00:00, 3941.19it/s]\u001b[A\n",
            "Processing fermi levels for temp 900 K:  79%|███████▉  | 1586/2000 [00:00<00:00, 3994.80it/s]\u001b[A\n",
            "Processing fermi levels for temp 900 K:  99%|█████████▉| 1986/2000 [00:00<00:00, 3987.98it/s]\u001b[A\n",
            "Processing temperatures:  64%|██████▎   | 7/11 [00:03<00:02,  1.82it/s]\n",
            "Processing fermi levels for temp 1000 K:   0%|          | 0/2000 [00:00<?, ?it/s]\u001b[A\n",
            "Processing fermi levels for temp 1000 K:  13%|█▎        | 255/2000 [00:00<00:00, 2549.14it/s]\u001b[A\n",
            "Processing fermi levels for temp 1000 K:  26%|██▌       | 510/2000 [00:00<00:00, 2544.03it/s]\u001b[A\n",
            "Processing fermi levels for temp 1000 K:  38%|███▊      | 765/2000 [00:00<00:00, 2523.51it/s]\u001b[A\n",
            "Processing fermi levels for temp 1000 K:  59%|█████▉    | 1180/2000 [00:00<00:00, 3159.45it/s]\u001b[A\n",
            "Processing fermi levels for temp 1000 K:  78%|███████▊  | 1557/2000 [00:00<00:00, 3376.61it/s]\u001b[A\n",
            "Processing fermi levels for temp 1000 K:  99%|█████████▉| 1987/2000 [00:00<00:00, 3687.37it/s]\u001b[A\n",
            "Processing temperatures:  73%|███████▎  | 8/11 [00:04<00:01,  1.74it/s]\n",
            "Processing fermi levels for temp 1100 K:   0%|          | 0/2000 [00:00<?, ?it/s]\u001b[A\n",
            "Processing fermi levels for temp 1100 K:  20%|██        | 400/2000 [00:00<00:00, 3992.23it/s]\u001b[A\n",
            "Processing fermi levels for temp 1100 K:  40%|████      | 800/2000 [00:00<00:00, 3767.37it/s]\u001b[A\n",
            "Processing fermi levels for temp 1100 K:  61%|██████    | 1213/2000 [00:00<00:00, 3925.30it/s]\u001b[A\n",
            "Processing fermi levels for temp 1100 K:  80%|████████  | 1607/2000 [00:00<00:00, 3670.94it/s]\u001b[A\n",
            "Processing fermi levels for temp 1100 K:  99%|█████████▉| 1977/2000 [00:00<00:00, 3360.52it/s]\u001b[A\n",
            "Processing temperatures:  82%|████████▏ | 9/11 [00:05<00:01,  1.73it/s]\n",
            "Processing fermi levels for temp 1200 K:   0%|          | 0/2000 [00:00<?, ?it/s]\u001b[A\n",
            "Processing fermi levels for temp 1200 K:  13%|█▎        | 264/2000 [00:00<00:00, 2639.32it/s]\u001b[A\n",
            "Processing fermi levels for temp 1200 K:  32%|███▏      | 640/2000 [00:00<00:00, 3294.36it/s]\u001b[A\n",
            "Processing fermi levels for temp 1200 K:  50%|█████     | 1009/2000 [00:00<00:00, 3471.32it/s]\u001b[A\n",
            "Processing fermi levels for temp 1200 K:  70%|███████   | 1410/2000 [00:00<00:00, 3681.59it/s]\u001b[A\n",
            "Processing fermi levels for temp 1200 K:  89%|████████▉ | 1779/2000 [00:00<00:00, 3590.55it/s]\u001b[A\n",
            "Processing temperatures:  91%|█████████ | 10/11 [00:05<00:00,  1.70it/s]\n",
            "Processing fermi levels for temp 1300 K:   0%|          | 0/2000 [00:00<?, ?it/s]\u001b[A\n",
            "Processing fermi levels for temp 1300 K:  21%|██        | 415/2000 [00:00<00:00, 4141.70it/s]\u001b[A\n",
            "Processing fermi levels for temp 1300 K:  42%|████▏     | 830/2000 [00:00<00:00, 3580.12it/s]\u001b[A\n",
            "Processing fermi levels for temp 1300 K:  60%|█████▉    | 1193/2000 [00:00<00:00, 3302.73it/s]\u001b[A\n",
            "Processing fermi levels for temp 1300 K:  80%|███████▉  | 1590/2000 [00:00<00:00, 3536.18it/s]\u001b[A\n",
            "Processing fermi levels for temp 1300 K:  97%|█████████▋| 1949/2000 [00:00<00:00, 3524.82it/s]\u001b[A\n",
            "Processing temperatures: 100%|██████████| 11/11 [00:06<00:00,  1.75it/s]\n",
            "Processing temperatures:   0%|          | 0/11 [00:00<?, ?it/s]\n",
            "Processing fermi levels for temp 300 K:   0%|          | 0/2000 [00:00<?, ?it/s]\u001b[A\n",
            "Processing fermi levels for temp 300 K:  18%|█▊        | 370/2000 [00:00<00:00, 3698.56it/s]\u001b[A\n",
            "Processing fermi levels for temp 300 K:  38%|███▊      | 750/2000 [00:00<00:00, 3754.52it/s]\u001b[A\n",
            "Processing fermi levels for temp 300 K:  58%|█████▊    | 1151/2000 [00:00<00:00, 3868.86it/s]\u001b[A\n",
            "Processing fermi levels for temp 300 K:  77%|███████▋  | 1538/2000 [00:00<00:00, 3383.94it/s]\u001b[A\n",
            "Processing fermi levels for temp 300 K:  94%|█████████▍| 1885/2000 [00:00<00:00, 2898.76it/s]\u001b[A\n",
            "Processing temperatures:   9%|▉         | 1/11 [00:00<00:06,  1.50it/s]\n",
            "Processing fermi levels for temp 400 K:   0%|          | 0/2000 [00:00<?, ?it/s]\u001b[A\n",
            "Processing fermi levels for temp 400 K:  11%|█▏        | 225/2000 [00:00<00:00, 2243.43it/s]\u001b[A\n",
            "Processing fermi levels for temp 400 K:  22%|██▎       | 450/2000 [00:00<00:00, 1983.99it/s]\u001b[A\n",
            "Processing fermi levels for temp 400 K:  33%|███▎      | 651/2000 [00:00<00:00, 1874.31it/s]\u001b[A\n",
            "Processing fermi levels for temp 400 K:  43%|████▎     | 854/2000 [00:00<00:00, 1929.54it/s]\u001b[A\n",
            "Processing fermi levels for temp 400 K:  54%|█████▍    | 1088/2000 [00:00<00:00, 2068.99it/s]\u001b[A\n",
            "Processing fermi levels for temp 400 K:  67%|██████▋   | 1349/2000 [00:00<00:00, 2244.20it/s]\u001b[A\n",
            "Processing fermi levels for temp 400 K:  79%|███████▉  | 1586/2000 [00:00<00:00, 2282.47it/s]\u001b[A\n",
            "Processing fermi levels for temp 400 K:  92%|█████████▏| 1834/2000 [00:00<00:00, 2343.15it/s]\u001b[A\n",
            "Processing temperatures:  18%|█▊        | 2/11 [00:01<00:07,  1.21it/s]\n",
            "Processing fermi levels for temp 500 K:   0%|          | 0/2000 [00:00<?, ?it/s]\u001b[A\n",
            "Processing fermi levels for temp 500 K:  10%|▉         | 195/2000 [00:00<00:00, 1947.49it/s]\u001b[A\n",
            "Processing fermi levels for temp 500 K:  20%|█▉        | 396/2000 [00:00<00:00, 1981.37it/s]\u001b[A\n",
            "Processing fermi levels for temp 500 K:  36%|███▌      | 710/2000 [00:00<00:00, 2507.04it/s]\u001b[A\n",
            "Processing fermi levels for temp 500 K:  50%|█████     | 1000/2000 [00:00<00:00, 2632.77it/s]\u001b[A\n",
            "Processing fermi levels for temp 500 K:  63%|██████▎   | 1264/2000 [00:00<00:00, 2623.09it/s]\u001b[A\n",
            "Processing fermi levels for temp 500 K:  78%|███████▊  | 1554/2000 [00:00<00:00, 2715.50it/s]\u001b[A\n",
            "Processing fermi levels for temp 500 K:  93%|█████████▎| 1859/2000 [00:00<00:00, 2822.41it/s]\u001b[A\n",
            "Processing temperatures:  27%|██▋       | 3/11 [00:02<00:06,  1.24it/s]\n",
            "Processing fermi levels for temp 600 K:   0%|          | 0/2000 [00:00<?, ?it/s]\u001b[A\n",
            "Processing fermi levels for temp 600 K:  11%|█         | 221/2000 [00:00<00:00, 2208.96it/s]\u001b[A\n",
            "Processing fermi levels for temp 600 K:  24%|██▍       | 477/2000 [00:00<00:00, 2414.44it/s]\u001b[A\n",
            "Processing fermi levels for temp 600 K:  36%|███▌      | 719/2000 [00:00<00:00, 2181.36it/s]\u001b[A\n",
            "Processing fermi levels for temp 600 K:  47%|████▋     | 940/2000 [00:00<00:00, 2148.73it/s]\u001b[A\n",
            "Processing fermi levels for temp 600 K:  58%|█████▊    | 1157/2000 [00:00<00:00, 2009.29it/s]\u001b[A\n",
            "Processing fermi levels for temp 600 K:  70%|███████   | 1410/2000 [00:00<00:00, 2169.84it/s]\u001b[A\n",
            "Processing fermi levels for temp 600 K:  82%|████████▏ | 1639/2000 [00:00<00:00, 2206.13it/s]\u001b[A\n",
            "Processing fermi levels for temp 600 K:  94%|█████████▍| 1886/2000 [00:00<00:00, 2284.86it/s]\u001b[A\n",
            "Processing temperatures:  36%|███▋      | 4/11 [00:03<00:05,  1.18it/s]\n",
            "Processing fermi levels for temp 700 K:   0%|          | 0/2000 [00:00<?, ?it/s]\u001b[A\n",
            "Processing fermi levels for temp 700 K:  15%|█▌        | 306/2000 [00:00<00:00, 3054.50it/s]\u001b[A\n",
            "Processing fermi levels for temp 700 K:  31%|███       | 612/2000 [00:00<00:00, 2862.53it/s]\u001b[A\n",
            "Processing fermi levels for temp 700 K:  45%|████▌     | 900/2000 [00:00<00:00, 2720.78it/s]\u001b[A\n",
            "Processing fermi levels for temp 700 K:  59%|█████▊    | 1173/2000 [00:00<00:00, 2449.20it/s]\u001b[A\n",
            "Processing fermi levels for temp 700 K:  71%|███████   | 1422/2000 [00:00<00:00, 2319.41it/s]\u001b[A\n",
            "Processing fermi levels for temp 700 K:  83%|████████▎ | 1665/2000 [00:00<00:00, 2351.94it/s]\u001b[A\n",
            "Processing fermi levels for temp 700 K:  95%|█████████▌| 1902/2000 [00:00<00:00, 2334.80it/s]\u001b[A\n",
            "Processing temperatures:  45%|████▌     | 5/11 [00:04<00:05,  1.18it/s]\n",
            "Processing fermi levels for temp 800 K:   0%|          | 0/2000 [00:00<?, ?it/s]\u001b[A\n",
            "Processing fermi levels for temp 800 K:  10%|▉         | 192/2000 [00:00<00:00, 1915.66it/s]\u001b[A\n",
            "Processing fermi levels for temp 800 K:  22%|██▏       | 442/2000 [00:00<00:00, 2253.24it/s]\u001b[A\n",
            "Processing fermi levels for temp 800 K:  36%|███▌      | 712/2000 [00:00<00:00, 2455.01it/s]\u001b[A\n",
            "Processing fermi levels for temp 800 K:  48%|████▊     | 958/2000 [00:00<00:00, 2227.80it/s]\u001b[A\n",
            "Processing fermi levels for temp 800 K:  59%|█████▉    | 1184/2000 [00:00<00:00, 2228.90it/s]\u001b[A\n",
            "Processing fermi levels for temp 800 K:  70%|███████   | 1409/2000 [00:00<00:00, 2132.26it/s]\u001b[A\n",
            "Processing fermi levels for temp 800 K:  82%|████████▏ | 1649/2000 [00:00<00:00, 2212.00it/s]\u001b[A\n",
            "Processing fermi levels for temp 800 K:  94%|█████████▎| 1872/2000 [00:00<00:00, 2152.18it/s]\u001b[A\n",
            "Processing temperatures:  55%|█████▍    | 6/11 [00:05<00:04,  1.14it/s]\n",
            "Processing fermi levels for temp 900 K:   0%|          | 0/2000 [00:00<?, ?it/s]\u001b[A\n",
            "Processing fermi levels for temp 900 K:  12%|█▏        | 232/2000 [00:00<00:00, 2318.49it/s]\u001b[A\n",
            "Processing fermi levels for temp 900 K:  23%|██▎       | 464/2000 [00:00<00:00, 2179.61it/s]\u001b[A\n",
            "Processing fermi levels for temp 900 K:  35%|███▍      | 697/2000 [00:00<00:00, 2245.15it/s]\u001b[A\n",
            "Processing fermi levels for temp 900 K:  47%|████▋     | 933/2000 [00:00<00:00, 2286.26it/s]\u001b[A\n",
            "Processing fermi levels for temp 900 K:  58%|█████▊    | 1163/2000 [00:00<00:00, 2191.40it/s]\u001b[A\n",
            "Processing fermi levels for temp 900 K:  69%|██████▉   | 1383/2000 [00:00<00:00, 2015.28it/s]\u001b[A\n",
            "Processing fermi levels for temp 900 K:  79%|███████▉  | 1587/2000 [00:00<00:00, 1984.97it/s]\u001b[A\n",
            "Processing fermi levels for temp 900 K:  92%|█████████▏| 1841/2000 [00:00<00:00, 2147.42it/s]\u001b[A\n",
            "Processing temperatures:  64%|██████▎   | 7/11 [00:06<00:03,  1.11it/s]\n",
            "Processing fermi levels for temp 1000 K:   0%|          | 0/2000 [00:00<?, ?it/s]\u001b[A\n",
            "Processing fermi levels for temp 1000 K:  20%|██        | 404/2000 [00:00<00:00, 4034.19it/s]\u001b[A\n",
            "Processing fermi levels for temp 1000 K:  40%|████      | 808/2000 [00:00<00:00, 3982.09it/s]\u001b[A\n",
            "Processing fermi levels for temp 1000 K:  60%|██████    | 1207/2000 [00:00<00:00, 3686.26it/s]\u001b[A\n",
            "Processing fermi levels for temp 1000 K:  80%|████████  | 1606/2000 [00:00<00:00, 3799.06it/s]\u001b[A\n",
            "Processing fermi levels for temp 1000 K:  99%|█████████▉| 1988/2000 [00:00<00:00, 3777.96it/s]\u001b[A\n",
            "Processing temperatures:  73%|███████▎  | 8/11 [00:06<00:02,  1.27it/s]\n",
            "Processing fermi levels for temp 1100 K:   0%|          | 0/2000 [00:00<?, ?it/s]\u001b[A\n",
            "Processing fermi levels for temp 1100 K:  16%|█▌        | 315/2000 [00:00<00:00, 3146.14it/s]\u001b[A\n",
            "Processing fermi levels for temp 1100 K:  32%|███▏      | 630/2000 [00:00<00:00, 2826.21it/s]\u001b[A\n",
            "Processing fermi levels for temp 1100 K:  51%|█████     | 1015/2000 [00:00<00:00, 3265.34it/s]\u001b[A\n",
            "Processing fermi levels for temp 1100 K:  72%|███████▏  | 1430/2000 [00:00<00:00, 3598.95it/s]\u001b[A\n",
            "Processing fermi levels for temp 1100 K:  91%|█████████ | 1823/2000 [00:00<00:00, 3714.73it/s]\u001b[A\n",
            "Processing temperatures:  82%|████████▏ | 9/11 [00:07<00:01,  1.38it/s]\n",
            "Processing fermi levels for temp 1200 K:   0%|          | 0/2000 [00:00<?, ?it/s]\u001b[A\n",
            "Processing fermi levels for temp 1200 K:  20%|█▉        | 395/2000 [00:00<00:00, 3943.20it/s]\u001b[A\n",
            "Processing fermi levels for temp 1200 K:  40%|███▉      | 790/2000 [00:00<00:00, 3394.24it/s]\u001b[A\n",
            "Processing fermi levels for temp 1200 K:  59%|█████▉    | 1178/2000 [00:00<00:00, 3596.91it/s]\u001b[A\n",
            "Processing fermi levels for temp 1200 K:  77%|███████▋  | 1549/2000 [00:00<00:00, 3638.36it/s]\u001b[A\n",
            "Processing fermi levels for temp 1200 K:  96%|█████████▌| 1916/2000 [00:00<00:00, 3282.61it/s]\u001b[A\n",
            "Processing temperatures:  91%|█████████ | 10/11 [00:07<00:00,  1.45it/s]\n",
            "Processing fermi levels for temp 1300 K:   0%|          | 0/2000 [00:00<?, ?it/s]\u001b[A\n",
            "Processing fermi levels for temp 1300 K:  17%|█▋        | 332/2000 [00:00<00:00, 3317.19it/s]\u001b[A\n",
            "Processing fermi levels for temp 1300 K:  36%|███▌      | 712/2000 [00:00<00:00, 3600.07it/s]\u001b[A\n",
            "Processing fermi levels for temp 1300 K:  55%|█████▌    | 1100/2000 [00:00<00:00, 3725.53it/s]\u001b[A\n",
            "Processing fermi levels for temp 1300 K:  74%|███████▍  | 1484/2000 [00:00<00:00, 3769.48it/s]\u001b[A\n",
            "Processing fermi levels for temp 1300 K:  96%|█████████▌| 1911/2000 [00:00<00:00, 3946.86it/s]\u001b[A\n",
            "Processing temperatures: 100%|██████████| 11/11 [00:08<00:00,  1.32it/s]\n"
          ]
        }
      ]
    },
    {
      "cell_type": "code",
      "source": [
        "plt.plot(tmpr[0],fermi_0pct_heating[1])\n",
        "plt.plot(tmpr[0],fermi_1pct_heating[1])\n",
        "plt.plot(tmpr[0],fermi_5pct_heating[1])\n",
        "plt.plot(tmpr[0],fermi_5pct_cooling[1])"
      ],
      "metadata": {
        "colab": {
          "base_uri": "https://localhost:8080/",
          "height": 460
        },
        "id": "lsuCX8rewpiy",
        "outputId": "544548d5-2f6a-4423-bb26-f76ed2c296ca"
      },
      "execution_count": 133,
      "outputs": [
        {
          "output_type": "execute_result",
          "data": {
            "text/plain": [
              "[<matplotlib.lines.Line2D at 0x7c43d83de3e0>]"
            ]
          },
          "metadata": {},
          "execution_count": 133
        },
        {
          "output_type": "display_data",
          "data": {
            "text/plain": [
              "<Figure size 640x480 with 1 Axes>"
            ],
            "image/png": "[encoded data removed]"
          },
          "metadata": {}
        }
      ]
    },
    {
      "cell_type": "code",
      "source": [
        "def compute_fermi_distributions(fermi_levels, energy, temp):\n",
        "    \"\"\"\n",
        "    Compute Fermi distributions for a list of Fermi levels.\n",
        "\n",
        "    Parameters\n",
        "    ----------\n",
        "    fermi_levels : list of np.ndarray\n",
        "        List of Fermi levels for different conditions.\n",
        "    energy : np.ndarray\n",
        "        Energy levels.\n",
        "    temp : np.ndarray\n",
        "        Temperature range.\n",
        "\n",
        "    Returns\n",
        "    -------\n",
        "    list of np.ndarray\n",
        "        List of computed Fermi distributions for different conditions.\n",
        "    \"\"\"\n",
        "    return [fermi_distribution(energy=energy, fermi_level=f[1][np.newaxis, :], temp=temp)\n",
        "            for f in fermi_levels]\n",
        "\n",
        "def save_fermi_levels(fermi_levels, temps, k_B):\n",
        "    \"\"\"\n",
        "    Save Fermi levels to files with specified paths.\n",
        "\n",
        "    Parameters\n",
        "    ----------\n",
        "    fermi_levels : list of np.ndarray\n",
        "        List of Fermi levels for different conditions.\n",
        "    temps : np.ndarray\n",
        "        Temperature range.\n",
        "    k_B : float\n",
        "        Boltzmann constant.\n",
        "    \"\"\"\n",
        "    output_dir = \"Output_Files\"\n",
        "    if not os.path.exists(output_dir):\n",
        "        os.makedirs(output_dir)\n",
        "    file_paths = [\n",
        "        \"Output_Files/Ef-no-inc.out\",\n",
        "        \"Output_Files/Ef-inc-1pct.out\",\n",
        "        \"Output_Files/Ef-inc-5pct-dir-up.out\",\n",
        "        \"Output_Files/Ef-inc-5pct-dir-down.out\"\n",
        "    ]\n",
        "    for fermi_level, path in zip(fermi_levels, file_paths):\n",
        "        np.savetxt(path, fermi_level[1] / temps / k_B)\n",
        "\n",
        "fermi_levels = [fermi_0pct_heating, fermi_1pct_heating, fermi_5pct_heating, fermi_5pct_cooling]\n",
        "fermi_distributions = compute_fermi_distributions(fermi_levels, enrg, tmpr)\n",
        "\n",
        "save_fermi_levels(fermi_levels, tmpr, k_B)"
      ],
      "metadata": {
        "id": "rCU_8dYiB-yo"
      },
      "execution_count": 134,
      "outputs": []
    },
    {
      "cell_type": "code",
      "source": [
        "# Non-degenerate screening length\n",
        "def compute_screening_lengths(carriers, temp):\n",
        "    \"\"\"\n",
        "    Compute the non-degenerate screening length for different carrier concentrations.\n",
        "\n",
        "    Parameters\n",
        "    ----------\n",
        "    carriers : list of np.ndarray\n",
        "        List of carrier concentrations for different conditions.\n",
        "    temp : np.ndarray\n",
        "        Temperature range.\n",
        "    Returns\n",
        "    -------\n",
        "    list of np.ndarray\n",
        "        List of computed screening lengths for different conditions.\n",
        "    \"\"\"\n",
        "    return [np.sqrt(4 * np.pi * dielectric_constant * permittivity_vacuum * k_B / e2C * temp / carrier)\n",
        "            for carrier in carriers]\n",
        "\n",
        "carriers = [cc_0pct_heating, cc_1pct_heating, cc_5pct_heating, cc_5pct_cooling]\n",
        "\n",
        "# Compute screening lengths\n",
        "screening_lengths = compute_screening_lengths(carriers=carriers, temp=tmpr)\n",
        "non_degen_screen_len_0pct, non_degen_screen_len_1pct_dir_up, non_degen_screen_len_5pct_dir_up, non_degen_screen_len_5pct_dir_down = screening_lengths"
      ],
      "metadata": {
        "id": "RBgROvzBOocO"
      },
      "execution_count": 135,
      "outputs": []
    },
    {
      "cell_type": "code",
      "source": [
        "plt.plot(tmpr[0], non_degen_screen_len_0pct[0]*1e9)\n",
        "plt.plot(tmpr[0], non_degen_screen_len_1pct_dir_up[0]*1e9)\n",
        "plt.plot(tmpr[0], non_degen_screen_len_5pct_dir_up[0]*1e9)\n",
        "plt.plot(tmpr[0], non_degen_screen_len_5pct_dir_down[0]*1e9)"
      ],
      "metadata": {
        "colab": {
          "base_uri": "https://localhost:8080/",
          "height": 464
        },
        "id": "gz8gml6cPovx",
        "outputId": "ac36286d-6fe5-40e3-dde7-8cac8ad71784"
      },
      "execution_count": 136,
      "outputs": [
        {
          "output_type": "execute_result",
          "data": {
            "text/plain": [
              "[<matplotlib.lines.Line2D at 0x7c43d8437e80>]"
            ]
          },
          "metadata": {},
          "execution_count": 136
        },
        {
          "output_type": "display_data",
          "data": {
            "text/plain": [
              "<Figure size 640x480 with 1 Axes>"
            ],
            "image/png": "[encoded data removed]"
          },
          "metadata": {}
        }
      ]
    },
    {
      "cell_type": "code",
      "source": [
        "def compute_effective_density_of_states(temp):\n",
        "    \"\"\"\n",
        "    Compute the effective density of states Nc.\n",
        "\n",
        "    Parameters\n",
        "    ----------\n",
        "    temp : np.ndarray\n",
        "        Temperature range.\n",
        "    Returns\n",
        "    -------\n",
        "    np.ndarray\n",
        "        Effective density of states Nc.\n",
        "    \"\"\"\n",
        "    return 2 * (mass_cond * k_B * temp / h_bar**2 / (2 * np.pi) / e2C)**(3./2)\n",
        "mass_cond = 0.23 * electron_mass * (1 + 5 * nonparabolic_term * k_B * tmpr)\n",
        "Nc = compute_effective_density_of_states(temp=tmpr)\n",
        "plt.plot(tmpr[0], Nc[0]*1e-25)"
      ],
      "metadata": {
        "colab": {
          "base_uri": "https://localhost:8080/",
          "height": 460
        },
        "id": "eASGBU21P_k_",
        "outputId": "f49e4788-0717-45dd-c24f-7032ae88aba7"
      },
      "execution_count": 137,
      "outputs": [
        {
          "output_type": "execute_result",
          "data": {
            "text/plain": [
              "[<matplotlib.lines.Line2D at 0x7c43d849af50>]"
            ]
          },
          "metadata": {},
          "execution_count": 137
        },
        {
          "output_type": "display_data",
          "data": {
            "text/plain": [
              "<Figure size 640x480 with 1 Axes>"
            ],
            "image/png": "[encoded data removed]"
          },
          "metadata": {}
        }
      ]
    },
    {
      "cell_type": "code",
      "source": [
        "# Load Fermi energy levels from files\n",
        "Ef_0pct = np.loadtxt(\"Output_Files/Ef-no-inc.out\")\n",
        "Ef_1pct = np.loadtxt(\"Output_Files/Ef-inc-1pct.out\")\n",
        "Ef_5pct_dir_up = np.loadtxt(\"Output_Files/Ef-inc-5pct-dir-up.out\")\n",
        "Ef_5pct_dir_down = np.loadtxt(\"Output_Files/Ef-inc-5pct-dir-down.out\")\n",
        "\n",
        "# Ef_0pct\n",
        "f1_0pct = [fermi(0.5, eta) for eta in Ef_0pct]\n",
        "f2_0pct = [fermi(-0.5, eta) for eta in Ef_0pct]\n",
        "np.savetxt('Output_Files/fermi-0pct.out', np.vstack([f1_0pct, f2_0pct]))\n",
        "\n",
        "# Ef_1pct\n",
        "f1_1pct = [fermi(0.5, eta) for eta in Ef_1pct]\n",
        "f2_1pct = [fermi(-0.5, eta) for eta in Ef_1pct]\n",
        "\n",
        "np.savetxt('Output_Files/fermi-1pct.out', np.vstack([f1_1pct, f2_1pct]))\n",
        "\n",
        "# Ef_5pct_dir_up\n",
        "f1_5pct_dir_up = [fermi(0.5, eta) for eta in Ef_5pct_dir_up]\n",
        "f2_5pct_dir_up = [fermi(-0.5, eta) for eta in Ef_5pct_dir_up]\n",
        "np.savetxt('Output_Files/fermi-5pct-dir-up.out', np.vstack([f1_5pct_dir_up, f2_5pct_dir_up]))\n",
        "\n",
        "# Ef_5pct_dir_down\n",
        "f1_5pct_dir_down = [fermi(0.5, eta) for eta in Ef_5pct_dir_down]\n",
        "f2_5pct_dir_down = [fermi(-0.5, eta) for eta in Ef_5pct_dir_down]\n",
        "np.savetxt('Output_Files/fermi-5pct-dir-down.out', np.vstack([f1_5pct_dir_down, f2_5pct_dir_down]))"
      ],
      "metadata": {
        "id": "5aL3K0vMsALu"
      },
      "execution_count": 138,
      "outputs": []
    },
    {
      "cell_type": "code",
      "source": [
        "def load_fermi_data(file_paths, delimiter=None):\n",
        "    \"\"\"\n",
        "    Load Fermi level data from specified file paths.\n",
        "\n",
        "    Parameters\n",
        "    ----------\n",
        "    file_paths : list of str\n",
        "        List of file paths to load data from.\n",
        "    delimiter : str, optional\n",
        "        Delimiter used in the files (default is ',').\n",
        "\n",
        "    Returns\n",
        "    -------\n",
        "    list of np.ndarray\n",
        "        Loaded Fermi level data as a list of arrays.\n",
        "    \"\"\"\n",
        "    fermi_data = []\n",
        "    for path in file_paths:\n",
        "        try:\n",
        "            data = np.loadtxt(path, delimiter=delimiter)\n",
        "            fermi_data.append(data)\n",
        "        except Exception as e:\n",
        "            print(f\"Error loading {path}: {e}\")\n",
        "    return fermi_data\n",
        "\n",
        "# Define file paths for the Fermi level data\n",
        "fermi_file_paths = [\n",
        "    \"Output_Files/fermi-0pct.out\",\n",
        "    \"Output_Files/fermi-1pct.out\",\n",
        "    \"Output_Files/fermi-5pct-dir-up.out\",\n",
        "    \"Output_Files/fermi-5pct-dir-down.out\"\n",
        "    ]\n",
        "# Load Fermi level data\n",
        "fermi_0pct, fermi_1pct, fermi_5pct_dir_up, fermi_5pct_dir_down = load_fermi_data(fermi_file_paths)"
      ],
      "metadata": {
        "id": "82BxsLZGO78Z"
      },
      "execution_count": 139,
      "outputs": []
    },
    {
      "cell_type": "code",
      "source": [
        "# Degenerate screening length\n",
        "def calculate_screening_length(Nc, tmpr, fermi):\n",
        "    \"\"\"\n",
        "    Calculate the screening length for a given set of parameters.\n",
        "\n",
        "    Parameters\n",
        "    ----------\n",
        "    Nc : float\n",
        "        Effective density of states in the conduction band.\n",
        "    tmpr : float\n",
        "        Temperature.\n",
        "    fermi : np.ndarray\n",
        "        Fermi level data, with [0] being the Fermi energy and [1] the carrier concentration.\n",
        "\n",
        "    Returns\n",
        "    -------\n",
        "    float\n",
        "        Screening length.\n",
        "    \"\"\"\n",
        "    _ = fermi[1] + 15 * nonparabolic_term * k_B * tmpr / (4 * fermi[0])\n",
        "    screening_length = np.sqrt(1 / (Nc / dielectric_constant / permittivity_vacuum / k_B / tmpr * e2C * _))\n",
        "\n",
        "    return screening_length\n",
        "\n",
        "screen_len_0pct = calculate_screening_length(Nc, tmpr, fermi_0pct)\n",
        "screen_len_1pct = calculate_screening_length(Nc, tmpr, fermi_1pct)\n",
        "screen_len_5pct_dir_up = calculate_screening_length(Nc, tmpr, fermi_5pct_dir_up)\n",
        "screen_len_5pct_dir_down = calculate_screening_length(Nc, tmpr, fermi_5pct_dir_down)"
      ],
      "metadata": {
        "id": "5IXtUCexO9bP"
      },
      "execution_count": 140,
      "outputs": []
    },
    {
      "cell_type": "code",
      "source": [
        "plt.plot(tmpr[0], screen_len_0pct[0]*1e9)\n",
        "plt.plot(tmpr[0], screen_len_1pct[0]*1e9)\n",
        "plt.plot(tmpr[0], screen_len_5pct_dir_up[0]*1e9)\n",
        "plt.plot(tmpr[0], screen_len_5pct_dir_down[0]*1e9)"
      ],
      "metadata": {
        "colab": {
          "base_uri": "https://localhost:8080/",
          "height": 460
        },
        "id": "C7yAVRASRCxX",
        "outputId": "08cd9144-0eb7-44c2-aec4-1ac19dc77a49"
      },
      "execution_count": 141,
      "outputs": [
        {
          "output_type": "execute_result",
          "data": {
            "text/plain": [
              "[<matplotlib.lines.Line2D at 0x7c43d862cb80>]"
            ]
          },
          "metadata": {},
          "execution_count": 141
        },
        {
          "output_type": "display_data",
          "data": {
            "text/plain": [
              "<Figure size 640x480 with 1 Axes>"
            ],
            "image/png": "[encoded data removed]"
          },
          "metadata": {}
        }
      ]
    },
    {
      "cell_type": "markdown",
      "source": [
        "### Lifetimes"
      ],
      "metadata": {
        "id": "QuSEYOYSvK0t"
      }
    },
    {
      "cell_type": "code",
      "source": [
        "# params\n",
        "m_frac = np.array([0.89,0.19,0.19])                               # Si electron effective mass ratio\n",
        "ko = 2 * np.pi / lattice_parameter * np.array([0.85,0,0])         # Si conduction band valley along (1/m)\n",
        "del_k = 2 * np.pi / lattice_parameter * 0.15 * np.array([1,1,1])  # Si brillouin zone edge from valley\n",
        "uo = 1.389                                                        # SiC barrier height (eV)\n",
        "v_frac = 0.05                                                     # SiC Volume fraction\n",
        "n = 70                                                            # Number of points for meshing elipsoid\n",
        "nt = int(1e4)                                                     # Number of points for meshing ellipse\n",
        "_nk = 8\n",
        "nk = np.array([_nk,_nk,_nk])                                      # Number of kpoints along x y z"
      ],
      "metadata": {
        "id": "docp-rBKDftD"
      },
      "execution_count": 149,
      "outputs": []
    },
    {
      "cell_type": "markdown",
      "source": [
        "#### Phonon Scattering"
      ],
      "metadata": {
        "id": "iwK4BauFmB-O"
      }
    },
    {
      "cell_type": "code",
      "source": [
        "lifetime_phonon = calculate_phonon_lifetime(energy=enrg,\n",
        "                                            alpha_term=nonparabolic_term,\n",
        "                                            D_v=2.94,\n",
        "                                            D_a=9.5,\n",
        "                                            temperature=tmpr,\n",
        "                                            sound_velocity=speed_of_sound,\n",
        "                                            density_of_states=e_density,\n",
        "                                            mass_density=density,\n",
        "                                            degeneracy=degeneracy)"
      ],
      "metadata": {
        "id": "N-vkfe8eO9kE"
      },
      "execution_count": 153,
      "outputs": []
    },
    {
      "cell_type": "code",
      "source": [
        "plt.figure(figsize=(8, 5))\n",
        "plt.plot(enrg[0], lifetime_phonon['parabolic_phonon_lifetime'][0], label='Phonon Lifetime', color='b', linestyle='-', linewidth=2)\n",
        "plt.plot(enrg[0], lifetime_phonon['parabolic_phonon_lifetime'][-1], label='Phonon Lifetime', color='g', linestyle='-', linewidth=2)\n",
        "plt.plot(enrg[0], lifetime_phonon['nonparabolic_phonon_lifetime'][0], label='Phonon Lifetime', color='r', linestyle='-', linewidth=2)\n",
        "plt.plot(enrg[0], lifetime_phonon['nonparabolic_phonon_lifetime'][-1], label='Phonon Lifetime', color='c', linestyle='-', linewidth=2)\n",
        "plt.yscale('log')\n",
        "plt.xlabel('Energy (eV)', fontsize=12)\n",
        "plt.ylabel('Phonon Lifetime (s)', fontsize=12)\n",
        "plt.title('Phonon Lifetime vs Energy', fontsize=14)\n",
        "plt.grid(True, which=\"both\", ls=\"--\", linewidth=0.5)\n",
        "plt.legend()\n",
        "plt.tight_layout()\n",
        "plt.show()"
      ],
      "metadata": {
        "colab": {
          "base_uri": "https://localhost:8080/",
          "height": 479
        },
        "id": "nJfXrrEwwwGH",
        "outputId": "fa89166c-21ae-48a8-ef9b-beda411be8d7"
      },
      "execution_count": 154,
      "outputs": [
        {
          "output_type": "display_data",
          "data": {
            "text/plain": [
              "<Figure size 800x500 with 1 Axes>"
            ],
            "image/png": "[encoded data removed]"
          },
          "metadata": {}
        }
      ]
    },
    {
      "cell_type": "markdown",
      "source": [
        "#### Impurities Scattering"
      ],
      "metadata": {
        "id": "qlZw3eSsmAN4"
      }
    },
    {
      "cell_type": "code",
      "source": [
        "def calculate_impurity_lifetimes(density_of_states, screening_lengths, impurity_scatterings, dielectric_constant):\n",
        "    \"\"\"\n",
        "    Calculate screened Coulomb lifetimes for different SiC fractions during heating and cooling.\n",
        "\n",
        "    Parameters\n",
        "    ----------\n",
        "    density_of_states : np.ndarray\n",
        "        Electron density of states.\n",
        "    screening_lengths : dict\n",
        "        Dictionary of screening lengths for different SiC fractions.\n",
        "    impurity_scatterings : dict\n",
        "        Dictionary of impurity scatterings for different SiC fractions.\n",
        "    dielectric_constant : float\n",
        "        Dielectric constant of the material.\n",
        "\n",
        "    Returns\n",
        "    -------\n",
        "    dict\n",
        "        Screened Coulomb lifetimes for different SiC fractions.\n",
        "    \"\"\"\n",
        "    lifetimes = {}\n",
        "\n",
        "    for fraction, screening_length in screening_lengths.items():\n",
        "        lifetimes[f'tau_imp_{fraction}'] = calculate_screened_coulomb_lifetime(\n",
        "            density_of_states=density_of_states,\n",
        "            screening_length=screening_length,\n",
        "            impurity_scattering=impurity_scatterings[fraction],\n",
        "            dielectric_constant=dielectric_constant,\n",
        "            degeneracy=degeneracy\n",
        "        )\n",
        "\n",
        "    return lifetimes\n",
        "\n",
        "\n",
        "# Define screening lengths and impurity scatterings for different fractions\n",
        "screening_lengths = {\n",
        "    '0pct': screen_len_0pct,\n",
        "    '1pct': screen_len_1pct,\n",
        "    '5pct_heating': screen_len_5pct_dir_up,\n",
        "    '5pct_cooling': screen_len_5pct_dir_down\n",
        "    }\n",
        "\n",
        "impurity_scatterings = {\n",
        "    '0pct': cc_0pct_heating,\n",
        "    '1pct': cc_1pct_heating,\n",
        "    '5pct_heating': cc_5pct_heating,\n",
        "    '5pct_cooling': cc_5pct_cooling\n",
        "    }\n",
        "\n",
        "# Calculate impurity lifetimes for all fractions\n",
        "impurity_lifetimes = calculate_impurity_lifetimes(\n",
        "    density_of_states=e_density,\n",
        "    screening_lengths=screening_lengths,\n",
        "    impurity_scatterings=impurity_scatterings,\n",
        "    dielectric_constant=dielectric_constant\n",
        "    )\n",
        "\n",
        "tau_imp_0pct = impurity_lifetimes['tau_imp_0pct']\n",
        "tau_imp_1pct = impurity_lifetimes['tau_imp_1pct']\n",
        "tau_imp_5pct_heating = impurity_lifetimes['tau_imp_5pct_heating']\n",
        "tau_imp_5pct_cooling = impurity_lifetimes['tau_imp_5pct_cooling']"
      ],
      "metadata": {
        "id": "sBdwMhTgwJie"
      },
      "execution_count": 145,
      "outputs": []
    },
    {
      "cell_type": "code",
      "source": [
        "plt.figure(figsize=(8, 5))\n",
        "plt.plot(enrg[0], tau_imp_0pct[0], label='Impurity Lifetime', color='b', linestyle='-', linewidth=2)\n",
        "plt.plot(enrg[0], tau_imp_0pct[-1], label='Impurity Lifetime', color='g', linestyle='-', linewidth=2)\n",
        "plt.plot(enrg[0], tau_imp_5pct_heating[0], label='Impurity Lifetime', color='r', linestyle='-', linewidth=2)\n",
        "plt.plot(enrg[0], tau_imp_5pct_heating[-1], label='Impurity Lifetime', color='c', linestyle='-', linewidth=2)\n",
        "plt.yscale('log')\n",
        "plt.xlabel('Energy (eV)', fontsize=12)\n",
        "plt.ylabel('Impurity Lifetime (s)', fontsize=12)\n",
        "plt.title('Impurity Lifetime vs Energy', fontsize=14)\n",
        "plt.grid(True, which=\"both\", ls=\"--\", linewidth=0.5)\n",
        "plt.legend()\n",
        "plt.tight_layout()\n",
        "plt.show()"
      ],
      "metadata": {
        "colab": {
          "base_uri": "https://localhost:8080/",
          "height": 479
        },
        "id": "2j876ZM7CdZM",
        "outputId": "6b2dc7a6-7959-4c4f-8f5d-3f6ea314b7d6"
      },
      "execution_count": 146,
      "outputs": [
        {
          "output_type": "display_data",
          "data": {
            "text/plain": [
              "<Figure size 800x500 with 1 Axes>"
            ],
            "image/png": "[encoded data removed]"
          },
          "metadata": {}
        }
      ]
    },
    {
      "cell_type": "markdown",
      "source": [
        "#### Grain Boundary Scattering"
      ],
      "metadata": {
        "id": "3mtEpfCxqUcr"
      }
    },
    {
      "cell_type": "code",
      "source": [
        "lgb = 50e-9 # Grain boundary effective length\n",
        "doping_concentraion = 1e19 # Assume cte. doping concentraion\n",
        "trap_density = 1e13\n",
        "tau_grain_boundary = calculate_grain_boundary_scattering(trap_density=trap_density,\n",
        "                                                         doping_concentraion=cc_0pct_heating,\n",
        "                                                         relative_permittivity=dielectric_constant,\n",
        "                                                         lgb=lgb,\n",
        "                                                         nk=nk,\n",
        "                                                         m_frac=m_frac,\n",
        "                                                         ko=ko,\n",
        "                                                         del_k=del_k,\n",
        "                                                         n=n,\n",
        "                                                         enrg=enrg)"
      ],
      "metadata": {
        "id": "YeZ53qnFPDbC",
        "colab": {
          "base_uri": "https://localhost:8080/"
        },
        "collapsed": true,
        "outputId": "22c79709-cede-4075-c8f6-6140f6208d59"
      },
      "execution_count": 167,
      "outputs": [
        {
          "output_type": "stream",
          "name": "stderr",
          "text": [
            "Processing energies:   0%|          | 0/512 [00:00<?, ?it/s]<ipython-input-165-98cf690ae0a1>:73: RuntimeWarning: divide by zero encountered in divide\n",
            "  M = 4 * np.pi * ro * (zo / (1+(q_z*zo)**2))*(besselj(1, q_r*ro)/q_r)\n",
            "<ipython-input-165-98cf690ae0a1>:81: RuntimeWarning: invalid value encountered in multiply\n",
            "  f = SR / delE * (1 - cosTheta)\n",
            "Processing energies: 100%|██████████| 512/512 [03:38<00:00,  2.34it/s]\n"
          ]
        }
      ]
    },
    {
      "cell_type": "code",
      "source": [
        "plt.plot(enrg[0], np.log(tau_grain_boundary[0]))\n",
        "plt.plot(enrg[0], np.log(tau_grain_boundary[-1]))"
      ],
      "metadata": {
        "colab": {
          "base_uri": "https://localhost:8080/",
          "height": 460
        },
        "id": "yBtoVT-VJzux",
        "outputId": "9c683dca-2e56-4113-f980-ccadd1e5a3be"
      },
      "execution_count": 168,
      "outputs": [
        {
          "output_type": "execute_result",
          "data": {
            "text/plain": [
              "[<matplotlib.lines.Line2D at 0x7c43d0d884c0>]"
            ]
          },
          "metadata": {},
          "execution_count": 168
        },
        {
          "output_type": "display_data",
          "data": {
            "text/plain": [
              "<Figure size 640x480 with 1 Axes>"
            ],
            "image/png": "[encoded data removed]"
          },
          "metadata": {}
        }
      ]
    },
    {
      "cell_type": "markdown",
      "source": [
        "#### Nanoparticles Scattering"
      ],
      "metadata": {
        "id": "InzYPR4immUp"
      }
    },
    {
      "cell_type": "markdown",
      "source": [
        "##### Spherical Particles"
      ],
      "metadata": {
        "id": "b6EEiktqq1yA"
      }
    },
    {
      "cell_type": "code",
      "source": [
        "ro = 3e-9 # Spherical particles radius (m)\n",
        "tau_spherical_particles = calculate_finite_spherical_scattering(ro=ro,\n",
        "                                                                nk=nk,\n",
        "                                                                uo=uo,\n",
        "                                                                m_frac=m_frac,\n",
        "                                                                v_frac=v_frac,\n",
        "                                                                ko=ko,\n",
        "                                                                del_k=del_k,\n",
        "                                                                n=n,\n",
        "                                                                enrg=enrg)"
      ],
      "metadata": {
        "colab": {
          "base_uri": "https://localhost:8080/"
        },
        "id": "S2Hw26JzqDkd",
        "outputId": "41b9e22a-00fe-4c4a-90d1-d668b799012c"
      },
      "execution_count": 152,
      "outputs": [
        {
          "output_type": "stream",
          "name": "stderr",
          "text": [
            "Processing energies:   0%|          | 0/512 [00:00<?, ?it/s]<ipython-input-115-7ea2798811db>:62: RuntimeWarning: divide by zero encountered in divide\n",
            "  M = 4 * np.pi * uo * (1.0 / q * np.sin(ro * q) - ro * np.cos(ro * q)) / q**2\n",
            "<ipython-input-115-7ea2798811db>:62: RuntimeWarning: invalid value encountered in multiply\n",
            "  M = 4 * np.pi * uo * (1.0 / q * np.sin(ro * q) - ro * np.cos(ro * q)) / q**2\n",
            "Processing energies: 100%|██████████| 512/512 [03:55<00:00,  2.17it/s]\n"
          ]
        }
      ]
    },
    {
      "cell_type": "markdown",
      "source": [
        "##### Clyndrical Particles"
      ],
      "metadata": {
        "id": "OlaWEKGmq9gX"
      }
    },
    {
      "cell_type": "code",
      "source": [
        "ho = 4/3 * ro                                                     # Clyndrical particles height (m)\n",
        "tau_cylindrical_particles = calculate_finite_cylindrical_scattering(ho, ro, nk, uo, m_frac, v_frac,\n",
        "                                                                   ko, del_k, n, engr)"
      ],
      "metadata": {
        "id": "InLRWEjeqIJY",
        "colab": {
          "base_uri": "https://localhost:8080/"
        },
        "outputId": "8f0a3633-2fb4-42fe-f14e-8eac81d976e3"
      },
      "execution_count": null,
      "outputs": [
        {
          "output_type": "stream",
          "name": "stderr",
          "text": [
            "Processing energies:   0%|          | 0/729 [00:00<?, ?it/s]<ipython-input-64-7ab834ba4929>:64: RuntimeWarning: divide by zero encountered in divide\n",
            "  M = 4 * np.pi * uo * ro * J / qr * (np.sin(ho * qz / 2) / qz)\n",
            "<ipython-input-64-7ab834ba4929>:64: RuntimeWarning: invalid value encountered in divide\n",
            "  M = 4 * np.pi * uo * ro * J / qr * (np.sin(ho * qz / 2) / qz)\n",
            "Processing energies: 100%|██████████| 729/729 [00:29<00:00, 24.53it/s]\n"
          ]
        }
      ]
    },
    {
      "cell_type": "markdown",
      "source": [
        "##### Cubic Particles"
      ],
      "metadata": {
        "id": "R0egsaX_rEUE"
      }
    },
    {
      "cell_type": "code",
      "source": [
        "len = (4/3 * np.pi * ro**3)**(1/3) * np.array([1,1,1])           # Cubic particles length (m)\n",
        "tau_cubic_particles = calculate_finite_cubic_scattering(len, nk, uo, m_frac, v_frac,\n",
        "                                                        ko, del_k, n, engr)"
      ],
      "metadata": {
        "id": "NWLPEcNLqILs",
        "colab": {
          "base_uri": "https://localhost:8080/"
        },
        "outputId": "9a0c26f6-c650-4a9b-905d-3eca1b006adc"
      },
      "execution_count": null,
      "outputs": [
        {
          "output_type": "stream",
          "name": "stderr",
          "text": [
            "Processing energies:   0%|          | 0/64 [00:00<?, ?it/s]<ipython-input-131-eedeb3b7322b>:59: RuntimeWarning: invalid value encountered in divide\n",
            "  M = 8 * uo * (np.sin(len[0] * qx / 2) / qx) * \\\n",
            "<ipython-input-131-eedeb3b7322b>:60: RuntimeWarning: invalid value encountered in divide\n",
            "  (np.sin(len[1] * qy / 2) / qy) * \\\n",
            "<ipython-input-131-eedeb3b7322b>:61: RuntimeWarning: invalid value encountered in divide\n",
            "  (np.sin(len[2] * qz / 2) / qz)\n",
            "Processing energies: 100%|██████████| 64/64 [00:03<00:00, 16.25it/s]\n"
          ]
        }
      ]
    },
    {
      "cell_type": "code",
      "source": [
        "tau_cubic_particles"
      ],
      "metadata": {
        "colab": {
          "base_uri": "https://localhost:8080/"
        },
        "id": "cSVqkytBEhoO",
        "outputId": "431e1442-27b8-43c0-b1f3-b8440704d1af"
      },
      "execution_count": null,
      "outputs": [
        {
          "output_type": "execute_result",
          "data": {
            "text/plain": [
              "array([[1.64414263e-12, 1.63907356e-12, 1.63401429e-12, ...,\n",
              "        8.82883562e-14, 8.81795073e-14, 8.80715468e-14]])"
            ]
          },
          "metadata": {},
          "execution_count": 133
        }
      ]
    },
    {
      "cell_type": "code",
      "source": [
        "_tau_np = np.loadtxt('Lifetime_Data/lifetime_np.out', delimiter=None, skiprows=0)\n",
        "_engr_np = np.loadtxt('Lifetime_Data/energy_np.out', delimiter=None, skiprows=0)"
      ],
      "metadata": {
        "id": "SW27zJY-IhqV"
      },
      "execution_count": null,
      "outputs": []
    },
    {
      "cell_type": "code",
      "source": [
        "plt.plot(engr[0], np.log(tau_spherical_particles[0]*1e15), 'o')\n",
        "plt.plot(engr[0], np.log(tau_cylindrical_particles[0]*1e15), 'o')\n",
        "plt.plot(engr[0], np.log(tau_cubic_particles[0]*1e15), 'o')\n",
        "# plt.plot(_engr_np, np.log(_tau_np[2]), 'o')"
      ],
      "metadata": {
        "colab": {
          "base_uri": "https://localhost:8080/",
          "height": 518
        },
        "id": "nKz50t_DEf6G",
        "outputId": "c6068e41-75ae-4cbd-ab55-eb1b5701a06a"
      },
      "execution_count": null,
      "outputs": [
        {
          "output_type": "execute_result",
          "data": {
            "text/plain": [
              "[<matplotlib.lines.Line2D at 0x7fdb1d18b640>]"
            ]
          },
          "metadata": {},
          "execution_count": 135
        },
        {
          "output_type": "display_data",
          "data": {
            "text/plain": [
              "<Figure size 800x550 with 1 Axes>"
            ],
            "image/png": "[encoded data removed]"
          },
          "metadata": {}
        }
      ]
    },
    {
      "cell_type": "code",
      "source": [
        "_tau_np = np.loadtxt('Lifetime_Data/lifetime_np.out', delimiter=None, skiprows=0)\n",
        "_engr_np = np.loadtxt('Lifetime_Data/energy_np.out', delimiter=None, skiprows=0)\n",
        "\n",
        "energy_np, idx_energy_np, rtrn_idx_energy_np = np.unique(_engr_np, return_index = True, return_inverse = True)\n",
        "tau_np_accum = accum(rtrn_idx_energy_np, _tau_np[1], func = np.mean, dtype = float)\n",
        "tau_np_interpolator = Interpolator(energy_np[1:], tau_np_accum[1:])\n",
        "tau_np = tau_np_interpolator(engr)"
      ],
      "metadata": {
        "id": "-EDrmaz7PBT6"
      },
      "execution_count": null,
      "outputs": []
    },
    {
      "cell_type": "markdown",
      "source": [
        "#### Extended Particles"
      ],
      "metadata": {
        "id": "nYNq8FfLNnzd"
      }
    },
    {
      "cell_type": "markdown",
      "source": [
        "##### Clyndrical"
      ],
      "metadata": {
        "id": "zwossIwLsrAk"
      }
    },
    {
      "cell_type": "code",
      "source": [
        "ro = 4*1e-9 # Cylinder radius (m)\n",
        "tau_inf_cylindrical_particles = calculate_inf_cylinder_scattering(ro=ro, nk=nk, uo=uo, mass_fraction=m_frac,\n",
        "                                                                  v_frac=v_frac, ko=ko, del_k=del_k, n=nt, engr=engr)"
      ],
      "metadata": {
        "id": "gy7GgjtfZg5o",
        "colab": {
          "base_uri": "https://localhost:8080/"
        },
        "outputId": "f7b8cc45-d6db-4348-99ee-b539e1a93b6f"
      },
      "execution_count": 64,
      "outputs": [
        {
          "output_type": "stream",
          "name": "stderr",
          "text": [
            "<ipython-input-27-a361e8fd978f>:58: RuntimeWarning: invalid value encountered in divide\n",
            "  cos_theta = (kx_cos_t * kpoints[:, 0, np.newaxis] +\n",
            "<ipython-input-27-a361e8fd978f>:81: DeprecationWarning: 'scipy.integrate.trapz' is deprecated in favour of 'scipy.integrate.trapezoid' and will be removed in SciPy 1.14.0\n",
            "  integrated_func = trapz(func, t, axis=1)\n"
          ]
        }
      ]
    },
    {
      "cell_type": "code",
      "source": [
        "plt.plot(engr[0], tau_inf_cylindrical_particles[0],'o')"
      ],
      "metadata": {
        "colab": {
          "base_uri": "https://localhost:8080/",
          "height": 542
        },
        "id": "xHX8p3CWTsJD",
        "outputId": "2b77c06a-b4a0-40b2-b633-7d5837f2d6a9"
      },
      "execution_count": 65,
      "outputs": [
        {
          "output_type": "execute_result",
          "data": {
            "text/plain": [
              "[<matplotlib.lines.Line2D at 0x7b9caf861750>]"
            ]
          },
          "metadata": {},
          "execution_count": 65
        },
        {
          "output_type": "display_data",
          "data": {
            "text/plain": [
              "<Figure size 800x550 with 1 Axes>"
            ],
            "image/png": "[encoded data removed]"
          },
          "metadata": {}
        }
      ]
    },
    {
      "cell_type": "markdown",
      "source": [
        "##### Cubic"
      ],
      "metadata": {
        "id": "Ds7O4dezuNQ6"
      }
    },
    {
      "cell_type": "code",
      "source": [
        "lens = 4 * 1e-9 * np.array([1,2]) # Cube lengths (m)\n",
        "tau_inf_cubic_particles = calculate_inf_cubic_scattering(len=lens, nk=nk, uo=uo, mass_fraction=m_frac,\n",
        "                                                               v_frac=v_frac, ko=ko, del_k=del_k, n=nt, engr=engr)"
      ],
      "metadata": {
        "colab": {
          "base_uri": "https://localhost:8080/"
        },
        "id": "pBaQX8lkuQyW",
        "outputId": "fff5cfcb-3f1d-41bb-add0-9c0d85f51e4d"
      },
      "execution_count": 129,
      "outputs": [
        {
          "output_type": "stream",
          "name": "stderr",
          "text": [
            "<ipython-input-128-801770a03503>:55: RuntimeWarning: invalid value encountered in divide\n",
            "  cos_theta = (kx_cos_t * kpoints[:, 0, np.newaxis] +\n",
            "<ipython-input-128-801770a03503>:73: RuntimeWarning: invalid value encountered in divide\n",
            "  SR = 2 * np.pi / h_bar * uo**2 * (np.sin(len[0] * qx / 2) / qx)**2 * (np.sin(len[1] * qy / 2) / qy)**2\n",
            "<ipython-input-128-801770a03503>:76: DeprecationWarning: 'scipy.integrate.trapz' is deprecated in favour of 'scipy.integrate.trapezoid' and will be removed in SciPy 1.14.0\n",
            "  integrated_func = trapz(func, t, axis=1)\n"
          ]
        }
      ]
    },
    {
      "cell_type": "code",
      "source": [
        "plt.plot(engr[0], tau_inf_cubic_particles[0],'o')"
      ],
      "metadata": {
        "colab": {
          "base_uri": "https://localhost:8080/",
          "height": 542
        },
        "id": "oHtzf1tLumzc",
        "outputId": "9d0650e8-ae82-4ebb-da58-9dcc383867ae"
      },
      "execution_count": 130,
      "outputs": [
        {
          "output_type": "execute_result",
          "data": {
            "text/plain": [
              "[<matplotlib.lines.Line2D at 0x793271223040>]"
            ]
          },
          "metadata": {},
          "execution_count": 130
        },
        {
          "output_type": "display_data",
          "data": {
            "text/plain": [
              "<Figure size 800x550 with 1 Axes>"
            ],
            "image/png": "[encoded data removed]"
          },
          "metadata": {}
        }
      ]
    },
    {
      "cell_type": "markdown",
      "source": [
        "##### Prism"
      ],
      "metadata": {
        "id": "7M33mmSUuWoQ"
      }
    },
    {
      "cell_type": "code",
      "source": [
        "len = 4 * 1e-9 # Prism length (m)\n",
        "h = 3 * 1e-9 # Prism height (m)\n",
        "tau_inf_prism_particles = calculate_inf_prism_scattering(len=len, h=h, nk=nk, uo=uo, mass_fraction=m_frac,\n",
        "                                                               v_frac=v_frac, ko=ko, del_k=del_k, n=nt, engr=engr)"
      ],
      "metadata": {
        "colab": {
          "base_uri": "https://localhost:8080/"
        },
        "id": "VY8l3p_q4eCR",
        "outputId": "cc9ab732-8d19-4356-9324-2b55283808bf"
      },
      "execution_count": 138,
      "outputs": [
        {
          "output_type": "stream",
          "name": "stderr",
          "text": [
            "<ipython-input-133-1cb8271b1ff6>:57: RuntimeWarning: invalid value encountered in divide\n",
            "  cos_theta = (kx_cos_t * kpoints[:, 0, np.newaxis] +\n",
            "<ipython-input-133-1cb8271b1ff6>:76: RuntimeWarning: divide by zero encountered in divide\n",
            "  _M = -1*((np.exp((len * qx * 1j) / 2) * 1j - 1j) * 1j) / (qx * qy) + \\\n",
            "<ipython-input-133-1cb8271b1ff6>:77: RuntimeWarning: divide by zero encountered in divide\n",
            "  (len * (np.exp((len * qx * 1j) / 2) * np.exp(h * qy * 1j) * 1j - 1j) * 1j) / (qy * (len * qx + 2 * h * qy)) + \\\n",
            "<ipython-input-133-1cb8271b1ff6>:76: RuntimeWarning: invalid value encountered in add\n",
            "  _M = -1*((np.exp((len * qx * 1j) / 2) * 1j - 1j) * 1j) / (qx * qy) + \\\n",
            "<ipython-input-133-1cb8271b1ff6>:78: RuntimeWarning: divide by zero encountered in divide\n",
            "  (np.exp((len * qx * 3j) / 4) * np.sin((len * qx) / 4) * 2j) / (qx * qy) + \\\n",
            "<ipython-input-133-1cb8271b1ff6>:79: RuntimeWarning: divide by zero encountered in divide\n",
            "  (len * np.exp((len * qx * 1j) / 2) * (np.exp((len * qx * 1j) / 2) * 1j - np.exp(h * qy * 1j) * 1j) * 1j) / \\\n",
            "<ipython-input-133-1cb8271b1ff6>:88: DeprecationWarning: 'scipy.integrate.trapz' is deprecated in favour of 'scipy.integrate.trapezoid' and will be removed in SciPy 1.14.0\n",
            "  integrated_func = trapz(func, t, axis=1)\n",
            "<ipython-input-133-1cb8271b1ff6>:91: RuntimeWarning: invalid value encountered in divide\n",
            "  relaxation_time = 1/(N / (2 * np.pi)**3 * integrated_func) * eV2J\n",
            "<ipython-input-72-2e4146ad1ff4>:103: ComplexWarning: Casting complex values to real discards the imaginary part\n",
            "  out[s] = func(vals[s])\n"
          ]
        }
      ]
    },
    {
      "cell_type": "code",
      "source": [
        "plt.plot(engr[0], np.log(tau_inf_prism_particles[0]*1e15),'o')"
      ],
      "metadata": {
        "colab": {
          "base_uri": "https://localhost:8080/",
          "height": 555
        },
        "id": "kn94RpwU5RWJ",
        "outputId": "ee52e1fe-3606-47de-ac68-74998803a91a"
      },
      "execution_count": 139,
      "outputs": [
        {
          "output_type": "stream",
          "name": "stderr",
          "text": [
            "<ipython-input-139-a939d0c10a10>:1: RuntimeWarning: invalid value encountered in log\n",
            "  plt.plot(engr[0], np.log(tau_inf_prism_particles[0]*1e15),'o')\n"
          ]
        },
        {
          "output_type": "execute_result",
          "data": {
            "text/plain": [
              "[<matplotlib.lines.Line2D at 0x79322d05dd20>]"
            ]
          },
          "metadata": {},
          "execution_count": 139
        },
        {
          "output_type": "display_data",
          "data": {
            "text/plain": [
              "<Figure size 800x550 with 1 Axes>"
            ],
            "image/png": "[encoded data removed]"
          },
          "metadata": {}
        }
      ]
    },
    {
      "cell_type": "markdown",
      "source": [
        "### Compute Properties"
      ],
      "metadata": {
        "id": "CDTiGZzimvkk"
      }
    },
    {
      "cell_type": "markdown",
      "source": [
        "Lifetime"
      ],
      "metadata": {
        "id": "GCZjEy8oOkMV"
      }
    },
    {
      "cell_type": "code",
      "execution_count": 176,
      "metadata": {
        "id": "mY5nSw17NXL_"
      },
      "outputs": [],
      "source": [
        "tau_0pct = matthiessen(enrg,\n",
        "                       lifetime_phonon['parabolic_phonon_lifetime'],\n",
        "                       tau_imp_0pct,\n",
        "                       tau_grain_boundary)\n",
        "\n",
        "tau_1pct = matthiessen(enrg,\n",
        "                       lifetime_phonon['parabolic_phonon_lifetime'],\n",
        "                       tau_imp_1pct,\n",
        "                       tau_grain_boundary)\n",
        "\n",
        "tau_5pct_heating = matthiessen(enrg,\n",
        "                               lifetime_phonon['parabolic_phonon_lifetime'],\n",
        "                               tau_imp_5pct_heating,\n",
        "                               tau_grain_boundary)\n",
        "\n",
        "tau_5pct_cooling = matthiessen(enrg,\n",
        "                               lifetime_phonon['parabolic_phonon_lifetime'],\n",
        "                               tau_imp_5pct_cooling,\n",
        "                               tau_grain_boundary)"
      ]
    },
    {
      "cell_type": "markdown",
      "source": [
        "Electrical properties"
      ],
      "metadata": {
        "id": "u-huK6y6OsHu"
      }
    },
    {
      "cell_type": "code",
      "source": [
        "prop_0pct = electrical_properties(E=enrg, DoS=e_density, vg=grp_velocity, Ef=fermi_0pct_heating[1][np.newaxis, :],\n",
        "                                  dfdE=fermi_distributions[0][1], temp=tmpr, tau=tau_0pct)\n",
        "prop_1pct = electrical_properties(E=enrg, DoS=e_density, vg=grp_velocity, Ef=fermi_1pct_heating[1][np.newaxis, :],\n",
        "                                  dfdE=fermi_distributions[1][1], temp=tmpr, tau=tau_0pct)\n",
        "prop_5pct_dir_up = electrical_properties(E=enrg, DoS=e_density, vg=grp_velocity, Ef=fermi_5pct_heating[1][np.newaxis, :],\n",
        "                                         dfdE=fermi_distributions[2][1], temp=tmpr, tau=tau_0pct)\n",
        "prop_5pct_dir_down = electrical_properties(E=enrg, DoS=e_density, vg=grp_velocity, Ef=fermi_5pct_cooling[1][np.newaxis, :],\n",
        "                                           dfdE=fermi_distributions[3][1], temp=tmpr, tau=tau_0pct)"
      ],
      "metadata": {
        "id": "ss3EmDs9ebBY"
      },
      "execution_count": 196,
      "outputs": []
    },
    {
      "cell_type": "code",
      "source": [
        "exec(open('./figs.py').read())"
      ],
      "metadata": {
        "id": "7L-vWbUp2IYr"
      },
      "execution_count": null,
      "outputs": []
    }
  ]
}